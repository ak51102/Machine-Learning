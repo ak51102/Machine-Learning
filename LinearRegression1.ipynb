{
  "nbformat": 4,
  "nbformat_minor": 0,
  "metadata": {
    "colab": {
      "name": "LinearRegression1.ipynb",
      "provenance": [],
      "private_outputs": true,
      "authorship_tag": "ABX9TyMZqNspN+i7fo2MLRTWnqAm",
      "include_colab_link": true
    },
    "kernelspec": {
      "name": "python3",
      "display_name": "Python 3"
    }
  },
  "cells": [
    {
      "cell_type": "markdown",
      "metadata": {
        "id": "view-in-github",
        "colab_type": "text"
      },
      "source": [
        "<a href=\"https://colab.research.google.com/github/cagBRT/Machine-Learning/blob/master/LinearRegression1.ipynb\" target=\"_parent\"><img src=\"https://colab.research.google.com/assets/colab-badge.svg\" alt=\"Open In Colab\"/></a>"
      ]
    },
    {
      "cell_type": "code",
      "metadata": {
        "id": "8vABCTagXbj_",
        "colab_type": "code",
        "colab": {}
      },
      "source": [
        "import numpy as np\n",
        "import matplotlib.pyplot as plt\n",
        "from sklearn.linear_model import LinearRegression"
      ],
      "execution_count": 0,
      "outputs": []
    },
    {
      "cell_type": "code",
      "metadata": {
        "id": "4X_7Z2fnXYNd",
        "colab_type": "code",
        "colab": {}
      },
      "source": [
        "X_train = np.array([[1, 1],[2, 3],[3, 2],[4, 4],[8,10],[1.5,2.4],[5,6],[5,7],[1,3],[10,8],[1,4]])\n",
        "y_train = np.array([1,3,7,6,9,7,5,10,2,11,6])"
      ],
      "execution_count": 0,
      "outputs": []
    },
    {
      "cell_type": "code",
      "metadata": {
        "id": "zxjXumXhXhFU",
        "colab_type": "code",
        "colab": {}
      },
      "source": [
        "xplot, yplot = X_train.T\n",
        "plt.scatter(xplot,yplot)\n",
        "plt.scatter(xplot, y_train, color='red', linewidth=2)\n",
        "plt.show()"
      ],
      "execution_count": 0,
      "outputs": []
    },
    {
      "cell_type": "markdown",
      "metadata": {
        "id": "EqReD2tDZ6qx",
        "colab_type": "text"
      },
      "source": [
        "The linear regression model finds the best value for the intercept and slope, which results in a line that best fits the data."
      ]
    },
    {
      "cell_type": "code",
      "metadata": {
        "id": "TyTWw3ptXfOC",
        "colab_type": "code",
        "colab": {}
      },
      "source": [
        "reg = LinearRegression().fit(X_train, y_train)"
      ],
      "execution_count": 0,
      "outputs": []
    },
    {
      "cell_type": "code",
      "metadata": {
        "id": "UGRmxr7dZUbD",
        "colab_type": "code",
        "colab": {}
      },
      "source": [
        "print(reg.coef_)\n",
        "print(reg.intercept_)\n",
        "print(reg.predict(np.array([[3, 5]])))"
      ],
      "execution_count": 0,
      "outputs": []
    },
    {
      "cell_type": "code",
      "metadata": {
        "id": "r6g9OZYMdEXH",
        "colab_type": "code",
        "colab": {}
      },
      "source": [
        "x_pred = np.array([[3, 5],[10,8]])\n",
        "y_pred = reg.predict(np.array(x_pred))"
      ],
      "execution_count": 0,
      "outputs": []
    },
    {
      "cell_type": "code",
      "metadata": {
        "id": "0dPhfVIHdvZ7",
        "colab_type": "code",
        "colab": {}
      },
      "source": [
        "xpred, ypred = x_pred.T"
      ],
      "execution_count": 0,
      "outputs": []
    },
    {
      "cell_type": "code",
      "metadata": {
        "id": "sw2BI2LyacmR",
        "colab_type": "code",
        "colab": {}
      },
      "source": [
        "plt.scatter(xplot,yplot,  color='gray')\n",
        "plt.plot(xpred, ypred, color='red', linewidth=2)\n",
        "plt.show()"
      ],
      "execution_count": 0,
      "outputs": []
    }
  ]
}