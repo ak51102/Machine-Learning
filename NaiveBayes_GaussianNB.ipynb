{
  "nbformat": 4,
  "nbformat_minor": 0,
  "metadata": {
    "colab": {
      "name": "NaiveBayes-GaussianNB.ipynb",
      "provenance": [],
      "private_outputs": true,
      "authorship_tag": "ABX9TyNRmSg582Zecs2f2VDlpPst",
      "include_colab_link": true
    },
    "kernelspec": {
      "name": "python3",
      "display_name": "Python 3"
    }
  },
  "cells": [
    {
      "cell_type": "markdown",
      "metadata": {
        "id": "view-in-github",
        "colab_type": "text"
      },
      "source": [
        "<a href=\"https://colab.research.google.com/github/cagBRT/Machine-Learning/blob/master/NaiveBayes_GaussianNB.ipynb\" target=\"_parent\"><img src=\"https://colab.research.google.com/assets/colab-badge.svg\" alt=\"Open In Colab\"/></a>"
      ]
    },
    {
      "cell_type": "code",
      "metadata": {
        "id": "UH7U2eSTgUH1",
        "colab_type": "code",
        "colab": {}
      },
      "source": [
        "# load the iris dataset \n",
        "from sklearn.datasets import load_iris \n",
        "iris = load_iris() "
      ],
      "execution_count": 0,
      "outputs": []
    },
    {
      "cell_type": "code",
      "metadata": {
        "id": "p_SmsQa12qPs",
        "colab_type": "code",
        "colab": {}
      },
      "source": [
        "# store the feature matrix (X) and response vector (y) \n",
        "X = iris.data \n",
        "y = iris.target "
      ],
      "execution_count": 0,
      "outputs": []
    },
    {
      "cell_type": "code",
      "metadata": {
        "id": "Of2YiEy6gaHM",
        "colab_type": "code",
        "colab": {}
      },
      "source": [
        "# splitting X and y into training and testing sets \n",
        "from sklearn.model_selection import train_test_split \n",
        "X_train, X_test, y_train, y_test = train_test_split(X, y, test_size=0.4, random_state=1) "
      ],
      "execution_count": 0,
      "outputs": []
    },
    {
      "cell_type": "code",
      "metadata": {
        "id": "69NGmk2jgc7Q",
        "colab_type": "code",
        "colab": {}
      },
      "source": [
        "# training the model on training set \n",
        "from sklearn.naive_bayes import GaussianNB \n",
        "gnb = GaussianNB() \n",
        "gnb.fit(X_train, y_train) "
      ],
      "execution_count": 0,
      "outputs": []
    },
    {
      "cell_type": "code",
      "metadata": {
        "id": "LDTz61EUgfEo",
        "colab_type": "code",
        "colab": {}
      },
      "source": [
        "# making predictions on the testing set \n",
        "y_pred = gnb.predict(X_test) "
      ],
      "execution_count": 0,
      "outputs": []
    },
    {
      "cell_type": "code",
      "metadata": {
        "id": "MssAWcOVgif7",
        "colab_type": "code",
        "colab": {}
      },
      "source": [
        "# comparing actual response values (y_test) with predicted response values (y_pred) \n",
        "from sklearn import metrics \n",
        "print(\"Gaussian Naive Bayes model accuracy(in %):\", metrics.accuracy_score(y_test, y_pred)*100)"
      ],
      "execution_count": 0,
      "outputs": []
    }
  ]
}