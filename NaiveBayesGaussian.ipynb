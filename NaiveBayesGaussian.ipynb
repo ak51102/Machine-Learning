{
  "nbformat": 4,
  "nbformat_minor": 0,
  "metadata": {
    "colab": {
      "name": "NaiveBayesGaussian.ipynb",
      "provenance": [],
      "private_outputs": true,
      "authorship_tag": "ABX9TyOUixL6CG/AR2V5gx33cNVo",
      "include_colab_link": true
    },
    "kernelspec": {
      "name": "python3",
      "display_name": "Python 3"
    }
  },
  "cells": [
    {
      "cell_type": "markdown",
      "metadata": {
        "id": "view-in-github",
        "colab_type": "text"
      },
      "source": [
        "<a href=\"https://colab.research.google.com/github/cagBRT/Machine-Learning/blob/master/NaiveBayesGaussian.ipynb\" target=\"_parent\"><img src=\"https://colab.research.google.com/assets/colab-badge.svg\" alt=\"Open In Colab\"/></a>"
      ]
    },
    {
      "cell_type": "code",
      "metadata": {
        "id": "b7Uf0WxFnazI",
        "colab_type": "code",
        "colab": {}
      },
      "source": [
        "!pip install -U matplotlib"
      ],
      "execution_count": 0,
      "outputs": []
    },
    {
      "cell_type": "code",
      "metadata": {
        "id": "l1ChqDsEg6hN",
        "colab_type": "code",
        "colab": {}
      },
      "source": [
        "from sklearn.datasets import make_classification\n",
        "from sklearn.naive_bayes import MultinomialNB\n",
        "from sklearn.datasets import load_digits\n",
        "from sklearn.model_selection import cross_val_score\n",
        "from sklearn.naive_bayes import GaussianNB\n",
        "from sklearn.linear_model import LogisticRegression \n",
        "from sklearn.metrics import roc_curve, auc\n",
        "from sklearn.model_selection import train_test_split\n",
        "\n",
        "import pandas as pd\n",
        "import matplotlib.pyplot as plt"
      ],
      "execution_count": 0,
      "outputs": []
    },
    {
      "cell_type": "code",
      "metadata": {
        "id": "4NUdEkLTigSJ",
        "colab_type": "code",
        "colab": {}
      },
      "source": [
        "nb_samples = 600\n",
        "X, Y = make_classification(n_samples=nb_samples, n_features=2, n_informative=2, n_redundant=0)"
      ],
      "execution_count": 0,
      "outputs": []
    },
    {
      "cell_type": "code",
      "metadata": {
        "id": "KZtXGzgCjh24",
        "colab_type": "code",
        "colab": {}
      },
      "source": [
        "plt.figure(figsize=(10,5))\n",
        "fig = plt.scatter(X[:,0],Y, marker='o', c=X[:,1], s=25)\n",
        "plt.colorbar(fig)\n",
        "plt.show()"
      ],
      "execution_count": 0,
      "outputs": []
    },
    {
      "cell_type": "code",
      "metadata": {
        "id": "UE-lH0V8izUh",
        "colab_type": "code",
        "colab": {}
      },
      "source": [
        "df = pd.DataFrame(X,Y,columns=[\"X\",\"Y\"])\n",
        "df"
      ],
      "execution_count": 0,
      "outputs": []
    },
    {
      "cell_type": "code",
      "metadata": {
        "id": "_36wQLlxkb0R",
        "colab_type": "code",
        "colab": {}
      },
      "source": [
        "X_train, X_test, Y_train, Y_test = train_test_split(X, Y, test_size=0.25)"
      ],
      "execution_count": 0,
      "outputs": []
    },
    {
      "cell_type": "code",
      "metadata": {
        "id": "p-CN-iw8kf-X",
        "colab_type": "code",
        "colab": {}
      },
      "source": [
        "gnb = GaussianNB()\n",
        "gnb.fit(X_train, Y_train)"
      ],
      "execution_count": 0,
      "outputs": []
    },
    {
      "cell_type": "code",
      "metadata": {
        "id": "FOIAadpIkkSN",
        "colab_type": "code",
        "colab": {}
      },
      "source": [
        "Y_gnb_score = gnb.predict_proba(X_test)\n",
        "#Y_gnb_score"
      ],
      "execution_count": 0,
      "outputs": []
    },
    {
      "cell_type": "code",
      "metadata": {
        "id": "47sSFpEUkvKd",
        "colab_type": "code",
        "colab": {}
      },
      "source": [
        "lr = LogisticRegression() \n",
        "lr.fit(X_train, Y_train)\n",
        "Y_lr_score = lr.decision_function(X_test)"
      ],
      "execution_count": 0,
      "outputs": []
    },
    {
      "cell_type": "code",
      "metadata": {
        "id": "ncgc83gHhDaU",
        "colab_type": "code",
        "colab": {}
      },
      "source": [
        "fpr_gnb, tpr_gnb, thresholds_gnb = roc_curve(Y_test, Y_gnb_score[:, 1])\n",
        "fpr_lr, tpr_lr, thresholds_lr = roc_curve(Y_test, Y_lr_score)"
      ],
      "execution_count": 0,
      "outputs": []
    },
    {
      "cell_type": "code",
      "metadata": {
        "id": "CZsLaUAak1Uz",
        "colab_type": "code",
        "colab": {}
      },
      "source": [
        "plt.figure(figsize=(10,5))\n",
        "plt.plot(fpr_gnb,tpr_gnb)\n",
        "plt.plot(fpr_lr,tpr_lr)\n",
        "#plt.title(\"ROC Curve\")\n",
        "plt.show()"
      ],
      "execution_count": 0,
      "outputs": []
    },
    {
      "cell_type": "code",
      "metadata": {
        "id": "qf-DLv1vhXds",
        "colab_type": "code",
        "colab": {}
      },
      "source": [
        "digits = load_digits()\n",
        "gnb = GaussianNB()\n",
        "mnb = MultinomialNB()\n",
        "\n",
        "print(cross_val_score(gnb, digits.data, digits.target, scoring='accuracy', cv=10).mean())\n",
        "print(cross_val_score(mnb, digits.data, digits.target, scoring='accuracy', cv=10).mean())"
      ],
      "execution_count": 0,
      "outputs": []
    }
  ]
}