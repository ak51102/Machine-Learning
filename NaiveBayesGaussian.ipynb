{
  "nbformat": 4,
  "nbformat_minor": 0,
  "metadata": {
    "colab": {
      "name": "NaiveBayesGaussian.ipynb",
      "provenance": [],
      "private_outputs": true,
      "authorship_tag": "ABX9TyOs5a8dfOjyRzF3UElVZP0R",
      "include_colab_link": true
    },
    "kernelspec": {
      "name": "python3",
      "display_name": "Python 3"
    }
  },
  "cells": [
    {
      "cell_type": "markdown",
      "metadata": {
        "id": "view-in-github",
        "colab_type": "text"
      },
      "source": [
        "<a href=\"https://colab.research.google.com/github/cagBRT/Machine-Learning/blob/master/NaiveBayesGaussian.ipynb\" target=\"_parent\"><img src=\"https://colab.research.google.com/assets/colab-badge.svg\" alt=\"Open In Colab\"/></a>"
      ]
    },
    {
      "cell_type": "markdown",
      "metadata": {
        "id": "XPsAufZyB2ew",
        "colab_type": "text"
      },
      "source": [
        "Install the required libraries"
      ]
    },
    {
      "cell_type": "code",
      "metadata": {
        "id": "b7Uf0WxFnazI",
        "colab_type": "code",
        "colab": {}
      },
      "source": [
        "!pip install -U matplotlib"
      ],
      "execution_count": 0,
      "outputs": []
    },
    {
      "cell_type": "code",
      "metadata": {
        "id": "l1ChqDsEg6hN",
        "colab_type": "code",
        "colab": {}
      },
      "source": [
        "from sklearn.datasets import make_classification\n",
        "from sklearn.naive_bayes import MultinomialNB\n",
        "from sklearn.datasets import load_digits\n",
        "from sklearn.model_selection import cross_val_score\n",
        "from sklearn.naive_bayes import GaussianNB\n",
        "from sklearn.linear_model import LogisticRegression \n",
        "from sklearn.metrics import roc_curve, auc\n",
        "from sklearn.model_selection import train_test_split\n",
        "\n",
        "import numpy as np\n",
        "import pandas as pd\n",
        "import matplotlib.pyplot as plt"
      ],
      "execution_count": 0,
      "outputs": []
    },
    {
      "cell_type": "markdown",
      "metadata": {
        "id": "AsELXrLdB6gi",
        "colab_type": "text"
      },
      "source": [
        "Create a data set and plot it"
      ]
    },
    {
      "cell_type": "code",
      "metadata": {
        "id": "4NUdEkLTigSJ",
        "colab_type": "code",
        "colab": {}
      },
      "source": [
        "from sklearn.datasets import make_blobs\n",
        "X, y = make_blobs(2000, 2, centers=2, random_state=2, cluster_std=1.5)\n",
        "plt.scatter(X[:, 0], X[:, 1], c=y, s=50, cmap='RdBu');"
      ],
      "execution_count": 0,
      "outputs": []
    },
    {
      "cell_type": "code",
      "metadata": {
        "id": "p-CN-iw8kf-X",
        "colab_type": "code",
        "colab": {}
      },
      "source": [
        "# splitting X and y into training and testing sets \n",
        "X_train, X_test, y_train, y_test = train_test_split(X, y, test_size=0.2, random_state=1) "
      ],
      "execution_count": 0,
      "outputs": []
    },
    {
      "cell_type": "code",
      "metadata": {
        "id": "hl7wIq3uRCww",
        "colab_type": "code",
        "colab": {}
      },
      "source": [
        "plt.figure(figsize=(10,5))\n",
        "fig = plt.scatter(X_train[:,0],y_train, marker='o', c=X_train[:,1],s=25, cmap='RdBu')\n",
        "plt.colorbar(fig)\n",
        "plt.show()"
      ],
      "execution_count": 0,
      "outputs": []
    },
    {
      "cell_type": "markdown",
      "metadata": {
        "id": "y8QuyNBvDR_m",
        "colab_type": "text"
      },
      "source": [
        "Create and train the model"
      ]
    },
    {
      "cell_type": "code",
      "metadata": {
        "id": "VD5k81y7KNoW",
        "colab_type": "code",
        "colab": {}
      },
      "source": [
        "model = GaussianNB()\n",
        "model.fit(X, y);"
      ],
      "execution_count": 0,
      "outputs": []
    },
    {
      "cell_type": "code",
      "metadata": {
        "id": "ncgc83gHhDaU",
        "colab_type": "code",
        "colab": {}
      },
      "source": [
        "ypred = model.predict_proba(X_test)\n",
        "ypredClass = ypred.round()\n",
        "print(ypredClass)"
      ],
      "execution_count": 0,
      "outputs": []
    },
    {
      "cell_type": "code",
      "metadata": {
        "id": "Zoe_uHqZMjDX",
        "colab_type": "code",
        "colab": {}
      },
      "source": [
        "plt.figure(figsize=(10,5))\n",
        "fig = plt.scatter(X_train[:,0],y_train, marker='o', c=X_train[:,1],s=25, cmap='RdBu')\n",
        "plt.colorbar(fig)\n",
        "plt.plot(X_test[:,0],ypredClass,'r+')\n",
        "plt.show()"
      ],
      "execution_count": 0,
      "outputs": []
    },
    {
      "cell_type": "code",
      "metadata": {
        "id": "qf-DLv1vhXds",
        "colab_type": "code",
        "colab": {}
      },
      "source": [
        "digits = load_digits()\n",
        "print(cross_val_score(model, digits.data, digits.target, scoring='accuracy', cv=10).mean())"
      ],
      "execution_count": 0,
      "outputs": []
    }
  ]
}