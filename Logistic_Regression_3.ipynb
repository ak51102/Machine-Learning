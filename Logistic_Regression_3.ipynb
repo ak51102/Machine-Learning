{
  "nbformat": 4,
  "nbformat_minor": 0,
  "metadata": {
    "colab": {
      "name": "Logistic Regression 3.ipynb",
      "provenance": [],
      "private_outputs": true,
      "authorship_tag": "ABX9TyNa0u60G+7ohANpzW+WhLJd",
      "include_colab_link": true
    },
    "kernelspec": {
      "name": "python3",
      "display_name": "Python 3"
    }
  },
  "cells": [
    {
      "cell_type": "markdown",
      "metadata": {
        "id": "view-in-github",
        "colab_type": "text"
      },
      "source": [
        "<a href=\"https://colab.research.google.com/github/cagBRT/Machine-Learning/blob/master/Logistic_Regression_3.ipynb\" target=\"_parent\"><img src=\"https://colab.research.google.com/assets/colab-badge.svg\" alt=\"Open In Colab\"/></a>"
      ]
    },
    {
      "cell_type": "markdown",
      "metadata": {
        "id": "p8Q7ulDCjBH7",
        "colab_type": "text"
      },
      "source": [
        "# **Logistic Regression on a small sample of the MNIST dataset**\n"
      ]
    },
    {
      "cell_type": "code",
      "metadata": {
        "id": "75zsfm3LNFDz",
        "colab_type": "code",
        "colab": {}
      },
      "source": [
        "import numpy as np \n",
        "import matplotlib.pyplot as plt\n",
        "from sklearn.model_selection import train_test_split\n",
        "from sklearn.linear_model import LogisticRegression\n",
        "import matplotlib.pyplot as plt\n",
        "import seaborn as sns\n",
        "from sklearn import metrics"
      ],
      "execution_count": 0,
      "outputs": []
    },
    {
      "cell_type": "markdown",
      "metadata": {
        "id": "JHvxEXANM_Ka",
        "colab_type": "text"
      },
      "source": [
        "**Get the data**"
      ]
    },
    {
      "cell_type": "code",
      "metadata": {
        "id": "B7tQYLGKhNfN",
        "colab_type": "code",
        "colab": {}
      },
      "source": [
        "from sklearn.datasets import load_digits\n",
        "digits = load_digits()"
      ],
      "execution_count": 0,
      "outputs": []
    },
    {
      "cell_type": "code",
      "metadata": {
        "id": "6F6rnmAjhIOz",
        "colab_type": "code",
        "colab": {}
      },
      "source": [
        "# Print to show there are 1797 images (8 by 8 images for a dimensionality of 64)\n",
        "print(\"Image Data Shape = \" , digits.data.shape)\n",
        "# Print to show there are 1797 labels (integers from 0–9)\n",
        "print(\"Label Data Shape\", digits.target.shape)"
      ],
      "execution_count": 0,
      "outputs": []
    },
    {
      "cell_type": "code",
      "metadata": {
        "id": "TfdDlsS_hbaI",
        "colab_type": "code",
        "colab": {}
      },
      "source": [
        "plt.figure(figsize=(20,4))\n",
        "for index, (image, label) in enumerate(zip(digits.data[0:5], digits.target[0:5])):\n",
        " plt.subplot(1, 5, index + 1)\n",
        " plt.imshow(np.reshape(image, (8,8)), cmap=plt.cm.gray)\n",
        " plt.title('Training: %i\\n' % label, fontsize = 20)"
      ],
      "execution_count": 0,
      "outputs": []
    },
    {
      "cell_type": "markdown",
      "metadata": {
        "id": "roMUJYFrNdC1",
        "colab_type": "text"
      },
      "source": [
        "**Training - Test Data split**"
      ]
    },
    {
      "cell_type": "code",
      "metadata": {
        "id": "vq8ggKVNhRNQ",
        "colab_type": "code",
        "colab": {}
      },
      "source": [
        "x_train, x_test, y_train, y_test = train_test_split(digits.data, digits.target, test_size=0.25, random_state=0)"
      ],
      "execution_count": 0,
      "outputs": []
    },
    {
      "cell_type": "markdown",
      "metadata": {
        "id": "to6XljqBNTwX",
        "colab_type": "text"
      },
      "source": [
        "**Create the model**"
      ]
    },
    {
      "cell_type": "code",
      "metadata": {
        "id": "oDqBMtRSicmx",
        "colab_type": "code",
        "colab": {}
      },
      "source": [
        "# all parameters not specified are set to their defaults\n",
        "logisticRegr = LogisticRegression()"
      ],
      "execution_count": 0,
      "outputs": []
    },
    {
      "cell_type": "code",
      "metadata": {
        "id": "GC0TQWILZL7E",
        "colab_type": "code",
        "colab": {}
      },
      "source": [
        "print(x_train.shape)\n",
        "print(y_train.shape)"
      ],
      "execution_count": 0,
      "outputs": []
    },
    {
      "cell_type": "markdown",
      "metadata": {
        "id": "qkzp--q3NXU-",
        "colab_type": "text"
      },
      "source": [
        "**Train the model**"
      ]
    },
    {
      "cell_type": "code",
      "metadata": {
        "id": "H4uiW-8Iiel0",
        "colab_type": "code",
        "colab": {}
      },
      "source": [
        "logisticRegr.fit(x_train, y_train,)"
      ],
      "execution_count": 0,
      "outputs": []
    },
    {
      "cell_type": "markdown",
      "metadata": {
        "id": "Dq8b27fZNim7",
        "colab_type": "text"
      },
      "source": [
        "**Make predictions with the trained model**"
      ]
    },
    {
      "cell_type": "code",
      "metadata": {
        "id": "Xjy0I0YrikfO",
        "colab_type": "code",
        "colab": {}
      },
      "source": [
        "# Returns a NumPy Array\n",
        "# Predict for One Observation (image)\n",
        "logisticRegr.predict(x_test[0].reshape(1,-1))"
      ],
      "execution_count": 0,
      "outputs": []
    },
    {
      "cell_type": "markdown",
      "metadata": {
        "id": "dTgZiuG5Nr0a",
        "colab_type": "text"
      },
      "source": [
        "**Make multiple predictions**"
      ]
    },
    {
      "cell_type": "code",
      "metadata": {
        "id": "hfYstMIQinHU",
        "colab_type": "code",
        "colab": {}
      },
      "source": [
        "logisticRegr.predict(x_test[0:10])"
      ],
      "execution_count": 0,
      "outputs": []
    },
    {
      "cell_type": "markdown",
      "metadata": {
        "id": "wSSQoK7yNzr3",
        "colab_type": "text"
      },
      "source": [
        "**Predict with the test set**"
      ]
    },
    {
      "cell_type": "code",
      "metadata": {
        "id": "x-E6B5zYipc3",
        "colab_type": "code",
        "colab": {}
      },
      "source": [
        "predictions = logisticRegr.predict(x_test)"
      ],
      "execution_count": 0,
      "outputs": []
    },
    {
      "cell_type": "markdown",
      "metadata": {
        "id": "j-RGf1h3N5dR",
        "colab_type": "text"
      },
      "source": [
        "**What is the model accuracy?**"
      ]
    },
    {
      "cell_type": "code",
      "metadata": {
        "id": "XhQ1O4EvisE2",
        "colab_type": "code",
        "colab": {}
      },
      "source": [
        "# Use score method to get accuracy of model\n",
        "score = logisticRegr.score(x_test, y_test)\n",
        "print(score)"
      ],
      "execution_count": 0,
      "outputs": []
    },
    {
      "cell_type": "markdown",
      "metadata": {
        "id": "sEqV-CxiOB-x",
        "colab_type": "text"
      },
      "source": [
        "**The confusion matrix for the digits**"
      ]
    },
    {
      "cell_type": "code",
      "metadata": {
        "id": "QFU9lAR1iwxY",
        "colab_type": "code",
        "colab": {}
      },
      "source": [
        "cm = metrics.confusion_matrix(y_test, predictions)\n",
        "print(cm)"
      ],
      "execution_count": 0,
      "outputs": []
    },
    {
      "cell_type": "code",
      "metadata": {
        "id": "QWdEtrKJiz39",
        "colab_type": "code",
        "colab": {}
      },
      "source": [
        "plt.figure(figsize=(9,9))\n",
        "sns.heatmap(cm, annot=True, fmt=\".3f\", linewidths=.5, square = True, cmap = 'Blues_r');\n",
        "plt.ylabel('Actual label');\n",
        "plt.xlabel('Predicted label');\n",
        "all_sample_title = 'Accuracy Score: {0}'.format(score)\n",
        "plt.title(all_sample_title, size = 15);"
      ],
      "execution_count": 0,
      "outputs": []
    },
    {
      "cell_type": "code",
      "metadata": {
        "id": "5fHeeIDKagRn",
        "colab_type": "code",
        "colab": {}
      },
      "source": [
        "index = 0\n",
        "misclassifiedIndexes = []\n",
        "misclassifiedIndexes2 = []\n",
        "for label, predict in zip(y_test, predictions):\n",
        " if label != predict: \n",
        "  print(label, predict)\n",
        "  misclassifiedIndexes.append(label)\n",
        "  misclassifiedIndexes2.append(predict)\n",
        "  index +=1"
      ],
      "execution_count": 0,
      "outputs": []
    },
    {
      "cell_type": "code",
      "metadata": {
        "id": "s4QmB_TCa4I-",
        "colab_type": "code",
        "colab": {}
      },
      "source": [
        "plt.figure(figsize=(20,4))\n",
        "for plotIndex, badIndex in enumerate(misclassifiedIndexes[0:5]):\n",
        " plt.subplot(1, 5, plotIndex + 1)\n",
        " plt.imshow(np.reshape(x_test[badIndex], (8,8)), cmap=plt.cm.gray)\n",
        " plt.title(\"Predicted {}, Actual {}\".format(misclassifiedIndexes2[plotIndex], misclassifiedIndexes[plotIndex]), fontsize = 15)\n",
        " "
      ],
      "execution_count": 0,
      "outputs": []
    }
  ]
}