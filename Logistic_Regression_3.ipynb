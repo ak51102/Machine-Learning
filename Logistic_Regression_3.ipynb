{
  "nbformat": 4,
  "nbformat_minor": 0,
  "metadata": {
    "colab": {
      "name": "Logistic Regression 3.ipynb",
      "provenance": [],
      "private_outputs": true,
      "authorship_tag": "ABX9TyMEjpAVXK+DZQP6/8NQgWpZ",
      "include_colab_link": true
    },
    "kernelspec": {
      "name": "python3",
      "display_name": "Python 3"
    }
  },
  "cells": [
    {
      "cell_type": "markdown",
      "metadata": {
        "id": "view-in-github",
        "colab_type": "text"
      },
      "source": [
        "<a href=\"https://colab.research.google.com/github/cagBRT/Machine-Learning/blob/master/Logistic_Regression_3.ipynb\" target=\"_parent\"><img src=\"https://colab.research.google.com/assets/colab-badge.svg\" alt=\"Open In Colab\"/></a>"
      ]
    },
    {
      "cell_type": "markdown",
      "metadata": {
        "id": "p8Q7ulDCjBH7",
        "colab_type": "text"
      },
      "source": [
        "# **Logistic Regression on a small sample of the MNIST dataset**\n"
      ]
    },
    {
      "cell_type": "code",
      "metadata": {
        "id": "75zsfm3LNFDz",
        "colab_type": "code",
        "colab": {}
      },
      "source": [
        "import numpy as np \n",
        "import matplotlib.pyplot as plt\n",
        "from sklearn.model_selection import train_test_split\n",
        "from sklearn.linear_model import LogisticRegression\n",
        "import matplotlib.pyplot as plt\n",
        "import seaborn as sns\n",
        "from sklearn import metrics"
      ],
      "execution_count": 0,
      "outputs": []
    },
    {
      "cell_type": "markdown",
      "metadata": {
        "id": "JHvxEXANM_Ka",
        "colab_type": "text"
      },
      "source": [
        "**Get the data**"
      ]
    },
    {
      "cell_type": "code",
      "metadata": {
        "id": "B7tQYLGKhNfN",
        "colab_type": "code",
        "colab": {}
      },
      "source": [
        "from sklearn.datasets import load_digits\n",
        "digits = load_digits()"
      ],
      "execution_count": 0,
      "outputs": []
    },
    {
      "cell_type": "code",
      "metadata": {
        "id": "6F6rnmAjhIOz",
        "colab_type": "code",
        "colab": {}
      },
      "source": [
        "# Print to show there are 1797 images (8 by 8 images for a dimensionality of 64)\n",
        "print(\"Image Data Shape = \" , digits.data.shape)\n",
        "# Print to show there are 1797 labels (integers from 0–9)\n",
        "print(\"Label Data Shape\", digits.target.shape)"
      ],
      "execution_count": 0,
      "outputs": []
    },
    {
      "cell_type": "code",
      "metadata": {
        "id": "TfdDlsS_hbaI",
        "colab_type": "code",
        "colab": {}
      },
      "source": [
        "plt.figure(figsize=(20,4))\n",
        "for index, (image, label) in enumerate(zip(digits.data[0:5], digits.target[0:5])):\n",
        " plt.subplot(1, 5, index + 1)\n",
        " plt.imshow(np.reshape(image, (8,8)), cmap=plt.cm.gray)\n",
        " plt.title('Training: %i\\n' % label, fontsize = 20)"
      ],
      "execution_count": 0,
      "outputs": []
    },
    {
      "cell_type": "markdown",
      "metadata": {
        "id": "roMUJYFrNdC1",
        "colab_type": "text"
      },
      "source": [
        "**Training - Test Data split**"
      ]
    },
    {
      "cell_type": "code",
      "metadata": {
        "id": "vq8ggKVNhRNQ",
        "colab_type": "code",
        "colab": {}
      },
      "source": [
        "x_train, x_test, y_train, y_test = train_test_split(digits.data, digits.target, test_size=0.25, random_state=0)"
      ],
      "execution_count": 0,
      "outputs": []
    },
    {
      "cell_type": "markdown",
      "metadata": {
        "id": "to6XljqBNTwX",
        "colab_type": "text"
      },
      "source": [
        "**Create the model**"
      ]
    },
    {
      "cell_type": "code",
      "metadata": {
        "id": "oDqBMtRSicmx",
        "colab_type": "code",
        "colab": {}
      },
      "source": [
        "# all parameters not specified are set to their defaults\n",
        "logisticRegr = LogisticRegression()"
      ],
      "execution_count": 0,
      "outputs": []
    },
    {
      "cell_type": "markdown",
      "metadata": {
        "id": "qkzp--q3NXU-",
        "colab_type": "text"
      },
      "source": [
        "**Train the model**"
      ]
    },
    {
      "cell_type": "code",
      "metadata": {
        "id": "H4uiW-8Iiel0",
        "colab_type": "code",
        "colab": {}
      },
      "source": [
        "logisticRegr.fit(x_train, y_train,)"
      ],
      "execution_count": 0,
      "outputs": []
    },
    {
      "cell_type": "markdown",
      "metadata": {
        "id": "Dq8b27fZNim7",
        "colab_type": "text"
      },
      "source": [
        "**Make predictions with the trained model**"
      ]
    },
    {
      "cell_type": "code",
      "metadata": {
        "id": "Xjy0I0YrikfO",
        "colab_type": "code",
        "colab": {}
      },
      "source": [
        "# Returns a NumPy Array\n",
        "# Predict for One Observation (image)\n",
        "logisticRegr.predict(x_test[0].reshape(1,-1))"
      ],
      "execution_count": 0,
      "outputs": []
    },
    {
      "cell_type": "markdown",
      "metadata": {
        "id": "dTgZiuG5Nr0a",
        "colab_type": "text"
      },
      "source": [
        "**Make multiple predictions**"
      ]
    },
    {
      "cell_type": "code",
      "metadata": {
        "id": "hfYstMIQinHU",
        "colab_type": "code",
        "colab": {}
      },
      "source": [
        "logisticRegr.predict(x_test[0:10])"
      ],
      "execution_count": 0,
      "outputs": []
    },
    {
      "cell_type": "markdown",
      "metadata": {
        "id": "wSSQoK7yNzr3",
        "colab_type": "text"
      },
      "source": [
        "**Predict with the test set**"
      ]
    },
    {
      "cell_type": "code",
      "metadata": {
        "id": "x-E6B5zYipc3",
        "colab_type": "code",
        "colab": {}
      },
      "source": [
        "predictions = logisticRegr.predict(x_test)"
      ],
      "execution_count": 0,
      "outputs": []
    },
    {
      "cell_type": "markdown",
      "metadata": {
        "id": "j-RGf1h3N5dR",
        "colab_type": "text"
      },
      "source": [
        "**What is the model accuracy?**"
      ]
    },
    {
      "cell_type": "code",
      "metadata": {
        "id": "XhQ1O4EvisE2",
        "colab_type": "code",
        "colab": {}
      },
      "source": [
        "# Use score method to get accuracy of model\n",
        "score = logisticRegr.score(x_test, y_test)\n",
        "print(score)"
      ],
      "execution_count": 0,
      "outputs": []
    },
    {
      "cell_type": "markdown",
      "metadata": {
        "id": "sEqV-CxiOB-x",
        "colab_type": "text"
      },
      "source": [
        "**The confusion matrix for the digits**"
      ]
    },
    {
      "cell_type": "code",
      "metadata": {
        "id": "QFU9lAR1iwxY",
        "colab_type": "code",
        "colab": {}
      },
      "source": [
        "cm = metrics.confusion_matrix(y_test, predictions)\n",
        "print(cm)"
      ],
      "execution_count": 0,
      "outputs": []
    },
    {
      "cell_type": "code",
      "metadata": {
        "id": "QWdEtrKJiz39",
        "colab_type": "code",
        "colab": {}
      },
      "source": [
        "plt.figure(figsize=(9,9))\n",
        "sns.heatmap(cm, annot=True, fmt=\".3f\", linewidths=.5, square = True, cmap = 'Blues_r');\n",
        "plt.ylabel('Actual label');\n",
        "plt.xlabel('Predicted label');\n",
        "all_sample_title = 'Accuracy Score: {0}'.format(score)\n",
        "plt.title(all_sample_title, size = 15);"
      ],
      "execution_count": 0,
      "outputs": []
    },
    {
      "cell_type": "markdown",
      "metadata": {
        "id": "33rCDa23M1MT",
        "colab_type": "text"
      },
      "source": [
        "https://towardsdatascience.com/logistic-regression-using-python-sklearn-numpy-mnist-handwriting-recognition-matplotlib-a6b31e2b166a\n"
      ]
    },
    {
      "cell_type": "markdown",
      "metadata": {
        "id": "xSHnb5qkjw6e",
        "colab_type": "text"
      },
      "source": [
        "# **EXAMPLE**"
      ]
    },
    {
      "cell_type": "code",
      "metadata": {
        "id": "qvztc6fEk_od",
        "colab_type": "code",
        "colab": {}
      },
      "source": [
        "# Clone the entire repo.\n",
        "!git clone -l -s https://github.com/cagBRT/Machine-Learning.git cloned-repo\n",
        "%cd cloned-repo\n",
        "!ls"
      ],
      "execution_count": 0,
      "outputs": []
    },
    {
      "cell_type": "code",
      "metadata": {
        "id": "Zo7ZZzQ8lHS2",
        "colab_type": "code",
        "colab": {}
      },
      "source": [
        "from IPython.display import Image\n",
        "def page(num):\n",
        "    #print(str(num))\n",
        "    return Image(\"Intro to Machine Learning Programming (\"+ str(num) + \").png\")\n",
        "print(\"done\")"
      ],
      "execution_count": 0,
      "outputs": []
    },
    {
      "cell_type": "code",
      "metadata": {
        "id": "TbOmNzewjwe5",
        "colab_type": "code",
        "colab": {}
      },
      "source": [
        "import pandas as pd\n",
        "import numpy as np\n",
        "from sklearn import preprocessing\n",
        "import matplotlib.pyplot as plt \n",
        "plt.rc(\"font\", size=14)\n",
        "from sklearn.linear_model import LogisticRegression\n",
        "from sklearn.model_selection import train_test_split\n",
        "import seaborn as sns\n",
        "sns.set(style=\"white\")\n",
        "sns.set(style=\"whitegrid\", color_codes=True)"
      ],
      "execution_count": 0,
      "outputs": []
    },
    {
      "cell_type": "code",
      "metadata": {
        "id": "oOg0I3wOlUI4",
        "colab_type": "code",
        "colab": {}
      },
      "source": [
        "data = pd.read_csv('bank.csv', sep=\";\",error_bad_lines=False, skipinitialspace = True, quotechar='\"')\n",
        "dataframe = pd.DataFrame(data)"
      ],
      "execution_count": 0,
      "outputs": []
    },
    {
      "cell_type": "code",
      "metadata": {
        "id": "pC8ZSEm7lkIZ",
        "colab_type": "code",
        "colab": {}
      },
      "source": [
        "dataframe.tail(10)"
      ],
      "execution_count": 0,
      "outputs": []
    },
    {
      "cell_type": "code",
      "metadata": {
        "id": "QNj-4zsrkCPq",
        "colab_type": "code",
        "colab": {}
      },
      "source": [
        "dataframe = dataframe.dropna()\n",
        "dataframe.shape\n",
        "dataframe.columns"
      ],
      "execution_count": 0,
      "outputs": []
    },
    {
      "cell_type": "code",
      "metadata": {
        "id": "7eQharSFnyb2",
        "colab_type": "code",
        "colab": {}
      },
      "source": [
        "dataframe[\"education\"]"
      ],
      "execution_count": 0,
      "outputs": []
    },
    {
      "cell_type": "code",
      "metadata": {
        "id": "kKYKzxpMj5c3",
        "colab_type": "code",
        "colab": {}
      },
      "source": [
        "dataframe['education']=np.where(dataframe['education'] =='primary', 'Basic', dataframe['education'])\n",
        "dataframe['education']=np.where(dataframe['education'] =='secondary', 'Basic', dataframe['education'])\n",
        "dataframe['education']=np.where(dataframe['education'] =='tertiary', 'Basic', dataframe['education'])"
      ],
      "execution_count": 0,
      "outputs": []
    },
    {
      "cell_type": "code",
      "metadata": {
        "id": "6KSeZJmiofE-",
        "colab_type": "code",
        "colab": {}
      },
      "source": [
        "dataframe['education'].unique()"
      ],
      "execution_count": 0,
      "outputs": []
    },
    {
      "cell_type": "code",
      "metadata": {
        "id": "HXoy3Wm8omBO",
        "colab_type": "code",
        "colab": {}
      },
      "source": [
        "dataframe['y'].value_counts"
      ],
      "execution_count": 0,
      "outputs": []
    }
  ]
}