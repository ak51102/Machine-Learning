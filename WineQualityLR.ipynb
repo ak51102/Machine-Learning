{
  "nbformat": 4,
  "nbformat_minor": 0,
  "metadata": {
    "colab": {
      "name": "WineQualityLR.ipynb",
      "provenance": [],
      "private_outputs": true,
      "authorship_tag": "ABX9TyN5vAF0T9B8QzDy2JISdaIu",
      "include_colab_link": true
    },
    "kernelspec": {
      "name": "python3",
      "display_name": "Python 3"
    }
  },
  "cells": [
    {
      "cell_type": "markdown",
      "metadata": {
        "id": "view-in-github",
        "colab_type": "text"
      },
      "source": [
        "<a href=\"https://colab.research.google.com/github/cagBRT/Machine-Learning/blob/master/WineQualityLR.ipynb\" target=\"_parent\"><img src=\"https://colab.research.google.com/assets/colab-badge.svg\" alt=\"Open In Colab\"/></a>"
      ]
    },
    {
      "cell_type": "code",
      "metadata": {
        "id": "UuorcVFPcr04",
        "colab_type": "code",
        "colab": {}
      },
      "source": [
        "# Clone the entire repo.\n",
        "!git clone -l -s https://github.com/cagBRT/Machine-Learning.git cloned-repo\n",
        "%cd cloned-repo\n",
        "!ls"
      ],
      "execution_count": 0,
      "outputs": []
    },
    {
      "cell_type": "markdown",
      "metadata": {
        "id": "ul2doUVQIwXr",
        "colab_type": "text"
      },
      "source": [
        "# **Can the quality of a wine be predicted from its measureable characteristics?**"
      ]
    },
    {
      "cell_type": "markdown",
      "metadata": {
        "id": "RTfR8FLpO8vQ",
        "colab_type": "text"
      },
      "source": [
        "**Fixed acidity**: acids are major wine properties and contribute greatly to the wine’s taste. Usually, the total acidity is divided into two groups: the volatile acids and the nonvolatile or fixed acids. Among the fixed acids that you can find in wines are the following: tartaric, malic, citric, and succinic. This variable is expressed in g(tartaricacid)/dm3 in the data sets.<br>\n",
        "**Volatile acidity**: the volatile acidity is basically the process of wine turning into vinegar. In the U.S, the legal limits of Volatile Acidity are 1.2 g/L for red table wine and 1.1 g/L for white table wine. In these data sets, the volatile acidity is expressed in g(aceticacid)/dm3.<br>\n",
        "**Citric acid** is one of the fixed acids that you’ll find in wines. It’s expressed in g/dm3 in the two data sets.<br>\n",
        "**Residual sugar **typically refers to the sugar remaining after fermentation stops, or is stopped. It’s expressed in g/dm3 in the red and white data.<br>\n",
        "**Chlorides** can be a significant contributor to saltiness in wine. Here, you’ll see that it’s expressed in g(sodiumchloride)/dm3.\n",
        "**Free sulfur dioxide**: the part of the sulfur dioxide that is added to a wine and that is lost into it is said to be bound, while the active part is said to be free. The winemaker will always try to get the highest proportion of free sulfur to bind. This variable is expressed in mg/dm3 in the data.<br>\n",
        "**Total sulfur dioxide** is the sum of the bound and the free sulfur dioxide (SO2). Here, it’s expressed in mg/dm3. There are legal limits for sulfur levels in wines: in the EU, red wines can only have 160mg/L, while white and rose wines can have about 210mg/L. Sweet wines are allowed to have 400mg/L. For the US, the legal limits are set at 350mg/L, and for Australia, this is 250mg/L.<br>\n",
        "**Density** is generally used as a measure of the conversion of sugar to alcohol. Here, it’s expressed in g/cm3.<br>\n",
        "**pH** or the potential of hydrogen is a numeric scale to specify the acidity or basicity the wine. As you might know, solutions with a pH less than 7 are acidic, while solutions with a pH greater than 7 are basic. With a pH of 7, pure water is neutral. Most wines have a pH between 2.9 and 3.9 and are therefore acidic.<br>\n",
        "**Sulfate**s are to wine as gluten is to food. You might already know sulfites from the headaches that they can cause. They are a regular part of the winemaking around the world and are considered necessary. In this case, they are expressed in g(potassiumsulphate)/dm3.<br>\n",
        "**Alcohol**: wine is an alcoholic beverage, and as you know, the percentage of alcohol can vary from wine to wine. It shouldn’t be surprised that this variable is included in the data sets, where it’s expressed in % vol.<br>\n",
        "**Quality**: wine experts graded the wine quality between 0 (very bad) and 10 (very excellent). The eventual number is the median of at least three evaluations made by those same wine experts.<br>"
      ]
    },
    {
      "cell_type": "markdown",
      "metadata": {
        "id": "B_SyJzX6OjgM",
        "colab_type": "text"
      },
      "source": [
        "# **Load the libraries**"
      ]
    },
    {
      "cell_type": "code",
      "metadata": {
        "id": "yT-tH6kSE_V1",
        "colab_type": "code",
        "colab": {}
      },
      "source": [
        "from __future__ import absolute_import, division, print_function, unicode_literals\n",
        "\n",
        "# Install TensorFlow\n",
        "try:\n",
        "  # %tensorflow_version only exists in Colab.\n",
        "  %tensorflow_version 2.x\n",
        "except Exception:\n",
        "  pass\n",
        "\n",
        "import tensorflow as tf\n",
        "import pathlib\n",
        "\n",
        "import matplotlib.pyplot as plt\n",
        "import pandas as pd\n",
        "import seaborn as sns\n",
        "import numpy as np\n",
        "\n",
        "from keras.utils import to_categorical\n",
        "from tensorflow import keras\n",
        "from tensorflow.keras import layers\n",
        "\n",
        "print(tf.__version__)"
      ],
      "execution_count": 0,
      "outputs": []
    },
    {
      "cell_type": "markdown",
      "metadata": {
        "id": "9aWDRwFGOnjE",
        "colab_type": "text"
      },
      "source": [
        "# **Load the data**\n",
        "The data is in two files:<br>\n",
        ">winequality-white.csv<br>\n",
        ">winequality-red.csv<br>"
      ]
    },
    {
      "cell_type": "code",
      "metadata": {
        "id": "-DaKr4tTFZb3",
        "colab_type": "code",
        "colab": {}
      },
      "source": [
        "# Read in white wine data \n",
        "#white = pd.read_csv(\"http://archive.ics.uci.edu/ml/machine-learning-databases/wine-quality/winequality-white.csv\", sep=';')\n",
        "white = pd.read_csv(\"winequality-white.csv\", sep=';')\n",
        "\n",
        "# Read in red wine data \n",
        "red = pd.read_csv(\"winequality-red.csv\", sep=';')"
      ],
      "execution_count": 0,
      "outputs": []
    },
    {
      "cell_type": "code",
      "metadata": {
        "id": "qbTUJdyMFlPq",
        "colab_type": "code",
        "colab": {}
      },
      "source": [
        "# Print info on white wine\n",
        "white.tail()"
      ],
      "execution_count": 0,
      "outputs": []
    },
    {
      "cell_type": "code",
      "metadata": {
        "id": "8Eun_foKFq7V",
        "colab_type": "code",
        "colab": {}
      },
      "source": [
        "red.tail()"
      ],
      "execution_count": 0,
      "outputs": []
    },
    {
      "cell_type": "markdown",
      "metadata": {
        "id": "pD2E2UZZO5G9",
        "colab_type": "text"
      },
      "source": [
        "# **Combine the two files into one file called wines**"
      ]
    },
    {
      "cell_type": "markdown",
      "metadata": {
        "id": "WCpQv2HYPR9P",
        "colab_type": "text"
      },
      "source": [
        "# **Is this necessary?**\n",
        "**Add a column called type**: <br>\n",
        "red = 1<br>\n",
        "white = 0"
      ]
    },
    {
      "cell_type": "code",
      "metadata": {
        "colab_type": "code",
        "id": "NXpyqR0qJUx6",
        "colab": {}
      },
      "source": [
        "#combine reds and whites into one dataset\n",
        "# Add `type` column to `red` with value 1\n",
        "red['type'] = 1\n",
        "\n",
        "# Add `type` column to `white` with value 0\n",
        "white['type'] = 0\n",
        "\n",
        "# Append `white` to `red`\n",
        "wines = red.append(white, ignore_index=True)"
      ],
      "execution_count": 0,
      "outputs": []
    },
    {
      "cell_type": "code",
      "metadata": {
        "id": "SMfitEJTQLE8",
        "colab_type": "code",
        "colab": {}
      },
      "source": [
        "wines"
      ],
      "execution_count": 0,
      "outputs": []
    },
    {
      "cell_type": "markdown",
      "metadata": {
        "id": "qiTSR74sO_sS",
        "colab_type": "text"
      },
      "source": [
        "# **Check out the distribution of the quality of wines**"
      ]
    },
    {
      "cell_type": "code",
      "metadata": {
        "id": "8e4fGVfT7avb",
        "colab_type": "code",
        "colab": {}
      },
      "source": [
        "wines['quality'].value_counts()"
      ],
      "execution_count": 0,
      "outputs": []
    },
    {
      "cell_type": "markdown",
      "metadata": {
        "id": "xBbo1BJIPG04",
        "colab_type": "text"
      },
      "source": [
        "# **Check for missing data in wines**"
      ]
    },
    {
      "cell_type": "code",
      "metadata": {
        "id": "8Oe8kyVIHyrH",
        "colab_type": "code",
        "colab": {}
      },
      "source": [
        "wines.isna().sum()"
      ],
      "execution_count": 0,
      "outputs": []
    },
    {
      "cell_type": "markdown",
      "metadata": {
        "id": "vUrhO4ncPLS2",
        "colab_type": "text"
      },
      "source": [
        "# **Is there a strong correlation between any of the features?** "
      ]
    },
    {
      "cell_type": "code",
      "metadata": {
        "id": "9hMYRhmaGgnv",
        "colab_type": "code",
        "colab": {}
      },
      "source": [
        "corr = wines.corr()\n",
        "sns.heatmap(corr, \n",
        "            xticklabels=corr.columns.values,\n",
        "            yticklabels=corr.columns.values)\n",
        "plt.show()"
      ],
      "execution_count": 0,
      "outputs": []
    },
    {
      "cell_type": "markdown",
      "metadata": {
        "id": "yNfi7Xh3PtSa",
        "colab_type": "text"
      },
      "source": [
        "# **Split the dataset into a training set and a test set**"
      ]
    },
    {
      "cell_type": "code",
      "metadata": {
        "id": "usMnFS-mH5sf",
        "colab_type": "code",
        "colab": {}
      },
      "source": [
        "wines_train = wines.sample(frac=0.8,random_state=0)\n",
        "wines_test = wines.drop(wines_train.index)\n",
        "print(\"done\")"
      ],
      "execution_count": 0,
      "outputs": []
    },
    {
      "cell_type": "code",
      "metadata": {
        "id": "H1rxVuiQLeV-",
        "colab_type": "code",
        "colab": {}
      },
      "source": [
        "wines_train"
      ],
      "execution_count": 0,
      "outputs": []
    },
    {
      "cell_type": "markdown",
      "metadata": {
        "id": "J_XshQkuPd5b",
        "colab_type": "text"
      },
      "source": [
        "# **Remove the labels from the dataset**"
      ]
    },
    {
      "cell_type": "code",
      "metadata": {
        "id": "mZgwjudzJGTT",
        "colab_type": "code",
        "colab": {}
      },
      "source": [
        "train_labels = wines_train.pop('quality')\n",
        "test_labels = wines_test.pop('quality')"
      ],
      "execution_count": 0,
      "outputs": []
    },
    {
      "cell_type": "code",
      "metadata": {
        "id": "Ei8uCJ3zyrKT",
        "colab_type": "code",
        "colab": {}
      },
      "source": [
        "wines_train"
      ],
      "execution_count": 0,
      "outputs": []
    },
    {
      "cell_type": "code",
      "metadata": {
        "colab_type": "code",
        "id": "ZOf2VECnxmIj",
        "colab": {}
      },
      "source": [
        "train_stats = wines_train.describe()\n",
        "train_stats = train_stats.transpose()\n",
        "train_stats"
      ],
      "execution_count": 0,
      "outputs": []
    },
    {
      "cell_type": "code",
      "metadata": {
        "id": "aX1uBIHs3kH1",
        "colab_type": "code",
        "colab": {}
      },
      "source": [
        "test_stats = wines_test.describe()\n",
        "test_stats = test_stats.transpose()\n",
        "test_stats"
      ],
      "execution_count": 0,
      "outputs": []
    },
    {
      "cell_type": "markdown",
      "metadata": {
        "id": "-OZ852UxQSRy",
        "colab_type": "text"
      },
      "source": [
        "# **Normalize the data**"
      ]
    },
    {
      "cell_type": "code",
      "metadata": {
        "id": "qUSR2qiZJXZ4",
        "colab_type": "code",
        "colab": {}
      },
      "source": [
        "def norm(x):\n",
        "  return (x - train_stats['mean']) / train_stats['std']\n",
        "\n",
        "normed_train_data = norm(wines_train)\n",
        "normed_test_data = norm(wines_test)\n",
        "print(\"done\")"
      ],
      "execution_count": 0,
      "outputs": []
    },
    {
      "cell_type": "markdown",
      "metadata": {
        "id": "QFfFXJVCQVe9",
        "colab_type": "text"
      },
      "source": [
        "# **Build the model**"
      ]
    },
    {
      "cell_type": "code",
      "metadata": {
        "id": "SkPd6dsHKjOF",
        "colab_type": "code",
        "colab": {}
      },
      "source": [
        "inputs = len(wines_train.keys())\n",
        "print(\"number of inputs to the model = \" + str(inputs))\n",
        "\n",
        "def build_model():\n",
        "  model = keras.Sequential([\n",
        "    #input_shape=(9,),\n",
        "    layers.Dense(64, activation=tf.nn.relu,input_shape=([len(wines_train.keys())]),),\n",
        "    layers.Dense(64, activation=tf.nn.relu),\n",
        "    layers.Dense(1)\n",
        "  ])\n",
        "\n",
        "  optimizer = tf.keras.optimizers.RMSprop(0.001)\n",
        "\n",
        "  model.compile(loss='mean_squared_error',\n",
        "                optimizer=optimizer,\n",
        "                metrics=['mean_absolute_error', 'mean_squared_error'])\n",
        "  \n",
        "  return model\n",
        "  print(\"done\")"
      ],
      "execution_count": 0,
      "outputs": []
    },
    {
      "cell_type": "code",
      "metadata": {
        "id": "9-XvRacbKv-9",
        "colab_type": "code",
        "colab": {}
      },
      "source": [
        "model = build_model()\n",
        "print(\"done\")"
      ],
      "execution_count": 0,
      "outputs": []
    },
    {
      "cell_type": "markdown",
      "metadata": {
        "id": "0H-i6gZRQY8T",
        "colab_type": "text"
      },
      "source": [
        "# **Train the model**"
      ]
    },
    {
      "cell_type": "code",
      "metadata": {
        "id": "Q8TCn9MsLQsl",
        "colab_type": "code",
        "colab": {}
      },
      "source": [
        "EPOCHS = 20\n",
        "history = model.fit(\n",
        "  normed_train_data, train_labels,\n",
        "  epochs=EPOCHS, validation_split = 0.2, verbose=0)"
      ],
      "execution_count": 0,
      "outputs": []
    },
    {
      "cell_type": "code",
      "metadata": {
        "id": "m1ZrssAtLWvN",
        "colab_type": "code",
        "colab": {}
      },
      "source": [
        "hist = pd.DataFrame(history.history)\n",
        "hist['epochs'] = history.epoch\n",
        "hist.tail()"
      ],
      "execution_count": 0,
      "outputs": []
    },
    {
      "cell_type": "markdown",
      "metadata": {
        "id": "kdT_MArFQdTN",
        "colab_type": "text"
      },
      "source": [
        "# **Plot the loss**"
      ]
    },
    {
      "cell_type": "code",
      "metadata": {
        "id": "IcUBeWYyMsWb",
        "colab_type": "code",
        "colab": {}
      },
      "source": [
        "axes = plt.gca()\n",
        "axes.set_ylim([0,1])\n",
        "plt.plot(hist['loss'], label='training loss')\n",
        "plt.plot(hist['val_loss'], label='testing loss')\n",
        "plt.title('Loss')\n",
        "plt.xlabel('epochs')\n",
        "plt.ylabel('loss')\n",
        "plt.legend()"
      ],
      "execution_count": 0,
      "outputs": []
    },
    {
      "cell_type": "markdown",
      "metadata": {
        "id": "sIugdAJcQjka",
        "colab_type": "text"
      },
      "source": [
        "# **Make a prediction with the model**"
      ]
    },
    {
      "cell_type": "code",
      "metadata": {
        "id": "MRHXx8qzv3C_",
        "colab_type": "code",
        "colab": {}
      },
      "source": [
        "predict_case = pd.read_csv(\"prediction_cases.csv\", sep=';')\n",
        "typew = [0,0,1,1] \n",
        "predict_case['type'] = typew"
      ],
      "execution_count": 0,
      "outputs": []
    },
    {
      "cell_type": "code",
      "metadata": {
        "id": "6BHMumq7wsjy",
        "colab_type": "code",
        "colab": {}
      },
      "source": [
        "prediction_labels = predict_case.pop('quality')"
      ],
      "execution_count": 0,
      "outputs": []
    },
    {
      "cell_type": "code",
      "metadata": {
        "id": "WGngB4Mhwh4x",
        "colab_type": "code",
        "colab": {}
      },
      "source": [
        "normed_prediction_cases = norm(predict_case)\n",
        "normed_prediction_cases "
      ],
      "execution_count": 0,
      "outputs": []
    },
    {
      "cell_type": "code",
      "metadata": {
        "id": "nqMFqOHRddP4",
        "colab_type": "code",
        "colab": {}
      },
      "source": [
        "#Choose number 0,1,2,3\n",
        "number = 1\n",
        "test1 = normed_prediction_cases.loc[[number]]\n",
        "test1.transpose()"
      ],
      "execution_count": 0,
      "outputs": []
    },
    {
      "cell_type": "code",
      "metadata": {
        "id": "iWmW2-bY0VeE",
        "colab_type": "code",
        "colab": {}
      },
      "source": [
        "prediction = model.predict(test1)"
      ],
      "execution_count": 0,
      "outputs": []
    },
    {
      "cell_type": "code",
      "metadata": {
        "id": "8Nozx-Uw2SXm",
        "colab_type": "code",
        "colab": {}
      },
      "source": [
        "print(prediction)"
      ],
      "execution_count": 0,
      "outputs": []
    },
    {
      "cell_type": "code",
      "metadata": {
        "id": "FK4OPWwH8gW8",
        "colab_type": "code",
        "colab": {}
      },
      "source": [
        "print(\"prediction is \", prediction)\n",
        "print(\"actual value is \", prediction_labels.iloc[number] )"
      ],
      "execution_count": 0,
      "outputs": []
    }
  ]
}