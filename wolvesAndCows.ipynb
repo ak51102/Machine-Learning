{
  "nbformat": 4,
  "nbformat_minor": 0,
  "metadata": {
    "colab": {
      "name": "wolvesAndCows.ipynb",
      "provenance": [],
      "authorship_tag": "ABX9TyNqyjU8O2IYp/vhvoNUJQMH",
      "include_colab_link": true
    },
    "kernelspec": {
      "name": "python3",
      "display_name": "Python 3"
    }
  },
  "cells": [
    {
      "cell_type": "markdown",
      "metadata": {
        "id": "view-in-github",
        "colab_type": "text"
      },
      "source": [
        "<a href=\"https://colab.research.google.com/github/cagBRT/Machine-Learning/blob/master/wolvesAndCows.ipynb\" target=\"_parent\"><img src=\"https://colab.research.google.com/assets/colab-badge.svg\" alt=\"Open In Colab\"/></a>"
      ]
    },
    {
      "cell_type": "code",
      "metadata": {
        "id": "ccgtIx7YpSch",
        "colab_type": "code",
        "colab": {}
      },
      "source": [
        "import numpy as np\n",
        "import pylab as pl\n",
        "from sklearn import svm\n",
        "from sklearn import linear_model\n",
        "from sklearn import tree\n",
        "import pandas as pd"
      ],
      "execution_count": 0,
      "outputs": []
    },
    {
      "cell_type": "code",
      "metadata": {
        "id": "50CjzYGopVVM",
        "colab_type": "code",
        "colab": {}
      },
      "source": [
        "def plot_results_with_hyperplane(clf, clf_name, df, plt_nmbr):\n",
        " x_min, x_max = df.x.min() - .5, df.x.max() + .5\n",
        " y_min, y_max = df.y.min() - .5, df.y.max() + .5\n",
        "\n",
        " # step between points. i.e. [0, 0.02, 0.04, ...]\n",
        " step = .02\n",
        " # to plot the boundary, we're going to create a matrix of every possible point\n",
        " # then label each point as a wolf or cow using our classifier\n",
        " xx, yy = np.meshgrid(np.arange(x_min, x_max, step), np.arange(y_min, y_max, step))\n",
        " Z = clf.predict(np.c_[xx.ravel(), yy.ravel()])\n",
        " # this gets our predictions back into a matrix\n",
        " Z = Z.reshape(xx.shape)\n",
        "\n",
        " # create a subplot (we're going to have more than 1 plot on a given image)\n",
        " pl.subplot(2, 2, plt_nmbr)\n",
        " # plot the boundaries\n",
        " pl.pcolormesh(xx, yy, Z, cmap=pl.cm.Paired)\n",
        "\n",
        " # plot the wolves and cows\n",
        " for animal in df.animal.unique():\n",
        "  pl.scatter(df[df.animal==animal].x,\n",
        "  df[df.animal==animal].y,\n",
        "  marker=animal,\n",
        "  label=\"cows\" if animal==\"x\" else \"wolves\",\n",
        "  color='black')\n",
        " pl.title(clf_name)\n",
        " pl.legend(loc=\"best\")"
      ],
      "execution_count": 0,
      "outputs": []
    },
    {
      "cell_type": "code",
      "metadata": {
        "id": "SkmuQCG1q3lY",
        "colab_type": "code",
        "colab": {}
      },
      "source": [
        "data = open(\"cows_and_wolves.txt\").read()\n",
        "data = [row.split('\\t') for row in data.strip().split('\\n')]"
      ],
      "execution_count": 0,
      "outputs": []
    },
    {
      "cell_type": "code",
      "metadata": {
        "id": "imbqQ05praP7",
        "colab_type": "code",
        "colab": {}
      },
      "source": [
        "animals = []\n",
        "for y, row in enumerate(data):\n",
        " for x, item in enumerate(row):\n",
        "  # x's are cows, o's are wolves\n",
        "  if item in ['o', 'x']:\n",
        "    animals.append([x, y, item])"
      ],
      "execution_count": 0,
      "outputs": []
    },
    {
      "cell_type": "code",
      "metadata": {
        "id": "PptKWf34pCPV",
        "colab_type": "code",
        "colab": {}
      },
      "source": [
        "# Data driven farmer goes to the Rodeo\n",
        "\n",
        "df = pd.DataFrame(animals, columns=[\"x\", \"y\", \"animal\"])\n",
        "df['animal_type'] = df.animal.apply(lambda x: 0 if x==\"x\" else 1)\n",
        "\n",
        "# train using the x and y position coordiantes\n",
        "train_cols = [\"x\", \"y\"]\n",
        "\n",
        "clfs = {\n",
        " \"SVM\": svm.SVC(),\n",
        " \"Logistic\" : linear_model.LogisticRegression(),\n",
        " \"Decision Tree\": tree.DecisionTreeClassifier(),\n",
        "}\n",
        "\n",
        "plt_nmbr = 1\n"
      ],
      "execution_count": 0,
      "outputs": []
    },
    {
      "cell_type": "code",
      "metadata": {
        "id": "PMZ0hwxkrnMb",
        "colab_type": "code",
        "colab": {
          "base_uri": "https://localhost:8080/",
          "height": 281
        },
        "outputId": "da912617-a188-4546-a4fb-bb42f92e0361"
      },
      "source": [
        "for clf_name, clf in clfs.items():\n",
        " clf.fit(df[train_cols], df.animal_type)\n",
        " plot_results_with_hyperplane(clf, clf_name, df, plt_nmbr)\n",
        " plt_nmbr += 1\n",
        "pl.show()"
      ],
      "execution_count": 31,
      "outputs": [
        {
          "output_type": "display_data",
          "data": {
            "image/png": "[encoded data removed]",
            "text/plain": [
              "<Figure size 432x288 with 3 Axes>"
            ]
          },
          "metadata": {
            "tags": [],
            "needs_background": "light"
          }
        }
      ]
    }
  ]
}