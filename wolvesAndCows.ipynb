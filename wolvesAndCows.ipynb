{
  "nbformat": 4,
  "nbformat_minor": 0,
  "metadata": {
    "colab": {
      "name": "wolvesAndCows.ipynb",
      "provenance": [],
      "include_colab_link": true
    },
    "kernelspec": {
      "name": "python3",
      "display_name": "Python 3"
    }
  },
  "cells": [
    {
      "cell_type": "markdown",
      "metadata": {
        "id": "view-in-github",
        "colab_type": "text"
      },
      "source": [
        "<a href=\"https://colab.research.google.com/github/cagBRT/Machine-Learning/blob/master/wolvesAndCows.ipynb\" target=\"_parent\"><img src=\"https://colab.research.google.com/assets/colab-badge.svg\" alt=\"Open In Colab\"/></a>"
      ]
    },
    {
      "cell_type": "markdown",
      "metadata": {
        "id": "KxHfVx93wOOh",
        "colab_type": "text"
      },
      "source": [
        "Imagine you're a farmer and you have a problem--you need to setup a fence to protect your cows from packs of wovles. But where do you build your fence? "
      ]
    },
    {
      "cell_type": "code",
      "metadata": {
        "id": "H1ozWgrYQGMG",
        "colab_type": "code",
        "colab": {
          "base_uri": "https://localhost:8080/",
          "height": 760
        },
        "outputId": "baffaa9f-5939-447b-ae9b-2dea3f9f6d60"
      },
      "source": [
        "!git clone -l -s https://github.com/cagBRT/Machine-Learning.git cloned-repo\n",
        "%cd cloned-repo\n",
        "!ls"
      ],
      "execution_count": 48,
      "outputs": [
        {
          "output_type": "stream",
          "text": [
            "Cloning into 'cloned-repo'...\n",
            "warning: --local is ignored\n",
            "remote: Enumerating objects: 33, done.\u001b[K\n",
            "remote: Counting objects:   3% (1/33)\u001b[K\rremote: Counting objects:   6% (2/33)\u001b[K\rremote: Counting objects:   9% (3/33)\u001b[K\rremote: Counting objects:  12% (4/33)\u001b[K\rremote: Counting objects:  15% (5/33)\u001b[K\rremote: Counting objects:  18% (6/33)\u001b[K\rremote: Counting objects:  21% (7/33)\u001b[K\rremote: Counting objects:  24% (8/33)\u001b[K\rremote: Counting objects:  27% (9/33)\u001b[K\rremote: Counting objects:  30% (10/33)\u001b[K\rremote: Counting objects:  33% (11/33)\u001b[K\rremote: Counting objects:  36% (12/33)\u001b[K\rremote: Counting objects:  39% (13/33)\u001b[K\rremote: Counting objects:  42% (14/33)\u001b[K\rremote: Counting objects:  45% (15/33)\u001b[K\rremote: Counting objects:  48% (16/33)\u001b[K\rremote: Counting objects:  51% (17/33)\u001b[K\rremote: Counting objects:  54% (18/33)\u001b[K\rremote: Counting objects:  57% (19/33)\u001b[K\rremote: Counting objects:  60% (20/33)\u001b[K\rremote: Counting objects:  63% (21/33)\u001b[K\rremote: Counting objects:  66% (22/33)\u001b[K\rremote: Counting objects:  69% (23/33)\u001b[K\rremote: Counting objects:  72% (24/33)\u001b[K\rremote: Counting objects:  75% (25/33)\u001b[K\rremote: Counting objects:  78% (26/33)\u001b[K\rremote: Counting objects:  81% (27/33)\u001b[K\rremote: Counting objects:  84% (28/33)\u001b[K\rremote: Counting objects:  87% (29/33)\u001b[K\rremote: Counting objects:  90% (30/33)\u001b[K\rremote: Counting objects:  93% (31/33)\u001b[K\rremote: Counting objects:  96% (32/33)\u001b[K\rremote: Counting objects: 100% (33/33)\u001b[K\rremote: Counting objects: 100% (33/33), done.\u001b[K\n",
            "remote: Compressing objects: 100% (33/33), done.\u001b[K\n",
            "remote: Total 741 (delta 16), reused 0 (delta 0), pack-reused 708\u001b[K\n",
            "Receiving objects: 100% (741/741), 26.97 MiB | 20.29 MiB/s, done.\n",
            "Resolving deltas: 100% (457/457), done.\n",
            "/content/cloned-repo/cloned-repo\n",
            " Admission_Predict.csv\t\t       LogisticRegression_1.ipynb\n",
            " bank.csv\t\t\t       Logistic_Regression_3.ipynb\n",
            " bank-full.csv\t\t\t       Logistic_Regression_4.ipynb\n",
            " blue_line.jpg\t\t\t       LogReg_Titanic.ipynb\n",
            " boston_housing.csv\t\t       Mall_Customers.csv\n",
            " breast_cancer_data.csv\t\t       NaiveBayesBernoulli.ipynb\n",
            " cardata.data\t\t\t       NaiveBayesGaussian2.ipynb\n",
            " cows_and_wolves.txt\t\t       NaiveBayesGaussian.ipynb\n",
            " diabetesML.ipynb\t\t       NaiveBayesMultinomialNB2.ipynb\n",
            " dogOrMuffin.ipynb\t\t       NaiveBayesMultinomialNB.ipynb\n",
            " fashion-mnist-sprite.png\t       naiveBayes.png\n",
            " height_weight.csv\t\t       pima_indians_diabetes.csv\n",
            " Hierarchical_Clustering_1.ipynb       prediction_cases.csv\n",
            " Hierarchical_Clustering_2.ipynb       README.md\n",
            " Hierarchical_Clustering_3.ipynb       Social_Network_Ads.csv\n",
            " HierarchicalClustering4.ipynb\t       styleTransfer_1.ipynb\n",
            " Hierarchical_Clustering.ipynb\t       styleTransfer_2.ipynb\n",
            " hourly_wages.csv\t\t       styleTransfer.ipynb\n",
            "'HP1 Cars.ipynb'\t\t       StyleTransfer.ipynb\n",
            "'HP2 Wage_per_hour.ipynb'\t       SVM3.ipynb\n",
            "'HP3 boston_housing.ipynb'\t       SVMcompare.ipynb\n",
            "'HP3 Iris.ipynb'\t\t       SVM.ipynb\n",
            " HP3_WineTypeBC.ipynb\t\t       SVM_MultiClass.ipynb\n",
            "'HP4 WineQuality.ipynb'\t\t       test.csv\n",
            "'HP5 muffinOrDog.ipynb'\t\t       testPhone.csv\n",
            "'HP6 fashion_mnist.ipynb'\t       TextClassification.ipynb\n",
            " HyperParameter_Tuning.ipynb\t       train.csv\n",
            " KNN_1.ipynb\t\t\t       trainPhone.csv\n",
            " KNN2.ipynb\t\t\t       tripAdvisor.ipynb\n",
            " KNN_Regression.ipynb\t\t       tripAdvisorReviews.csv\n",
            " LinearRegression1.ipynb\t       weather.csv\n",
            " LinearRegression2.ipynb\t       winequality-red.csv\n",
            " LinearRegression3.ipynb\t       winequality-white.csv\n",
            " LinearRegression4_WineQuality.ipynb   wolvesAndCows.ipynb\n"
          ],
          "name": "stdout"
        }
      ]
    },
    {
      "cell_type": "markdown",
      "metadata": {
        "id": "854P6UTZWrvP",
        "colab_type": "text"
      },
      "source": [
        "Import the necessary libraries"
      ]
    },
    {
      "cell_type": "code",
      "metadata": {
        "id": "ccgtIx7YpSch",
        "colab_type": "code",
        "colab": {}
      },
      "source": [
        "import numpy as np\n",
        "import pylab as pl\n",
        "from sklearn import svm\n",
        "from sklearn import linear_model\n",
        "from sklearn import tree\n",
        "import pandas as pd"
      ],
      "execution_count": 49,
      "outputs": []
    },
    {
      "cell_type": "markdown",
      "metadata": {
        "id": "xqOc16mhWuSK",
        "colab_type": "text"
      },
      "source": [
        "Define a Python function for plotting the data and models"
      ]
    },
    {
      "cell_type": "code",
      "metadata": {
        "id": "50CjzYGopVVM",
        "colab_type": "code",
        "colab": {}
      },
      "source": [
        "def plot_results_with_hyperplane(clf, clf_name, df, plt_nmbr):\n",
        " x_min, x_max = df.x.min() - .5, df.x.max() + .5\n",
        " y_min, y_max = df.y.min() - .5, df.y.max() + .5\n",
        "\n",
        " # step between points. i.e. [0, 0.02, 0.04, ...]\n",
        " step = .02\n",
        " # to plot the boundary, we're going to create a matrix of every possible point\n",
        " # then label each point as a wolf or cow using our classifier\n",
        " xx, yy = np.meshgrid(np.arange(x_min, x_max, step), np.arange(y_min, y_max, step))\n",
        " Z = clf.predict(np.c_[xx.ravel(), yy.ravel()])\n",
        " # this gets our predictions back into a matrix\n",
        " Z = Z.reshape(xx.shape)\n",
        "\n",
        " # create a subplot (we're going to have more than 1 plot on a given image)\n",
        " #pl.subplot(2, 2, plt_nmbr)\n",
        " # plot the boundaries\n",
        " pl.pcolormesh(xx, yy, Z, cmap=pl.cm.Paired)\n",
        "\n",
        " # plot the wolves and cows\n",
        " for animal in df.animal.unique():\n",
        "    pl.scatter(df[df.animal==animal].x,\n",
        "    df[df.animal==animal].y,\n",
        "    marker=animal,\n",
        "    label=\"cows\" if animal==\"x\" else \"wolves\",\n",
        "    color='black')\n",
        "\n",
        " pl.title(clf_name)\n",
        " pl.legend(loc=\"best\")"
      ],
      "execution_count": 50,
      "outputs": []
    },
    {
      "cell_type": "markdown",
      "metadata": {
        "id": "zOjbAMlCW3Bx",
        "colab_type": "text"
      },
      "source": [
        "Get the data"
      ]
    },
    {
      "cell_type": "code",
      "metadata": {
        "id": "SkmuQCG1q3lY",
        "colab_type": "code",
        "colab": {}
      },
      "source": [
        "data = open(\"cows_and_wolves.txt\").read()\n",
        "data = [row.split('\\t') for row in data.strip().split('\\n')]\n"
      ],
      "execution_count": 51,
      "outputs": []
    },
    {
      "cell_type": "markdown",
      "metadata": {
        "id": "G1_I1ipJW5Mf",
        "colab_type": "text"
      },
      "source": [
        "Prepare the data for ML"
      ]
    },
    {
      "cell_type": "code",
      "metadata": {
        "id": "W5G-7UgphD1D",
        "colab_type": "code",
        "colab": {}
      },
      "source": [
        "animals = []\n",
        "for y, row in enumerate(data):\n",
        "    for x, item in enumerate(row):\n",
        "        # x's are cows, o's are wolves\n",
        "        if item in ['o', 'x']:\n",
        "            animals.append([x, y, item])"
      ],
      "execution_count": 53,
      "outputs": []
    },
    {
      "cell_type": "code",
      "metadata": {
        "id": "PptKWf34pCPV",
        "colab_type": "code",
        "colab": {}
      },
      "source": [
        "\n",
        "# Data driven farmer goes to the Rodeo\n",
        "df = pd.DataFrame(animals, columns=[\"x\", \"y\", \"animal\"])\n",
        "df['animal_type'] = df.animal.apply(lambda x: 0 if x==\"x\" else 1)\n",
        "\n",
        "# train using the x and y position coordiantes\n",
        "train_cols = [\"x\", \"y\"]\n",
        "\n",
        "clfs = {\n",
        "  \"Logistic Reg\" : linear_model.LogisticRegression(),\n",
        "  \"Decision Tree\": tree.DecisionTreeClassifier(),\n",
        "  \"SVM\": svm.SVC()\n",
        "}\n",
        "\n",
        "plt_nmbr = 1"
      ],
      "execution_count": 54,
      "outputs": []
    },
    {
      "cell_type": "markdown",
      "metadata": {
        "id": "urkJgPO-XAZo",
        "colab_type": "text"
      },
      "source": [
        "Plot the wolves and cows"
      ]
    },
    {
      "cell_type": "code",
      "metadata": {
        "id": "dmY0vVpUSMPj",
        "colab_type": "code",
        "colab": {
          "base_uri": "https://localhost:8080/",
          "height": 282
        },
        "outputId": "6c40eb19-ea26-43a1-b324-ab3d6aa16ac0"
      },
      "source": [
        " # plot the wolves and cows\n",
        " for animal in df.animal.unique():\n",
        "    pl.scatter(df[df.animal==animal].x,\n",
        "    df[df.animal==animal].y,\n",
        "    marker=animal,\n",
        "    label=\"cows\" if animal==\"x\" else \"wolves\",\n",
        "    color='green'if animal==\"x\" else 'red',\n",
        "    )\n",
        "pl.legend()\n",
        "pl.show"
      ],
      "execution_count": 55,
      "outputs": [
        {
          "output_type": "execute_result",
          "data": {
            "text/plain": [
              "<function matplotlib.pyplot.show>"
            ]
          },
          "metadata": {
            "tags": []
          },
          "execution_count": 55
        },
        {
          "output_type": "display_data",
          "data": {
            "image/png": "[encoded data removed]",
            "text/plain": [
              "<Figure size 432x288 with 1 Axes>"
            ]
          },
          "metadata": {
            "tags": [],
            "needs_background": "light"
          }
        }
      ]
    },
    {
      "cell_type": "markdown",
      "metadata": {
        "id": "wJCy2zL4XFN4",
        "colab_type": "text"
      },
      "source": [
        "Find a fence with Linear Regression"
      ]
    },
    {
      "cell_type": "code",
      "metadata": {
        "id": "Dqh0sr1RVF-o",
        "colab_type": "code",
        "colab": {
          "base_uri": "https://localhost:8080/",
          "height": 341
        },
        "outputId": "ec4dca08-8ed6-45a0-fc29-68f0c986b1df"
      },
      "source": [
        "clf = linear_model.LogisticRegression()\n",
        "clf.fit(df[train_cols], df.animal_type)\n",
        "plot_results_with_hyperplane(clf, clf, df, plt_nmbr)\n",
        "pl.show()"
      ],
      "execution_count": 56,
      "outputs": [
        {
          "output_type": "display_data",
          "data": {
            "image/png": "[encoded data removed]",
            "text/plain": [
              "<Figure size 432x288 with 1 Axes>"
            ]
          },
          "metadata": {
            "tags": [],
            "needs_background": "light"
          }
        }
      ]
    },
    {
      "cell_type": "markdown",
      "metadata": {
        "id": "sXKy0epMXSkn",
        "colab_type": "text"
      },
      "source": [
        "Find a fence boundary with Decision Trees"
      ]
    },
    {
      "cell_type": "code",
      "metadata": {
        "id": "-Q5z5EpGVsrQ",
        "colab_type": "code",
        "colab": {
          "base_uri": "https://localhost:8080/",
          "height": 298
        },
        "outputId": "d6b84c42-abe6-4d6b-a2bc-d6b499a5458b"
      },
      "source": [
        "clf = tree.DecisionTreeClassifier()\n",
        "clf.fit(df[train_cols], df.animal_type)\n",
        "plot_results_with_hyperplane(clf, \"Decision Tree\", df, 1)\n",
        "pl.figure(figsize=[10,10])\n",
        "pl.show()"
      ],
      "execution_count": 57,
      "outputs": [
        {
          "output_type": "display_data",
          "data": {
            "image/png": "[encoded data removed]",
            "text/plain": [
              "<Figure size 432x288 with 1 Axes>"
            ]
          },
          "metadata": {
            "tags": [],
            "needs_background": "light"
          }
        },
        {
          "output_type": "display_data",
          "data": {
            "text/plain": [
              "<Figure size 720x720 with 0 Axes>"
            ]
          },
          "metadata": {
            "tags": []
          }
        }
      ]
    },
    {
      "cell_type": "markdown",
      "metadata": {
        "id": "NAJNjhk9XXLc",
        "colab_type": "text"
      },
      "source": [
        "Find the fence boundary with SVM"
      ]
    },
    {
      "cell_type": "code",
      "metadata": {
        "id": "CGt3frhaVzZF",
        "colab_type": "code",
        "colab": {
          "base_uri": "https://localhost:8080/",
          "height": 298
        },
        "outputId": "381f4b32-6901-4000-88f6-9ab8dfdd3b20"
      },
      "source": [
        "clf = svm.SVC()\n",
        "clf.fit(df[train_cols], df.animal_type)\n",
        "plot_results_with_hyperplane(clf, \"SVM\", df, 1)\n",
        "pl.figure(figsize=[10,10])\n",
        "pl.show()"
      ],
      "execution_count": 58,
      "outputs": [
        {
          "output_type": "display_data",
          "data": {
            "image/png": "[encoded data removed]",
            "text/plain": [
              "<Figure size 432x288 with 1 Axes>"
            ]
          },
          "metadata": {
            "tags": [],
            "needs_background": "light"
          }
        },
        {
          "output_type": "display_data",
          "data": {
            "text/plain": [
              "<Figure size 720x720 with 0 Axes>"
            ]
          },
          "metadata": {
            "tags": []
          }
        }
      ]
    }
  ]
}