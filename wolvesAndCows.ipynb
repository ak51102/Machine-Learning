{
  "nbformat": 4,
  "nbformat_minor": 0,
  "metadata": {
    "colab": {
      "name": "wolvesAndCows.ipynb",
      "provenance": [],
      "include_colab_link": true
    },
    "kernelspec": {
      "name": "python3",
      "display_name": "Python 3"
    }
  },
  "cells": [
    {
      "cell_type": "markdown",
      "metadata": {
        "id": "view-in-github",
        "colab_type": "text"
      },
      "source": [
        "<a href=\"https://colab.research.google.com/github/cagBRT/Machine-Learning/blob/master/wolvesAndCows.ipynb\" target=\"_parent\"><img src=\"https://colab.research.google.com/assets/colab-badge.svg\" alt=\"Open In Colab\"/></a>"
      ]
    },
    {
      "cell_type": "markdown",
      "metadata": {
        "id": "ssR2P276sceV",
        "colab_type": "text"
      },
      "source": [
        "Need to copy cows_and_wolves.txt to the drive"
      ]
    },
    {
      "cell_type": "markdown",
      "metadata": {
        "id": "KxHfVx93wOOh",
        "colab_type": "text"
      },
      "source": [
        "Imagine you're a farmer and you have a problem--you need to setup a fence to protect your cows from packs of wovles. But where do you build your fence? "
      ]
    },
    {
      "cell_type": "code",
      "metadata": {
        "id": "H1ozWgrYQGMG",
        "colab_type": "code",
        "outputId": "5c36eaa6-3a12-41d2-bf86-ff7f5ebe8a73",
        "colab": {
          "base_uri": "https://localhost:8080/",
          "height": 708
        }
      },
      "source": [
        "!git clone -l -s https://github.com/cagBRT/Machine-Learning.git cloned-repo\n",
        "%cd cloned-repo\n",
        "!ls"
      ],
      "execution_count": 76,
      "outputs": [
        {
          "output_type": "stream",
          "text": [
            "Cloning into 'cloned-repo'...\n",
            "warning: --local is ignored\n",
            "remote: Enumerating objects: 79, done.\u001b[K\n",
            "remote: Counting objects:   1% (1/79)\u001b[K\rremote: Counting objects:   2% (2/79)\u001b[K\rremote: Counting objects:   3% (3/79)\u001b[K\rremote: Counting objects:   5% (4/79)\u001b[K\rremote: Counting objects:   6% (5/79)\u001b[K\rremote: Counting objects:   7% (6/79)\u001b[K\rremote: Counting objects:   8% (7/79)\u001b[K\rremote: Counting objects:  10% (8/79)\u001b[K\rremote: Counting objects:  11% (9/79)\u001b[K\rremote: Counting objects:  12% (10/79)\u001b[K\rremote: Counting objects:  13% (11/79)\u001b[K\rremote: Counting objects:  15% (12/79)\u001b[K\rremote: Counting objects:  16% (13/79)\u001b[K\rremote: Counting objects:  17% (14/79)\u001b[K\rremote: Counting objects:  18% (15/79)\u001b[K\rremote: Counting objects:  20% (16/79)\u001b[K\rremote: Counting objects:  21% (17/79)\u001b[K\rremote: Counting objects:  22% (18/79)\u001b[K\rremote: Counting objects:  24% (19/79)\u001b[K\rremote: Counting objects:  25% (20/79)\u001b[K\rremote: Counting objects:  26% (21/79)\u001b[K\rremote: Counting objects:  27% (22/79)\u001b[K\rremote: Counting objects:  29% (23/79)\u001b[K\rremote: Counting objects:  30% (24/79)\u001b[K\rremote: Counting objects:  31% (25/79)\u001b[K\rremote: Counting objects:  32% (26/79)\u001b[K\rremote: Counting objects:  34% (27/79)\u001b[K\rremote: Counting objects:  35% (28/79)\u001b[K\rremote: Counting objects:  36% (29/79)\u001b[K\rremote: Counting objects:  37% (30/79)\u001b[K\rremote: Counting objects:  39% (31/79)\u001b[K\rremote: Counting objects:  40% (32/79)\u001b[K\rremote: Counting objects:  41% (33/79)\u001b[K\rremote: Counting objects:  43% (34/79)\u001b[K\rremote: Counting objects:  44% (35/79)\u001b[K\rremote: Counting objects:  45% (36/79)\u001b[K\rremote: Counting objects:  46% (37/79)\u001b[K\rremote: Counting objects:  48% (38/79)\u001b[K\rremote: Counting objects:  49% (39/79)\u001b[K\rremote: Counting objects:  50% (40/79)\u001b[K\rremote: Counting objects:  51% (41/79)\u001b[K\rremote: Counting objects:  53% (42/79)\u001b[K\rremote: Counting objects:  54% (43/79)\u001b[K\rremote: Counting objects:  55% (44/79)\u001b[K\rremote: Counting objects:  56% (45/79)\u001b[K\rremote: Counting objects:  58% (46/79)\u001b[K\rremote: Counting objects:  59% (47/79)\u001b[K\rremote: Counting objects:  60% (48/79)\u001b[K\rremote: Counting objects:  62% (49/79)\u001b[K\rremote: Counting objects:  63% (50/79)\u001b[K\rremote: Counting objects:  64% (51/79)\u001b[K\rremote: Counting objects:  65% (52/79)\u001b[K\rremote: Counting objects:  67% (53/79)\u001b[K\rremote: Counting objects:  68% (54/79)\u001b[K\rremote: Counting objects:  69% (55/79)\u001b[K\rremote: Counting objects:  70% (56/79)\u001b[K\rremote: Counting objects:  72% (57/79)\u001b[K\rremote: Counting objects:  73% (58/79)\u001b[K\rremote: Counting objects:  74% (59/79)\u001b[K\rremote: Counting objects:  75% (60/79)\u001b[K\rremote: Counting objects:  77% (61/79)\u001b[K\rremote: Counting objects:  78% (62/79)\u001b[K\rremote: Counting objects:  79% (63/79)\u001b[K\rremote: Counting objects:  81% (64/79)\u001b[K\rremote: Counting objects:  82% (65/79)\u001b[K\rremote: Counting objects:  83% (66/79)\u001b[K\rremote: Counting objects:  84% (67/79)\u001b[K\rremote: Counting objects:  86% (68/79)\u001b[K\rremote: Counting objects:  87% (69/79)\u001b[K\rremote: Counting objects:  88% (70/79)\u001b[K\rremote: Counting objects:  89% (71/79)\u001b[K\rremote: Counting objects:  91% (72/79)\u001b[K\rremote: Counting objects:  92% (73/79)\u001b[K\rremote: Counting objects:  93% (74/79)\u001b[K\rremote: Counting objects:  94% (75/79)\u001b[K\rremote: Counting objects:  96% (76/79)\u001b[K\rremote: Counting objects:  97% (77/79)\u001b[K\rremote: Counting objects:  98% (78/79)\u001b[K\rremote: Counting objects: 100% (79/79)\u001b[K\rremote: Counting objects: 100% (79/79), done.\u001b[K\n",
            "remote: Compressing objects: 100% (78/78), done.\u001b[K\n",
            "remote: Total 616 (delta 45), reused 4 (delta 1), pack-reused 537\u001b[K\n",
            "Receiving objects: 100% (616/616), 26.31 MiB | 20.04 MiB/s, done.\n",
            "Resolving deltas: 100% (380/380), done.\n",
            "/content/cloned-repo/cloned-repo\n",
            " Admission_Predict.csv\t\t       LogReg_Titanic.ipynb\n",
            " bank.csv\t\t\t       NaiveBayesBernoulli.ipynb\n",
            " bank-full.csv\t\t\t       NaiveBayesGaussian2.ipynb\n",
            " boston_housing.csv\t\t       NaiveBayesGaussian.ipynb\n",
            " breast_cancer_data.csv\t\t       NaiveBayesMultinomialNB2.ipynb\n",
            " cardata.data\t\t\t       NaiveBayesMultinomialNB.ipynb\n",
            " cows_and_wolves.txt\t\t       naiveBayes.png\n",
            " diabetesML.ipynb\t\t       pima_indians_diabetes.csv\n",
            " dogOrMuffin.ipynb\t\t       prediction_cases.csv\n",
            " fashion-mnist-sprite.png\t       README.md\n",
            " height_weight.csv\t\t       Social_Network_Ads.csv\n",
            " hourly_wages.csv\t\t       styleTransfer_1.ipynb\n",
            "'HP1 Cars.ipynb'\t\t       styleTransfer_2.ipynb\n",
            "'HP2 Wage_per_hour.ipynb'\t       styleTransfer.ipynb\n",
            "'HP3 boston_housing.ipynb'\t       StyleTransfer.ipynb\n",
            "'HP3 Iris.ipynb'\t\t       SVM3.ipynb\n",
            " HP3_WineTypeBC.ipynb\t\t       SVMcompare.ipynb\n",
            "'HP4 WineQuality.ipynb'\t\t       SVM.ipynb\n",
            "'HP5 muffinOrDog.ipynb'\t\t       SVM_MultiClass.ipynb\n",
            "'HP6 fashion_mnist.ipynb'\t       test.csv\n",
            " HyperParameter_Tuning.ipynb\t       testPhone.csv\n",
            " KNN_1.ipynb\t\t\t       TextClassification.ipynb\n",
            " KNN2.ipynb\t\t\t       train.csv\n",
            " KNN_Regression.ipynb\t\t       trainPhone.csv\n",
            " LinearRegression1.ipynb\t       tripAdvisor.ipynb\n",
            " LinearRegression2.ipynb\t       tripAdvisorReviews.csv\n",
            " LinearRegression3.ipynb\t       weather.csv\n",
            " LinearRegression4_WineQuality.ipynb   winequality-red.csv\n",
            " LogisticRegression_1.ipynb\t       winequality-white.csv\n",
            " Logistic_Regression_3.ipynb\t       wolvesAndCows.ipynb\n",
            " Logistic_Regression_4.ipynb\n"
          ],
          "name": "stdout"
        }
      ]
    },
    {
      "cell_type": "markdown",
      "metadata": {
        "id": "854P6UTZWrvP",
        "colab_type": "text"
      },
      "source": [
        "Import the necessary libraries"
      ]
    },
    {
      "cell_type": "code",
      "metadata": {
        "id": "ccgtIx7YpSch",
        "colab_type": "code",
        "colab": {}
      },
      "source": [
        "import numpy as np\n",
        "import pylab as pl\n",
        "from sklearn import svm\n",
        "from sklearn import linear_model\n",
        "from sklearn import tree\n",
        "import pandas as pd"
      ],
      "execution_count": 0,
      "outputs": []
    },
    {
      "cell_type": "markdown",
      "metadata": {
        "id": "xqOc16mhWuSK",
        "colab_type": "text"
      },
      "source": [
        "Define a Python function for plotting the data and models"
      ]
    },
    {
      "cell_type": "code",
      "metadata": {
        "id": "50CjzYGopVVM",
        "colab_type": "code",
        "colab": {}
      },
      "source": [
        "def plot_results_with_hyperplane(clf, clf_name, df, plt_nmbr):\n",
        " x_min, x_max = df.x.min() - .5, df.x.max() + .5\n",
        " y_min, y_max = df.y.min() - .5, df.y.max() + .5\n",
        "\n",
        " # step between points. i.e. [0, 0.02, 0.04, ...]\n",
        " step = .02\n",
        " # to plot the boundary, we're going to create a matrix of every possible point\n",
        " # then label each point as a wolf or cow using our classifier\n",
        " xx, yy = np.meshgrid(np.arange(x_min, x_max, step), np.arange(y_min, y_max, step))\n",
        " Z = clf.predict(np.c_[xx.ravel(), yy.ravel()])\n",
        " # this gets our predictions back into a matrix\n",
        " Z = Z.reshape(xx.shape)\n",
        "\n",
        " # create a subplot (we're going to have more than 1 plot on a given image)\n",
        " #pl.subplot(2, 2, plt_nmbr)\n",
        " # plot the boundaries\n",
        " pl.pcolormesh(xx, yy, Z, cmap=pl.cm.Paired)\n",
        "\n",
        " # plot the wolves and cows\n",
        " for animal in df.animal.unique():\n",
        "    pl.scatter(df[df.animal==animal].x,\n",
        "    df[df.animal==animal].y,\n",
        "    marker=animal,\n",
        "    label=\"cows\" if animal==\"x\" else \"wolves\",\n",
        "    color='black')\n",
        "\n",
        " pl.title(clf_name)\n",
        " pl.legend(loc=\"best\")"
      ],
      "execution_count": 0,
      "outputs": []
    },
    {
      "cell_type": "markdown",
      "metadata": {
        "id": "zOjbAMlCW3Bx",
        "colab_type": "text"
      },
      "source": [
        "Get the data"
      ]
    },
    {
      "cell_type": "code",
      "metadata": {
        "id": "SkmuQCG1q3lY",
        "colab_type": "code",
        "colab": {}
      },
      "source": [
        "data = open(\"cows_and_wolves.txt\").read()\n",
        "data = [row.split('\\t') for row in data.strip().split('\\n')]"
      ],
      "execution_count": 0,
      "outputs": []
    },
    {
      "cell_type": "markdown",
      "metadata": {
        "id": "G1_I1ipJW5Mf",
        "colab_type": "text"
      },
      "source": [
        "Prepare the data for ML"
      ]
    },
    {
      "cell_type": "code",
      "metadata": {
        "id": "PptKWf34pCPV",
        "colab_type": "code",
        "colab": {}
      },
      "source": [
        "# Data driven farmer goes to the Rodeo\n",
        "df = pd.DataFrame(animals, columns=[\"x\", \"y\", \"animal\"])\n",
        "df['animal_type'] = df.animal.apply(lambda x: 0 if x==\"x\" else 1)\n",
        "\n",
        "# train using the x and y position coordiantes\n",
        "train_cols = [\"x\", \"y\"]\n",
        "\n",
        "clfs = {\n",
        "  \"Logistic Reg\" : linear_model.LogisticRegression(),\n",
        "  \"Decision Tree\": tree.DecisionTreeClassifier(),\n",
        "  \"SVM\": svm.SVC()\n",
        "}\n",
        "\n",
        "plt_nmbr = 1\n"
      ],
      "execution_count": 0,
      "outputs": []
    },
    {
      "cell_type": "markdown",
      "metadata": {
        "id": "urkJgPO-XAZo",
        "colab_type": "text"
      },
      "source": [
        "Plot the wolves and cows"
      ]
    },
    {
      "cell_type": "code",
      "metadata": {
        "id": "dmY0vVpUSMPj",
        "colab_type": "code",
        "outputId": "86682da0-f29e-4aad-d5bf-fca21b7a5a02",
        "colab": {
          "base_uri": "https://localhost:8080/",
          "height": 265
        }
      },
      "source": [
        " # plot the wolves and cows\n",
        " for animal in df.animal.unique():\n",
        "    pl.scatter(df[df.animal==animal].x,\n",
        "    df[df.animal==animal].y,\n",
        "    marker=animal,\n",
        "    label=\"cows\" if animal==\"x\" else \"wolves\",\n",
        "    color='green'if animal==\"x\" else 'red',)\n",
        "\n",
        "#X = cows\n",
        "#o = wolves"
      ],
      "execution_count": 86,
      "outputs": [
        {
          "output_type": "display_data",
          "data": {
            "image/png": "[encoded data removed]",
            "text/plain": [
              "<Figure size 432x288 with 1 Axes>"
            ]
          },
          "metadata": {
            "tags": [],
            "needs_background": "light"
          }
        }
      ]
    },
    {
      "cell_type": "markdown",
      "metadata": {
        "id": "wJCy2zL4XFN4",
        "colab_type": "text"
      },
      "source": [
        "Find a fence with Linear Regression"
      ]
    },
    {
      "cell_type": "code",
      "metadata": {
        "id": "Dqh0sr1RVF-o",
        "colab_type": "code",
        "outputId": "6bad3b55-c507-4548-c0a3-a698bb5d34fa",
        "colab": {
          "base_uri": "https://localhost:8080/",
          "height": 298
        }
      },
      "source": [
        "clf = linear_model.LogisticRegression()\n",
        "clf.fit(df[train_cols], df.animal_type)\n",
        "plot_results_with_hyperplane(clf, \"Logistic Rregression\", df, 1)\n",
        "#plt_nmbr += 1\n",
        "pl.figure(figsize=[10,10])\n",
        "pl.show()"
      ],
      "execution_count": 81,
      "outputs": [
        {
          "output_type": "display_data",
          "data": {
            "image/png": "[encoded data removed]",
            "text/plain": [
              "<Figure size 432x288 with 1 Axes>"
            ]
          },
          "metadata": {
            "tags": [],
            "needs_background": "light"
          }
        },
        {
          "output_type": "display_data",
          "data": {
            "text/plain": [
              "<Figure size 720x720 with 0 Axes>"
            ]
          },
          "metadata": {
            "tags": []
          }
        }
      ]
    },
    {
      "cell_type": "markdown",
      "metadata": {
        "id": "sXKy0epMXSkn",
        "colab_type": "text"
      },
      "source": [
        "Find a fence boundary with Decision Trees"
      ]
    },
    {
      "cell_type": "code",
      "metadata": {
        "id": "-Q5z5EpGVsrQ",
        "colab_type": "code",
        "outputId": "1d548f1e-b37b-4116-bc47-962cbede0a89",
        "colab": {
          "base_uri": "https://localhost:8080/",
          "height": 298
        }
      },
      "source": [
        "clf = tree.DecisionTreeClassifier()\n",
        "clf.fit(df[train_cols], df.animal_type)\n",
        "plot_results_with_hyperplane(clf, \"Decision Tree\", df, 1)\n",
        "#plt_nmbr += 1\n",
        "pl.figure(figsize=[10,10])\n",
        "pl.show()"
      ],
      "execution_count": 74,
      "outputs": [
        {
          "output_type": "display_data",
          "data": {
            "image/png": "[encoded data removed]",
            "text/plain": [
              "<Figure size 432x288 with 1 Axes>"
            ]
          },
          "metadata": {
            "tags": [],
            "needs_background": "light"
          }
        },
        {
          "output_type": "display_data",
          "data": {
            "text/plain": [
              "<Figure size 720x720 with 0 Axes>"
            ]
          },
          "metadata": {
            "tags": []
          }
        }
      ]
    },
    {
      "cell_type": "markdown",
      "metadata": {
        "id": "NAJNjhk9XXLc",
        "colab_type": "text"
      },
      "source": [
        "Find the fence boundary with SVM"
      ]
    },
    {
      "cell_type": "code",
      "metadata": {
        "id": "CGt3frhaVzZF",
        "colab_type": "code",
        "outputId": "9a54864f-80df-4df7-a8a6-2d150ab5b807",
        "colab": {
          "base_uri": "https://localhost:8080/",
          "height": 298
        }
      },
      "source": [
        "clf = svm.SVC()\n",
        "clf.fit(df[train_cols], df.animal_type)\n",
        "plot_results_with_hyperplane(clf, \"SVM\", df, 1)\n",
        "#plt_nmbr += 1\n",
        "pl.figure(figsize=[10,10])\n",
        "pl.show()"
      ],
      "execution_count": 75,
      "outputs": [
        {
          "output_type": "display_data",
          "data": {
            "image/png": "[encoded data removed]",
            "text/plain": [
              "<Figure size 432x288 with 1 Axes>"
            ]
          },
          "metadata": {
            "tags": [],
            "needs_background": "light"
          }
        },
        {
          "output_type": "display_data",
          "data": {
            "text/plain": [
              "<Figure size 720x720 with 0 Axes>"
            ]
          },
          "metadata": {
            "tags": []
          }
        }
      ]
    }
  ]
}