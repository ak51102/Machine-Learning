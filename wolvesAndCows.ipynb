{
  "nbformat": 4,
  "nbformat_minor": 0,
  "metadata": {
    "colab": {
      "name": "wolvesAndCows.ipynb",
      "provenance": [],
      "include_colab_link": true
    },
    "kernelspec": {
      "name": "python3",
      "display_name": "Python 3"
    }
  },
  "cells": [
    {
      "cell_type": "markdown",
      "metadata": {
        "id": "view-in-github",
        "colab_type": "text"
      },
      "source": [
        "<a href=\"https://colab.research.google.com/github/cagBRT/Machine-Learning/blob/master/wolvesAndCows.ipynb\" target=\"_parent\"><img src=\"https://colab.research.google.com/assets/colab-badge.svg\" alt=\"Open In Colab\"/></a>"
      ]
    },
    {
      "cell_type": "markdown",
      "metadata": {
        "id": "KxHfVx93wOOh",
        "colab_type": "text"
      },
      "source": [
        "Imagine you're a farmer and you have a problem--you need to setup a fence to protect your cows from packs of wovles. But where do you build your fence? "
      ]
    },
    {
      "cell_type": "code",
      "metadata": {
        "id": "H1ozWgrYQGMG",
        "colab_type": "code",
        "colab": {}
      },
      "source": [
        "!git clone -l -s https://github.com/cagBRT/Machine-Learning.git cloned-repo\n",
        "%cd cloned-repo\n",
        "!ls"
      ],
      "execution_count": null,
      "outputs": []
    },
    {
      "cell_type": "markdown",
      "metadata": {
        "id": "854P6UTZWrvP",
        "colab_type": "text"
      },
      "source": [
        "Import the necessary libraries"
      ]
    },
    {
      "cell_type": "code",
      "metadata": {
        "id": "ccgtIx7YpSch",
        "colab_type": "code",
        "colab": {}
      },
      "source": [
        "import numpy as np\n",
        "import pylab as pl\n",
        "from sklearn import svm\n",
        "from sklearn import linear_model\n",
        "from sklearn import tree\n",
        "import pandas as pd"
      ],
      "execution_count": null,
      "outputs": []
    },
    {
      "cell_type": "markdown",
      "metadata": {
        "id": "xqOc16mhWuSK",
        "colab_type": "text"
      },
      "source": [
        "Define a Python function for plotting the data and models"
      ]
    },
    {
      "cell_type": "code",
      "metadata": {
        "id": "50CjzYGopVVM",
        "colab_type": "code",
        "colab": {}
      },
      "source": [
        "def plot_results_with_hyperplane(clf, clf_name, df, plt_nmbr):\n",
        " x_min, x_max = df.x.min() - .5, df.x.max() + .5\n",
        " y_min, y_max = df.y.min() - .5, df.y.max() + .5\n",
        "\n",
        " # step between points. i.e. [0, 0.02, 0.04, ...]\n",
        " step = .02\n",
        " # to plot the boundary, we're going to create a matrix of every possible point\n",
        " # then label each point as a wolf or cow using our classifier\n",
        " xx, yy = np.meshgrid(np.arange(x_min, x_max, step), np.arange(y_min, y_max, step))\n",
        " Z = clf.predict(np.c_[xx.ravel(), yy.ravel()])\n",
        " # this gets our predictions back into a matrix\n",
        " Z = Z.reshape(xx.shape)\n",
        "\n",
        " # create a subplot (we're going to have more than 1 plot on a given image)\n",
        " #pl.subplot(2, 2, plt_nmbr)\n",
        " # plot the boundaries\n",
        " pl.pcolormesh(xx, yy, Z, cmap=pl.cm.Paired)\n",
        "\n",
        " # plot the wolves and cows\n",
        " for animal in df.animal.unique():\n",
        "    pl.scatter(df[df.animal==animal].x,\n",
        "    df[df.animal==animal].y,\n",
        "    marker=animal,\n",
        "    label=\"cows\" if animal==\"x\" else \"wolves\",\n",
        "    color='black')\n",
        "\n",
        " pl.title(clf_name)\n",
        " pl.legend(loc=\"best\")"
      ],
      "execution_count": null,
      "outputs": []
    },
    {
      "cell_type": "markdown",
      "metadata": {
        "id": "zOjbAMlCW3Bx",
        "colab_type": "text"
      },
      "source": [
        "Get the data"
      ]
    },
    {
      "cell_type": "code",
      "metadata": {
        "id": "SkmuQCG1q3lY",
        "colab_type": "code",
        "colab": {}
      },
      "source": [
        "data = open(\"cows_and_wolves.txt\").read()\n",
        "data = [row.split('\\t') for row in data.strip().split('\\n')]\n"
      ],
      "execution_count": null,
      "outputs": []
    },
    {
      "cell_type": "markdown",
      "metadata": {
        "id": "G1_I1ipJW5Mf",
        "colab_type": "text"
      },
      "source": [
        "Prepare the data for ML"
      ]
    },
    {
      "cell_type": "code",
      "metadata": {
        "id": "W5G-7UgphD1D",
        "colab_type": "code",
        "colab": {}
      },
      "source": [
        "animals = []\n",
        "for y, row in enumerate(data):\n",
        "    for x, item in enumerate(row):\n",
        "        # x's are cows, o's are wolves\n",
        "        if item in ['o', 'x']:\n",
        "            animals.append([x, y, item])"
      ],
      "execution_count": null,
      "outputs": []
    },
    {
      "cell_type": "code",
      "metadata": {
        "id": "PptKWf34pCPV",
        "colab_type": "code",
        "colab": {}
      },
      "source": [
        "\n",
        "# Data driven farmer goes to the Rodeo\n",
        "df = pd.DataFrame(animals, columns=[\"x\", \"y\", \"animal\"])\n",
        "df['animal_type'] = df.animal.apply(lambda x: 0 if x==\"x\" else 1)\n",
        "\n",
        "# train using the x and y position coordiantes\n",
        "train_cols = [\"x\", \"y\"]\n",
        "\n",
        "clfs = {\n",
        "  \"Logistic Reg\" : linear_model.LogisticRegression(),\n",
        "  \"Decision Tree\": tree.DecisionTreeClassifier(),\n",
        "  \"SVM\": svm.SVC()\n",
        "}\n",
        "\n",
        "plt_nmbr = 1"
      ],
      "execution_count": null,
      "outputs": []
    },
    {
      "cell_type": "markdown",
      "metadata": {
        "id": "urkJgPO-XAZo",
        "colab_type": "text"
      },
      "source": [
        "Plot the wolves and cows"
      ]
    },
    {
      "cell_type": "code",
      "metadata": {
        "id": "dmY0vVpUSMPj",
        "colab_type": "code",
        "colab": {}
      },
      "source": [
        " # plot the wolves and cows\n",
        " for animal in df.animal.unique():\n",
        "    pl.scatter(df[df.animal==animal].x,\n",
        "    df[df.animal==animal].y,\n",
        "    marker=animal,\n",
        "    label=\"cows\" if animal==\"x\" else \"wolves\",\n",
        "    color='green'if animal==\"x\" else 'red',\n",
        "    )\n",
        "pl.legend()\n",
        "pl.show"
      ],
      "execution_count": null,
      "outputs": []
    },
    {
      "cell_type": "markdown",
      "metadata": {
        "id": "wJCy2zL4XFN4",
        "colab_type": "text"
      },
      "source": [
        "Find a fence with Linear Regression"
      ]
    },
    {
      "cell_type": "code",
      "metadata": {
        "id": "Dqh0sr1RVF-o",
        "colab_type": "code",
        "colab": {}
      },
      "source": [
        "clf = linear_model.LogisticRegression()\n",
        "clf.fit(df[train_cols], df.animal_type)\n",
        "plot_results_with_hyperplane(clf, \"Logistic Regression\", df, plt_nmbr)\n",
        "pl.show()"
      ],
      "execution_count": null,
      "outputs": []
    },
    {
      "cell_type": "markdown",
      "metadata": {
        "id": "sXKy0epMXSkn",
        "colab_type": "text"
      },
      "source": [
        "Find a fence boundary with Decision Trees"
      ]
    },
    {
      "cell_type": "code",
      "metadata": {
        "id": "-Q5z5EpGVsrQ",
        "colab_type": "code",
        "colab": {}
      },
      "source": [
        "clf = tree.DecisionTreeClassifier()\n",
        "clf.fit(df[train_cols], df.animal_type)\n",
        "plot_results_with_hyperplane(clf, \"Decision Tree\", df, 1)\n",
        "pl.figure(figsize=[10,10])\n",
        "pl.show()"
      ],
      "execution_count": null,
      "outputs": []
    },
    {
      "cell_type": "markdown",
      "metadata": {
        "id": "NAJNjhk9XXLc",
        "colab_type": "text"
      },
      "source": [
        "Find the fence boundary with SVM"
      ]
    },
    {
      "cell_type": "code",
      "metadata": {
        "id": "CGt3frhaVzZF",
        "colab_type": "code",
        "colab": {}
      },
      "source": [
        "clf = svm.SVC()\n",
        "clf.fit(df[train_cols], df.animal_type)\n",
        "plot_results_with_hyperplane(clf, \"SVM\", df, 1)\n",
        "pl.figure(figsize=[10,10])\n",
        "pl.show()"
      ],
      "execution_count": null,
      "outputs": []
    }
  ]
}