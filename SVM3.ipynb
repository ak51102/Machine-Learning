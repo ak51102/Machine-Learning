{
  "nbformat": 4,
  "nbformat_minor": 0,
  "metadata": {
    "colab": {
      "name": "SVM3.ipynb",
      "provenance": [],
      "private_outputs": true,
      "authorship_tag": "ABX9TyO8MugFINVapP3TJ+dBcVaa",
      "include_colab_link": true
    },
    "kernelspec": {
      "name": "python3",
      "display_name": "Python 3"
    }
  },
  "cells": [
    {
      "cell_type": "markdown",
      "metadata": {
        "id": "view-in-github",
        "colab_type": "text"
      },
      "source": [
        "<a href=\"https://colab.research.google.com/github/cagBRT/Machine-Learning/blob/master/SVM3.ipynb\" target=\"_parent\"><img src=\"https://colab.research.google.com/assets/colab-badge.svg\" alt=\"Open In Colab\"/></a>"
      ]
    },
    {
      "cell_type": "markdown",
      "metadata": {
        "id": "8lHF99erLDDt",
        "colab_type": "text"
      },
      "source": [
        "Plot the maximum margin separating hyperplane within a two-class separable dataset using a Support Vector Machine classifier with linear kernel."
      ]
    },
    {
      "cell_type": "code",
      "metadata": {
        "id": "yYqE-tUoKBuV",
        "colab_type": "code",
        "colab": {}
      },
      "source": [
        "import numpy as np\n",
        "import matplotlib.pyplot as plt\n",
        "from sklearn import svm\n",
        "from sklearn.datasets import make_blobs"
      ],
      "execution_count": 0,
      "outputs": []
    },
    {
      "cell_type": "code",
      "metadata": {
        "id": "SXQGzYRPKHSy",
        "colab_type": "code",
        "colab": {}
      },
      "source": [
        "# we create 40 separable points\n",
        "X, y = make_blobs(n_samples=100, centers=2, random_state=6)"
      ],
      "execution_count": 0,
      "outputs": []
    },
    {
      "cell_type": "code",
      "metadata": {
        "id": "91Rktgh0KJkC",
        "colab_type": "code",
        "colab": {}
      },
      "source": [
        "# fit the model, don't regularize for illustration purposes\n",
        "clf = svm.SVC(kernel='linear', C=1000)\n",
        "clf.fit(X, y)"
      ],
      "execution_count": 0,
      "outputs": []
    },
    {
      "cell_type": "code",
      "metadata": {
        "id": "zjW8ApO7KNS_",
        "colab_type": "code",
        "colab": {}
      },
      "source": [
        "plt.scatter(X[:, 0], X[:, 1], c=y, s=30, cmap=plt.cm.Paired)\n",
        "\n",
        "# plot the decision function\n",
        "ax = plt.gca()\n",
        "xlim = ax.get_xlim()\n",
        "ylim = ax.get_ylim()\n",
        "\n",
        "# create grid to evaluate model\n",
        "xx = np.linspace(xlim[0], xlim[1], 30)\n",
        "yy = np.linspace(ylim[0], ylim[1], 30)\n",
        "YY, XX = np.meshgrid(yy, xx)\n",
        "xy = np.vstack([XX.ravel(), YY.ravel()]).T\n",
        "Z = clf.decision_function(xy).reshape(XX.shape)\n",
        "\n",
        "# plot decision boundary and margins\n",
        "ax.contour(XX, YY, Z, colors='k', levels=[-1, 0, 1], alpha=0.5,\n",
        "           linestyles=['--', '-', '--'])\n",
        "# plot support vectors\n",
        "ax.scatter(clf.support_vectors_[:, 0], clf.support_vectors_[:, 1], s=100,\n",
        "           linewidth=1, facecolors='none', edgecolors='k')\n",
        "plt.show()"
      ],
      "execution_count": 0,
      "outputs": []
    },
    {
      "cell_type": "markdown",
      "metadata": {
        "id": "aRdRvtY4LXeU",
        "colab_type": "text"
      },
      "source": [
        "Perform binary classification using non-linear SVC with RBF kernel. The target to predict is a XOR of the inputs.\n",
        "\n",
        "The color map illustrates the decision function learned by the SVC."
      ]
    },
    {
      "cell_type": "code",
      "metadata": {
        "id": "AChU1Qm6LN3U",
        "colab_type": "code",
        "colab": {}
      },
      "source": [
        "import numpy as np\n",
        "import matplotlib.pyplot as plt\n",
        "from sklearn import svm\n",
        "\n",
        "xx, yy = np.meshgrid(np.linspace(-3, 3, 500),\n",
        "                     np.linspace(-3, 3, 500))\n",
        "np.random.seed(0)\n",
        "X = np.random.randn(300, 2)\n",
        "Y = np.logical_xor(X[:, 0] > 0, X[:, 1] > 0)\n",
        "\n",
        "# fit the model\n",
        "clf = svm.NuSVC(gamma='auto')\n",
        "clf.fit(X, Y)\n",
        "\n",
        "# plot the decision function for each datapoint on the grid\n",
        "Z = clf.decision_function(np.c_[xx.ravel(), yy.ravel()])\n",
        "Z = Z.reshape(xx.shape)\n",
        "\n",
        "plt.imshow(Z, interpolation='nearest',\n",
        "           extent=(xx.min(), xx.max(), yy.min(), yy.max()), aspect='auto',\n",
        "           origin='lower', cmap=plt.cm.PuOr_r)\n",
        "contours = plt.contour(xx, yy, Z, levels=[0], linewidths=2,\n",
        "                       linestyles='dashed')\n",
        "plt.scatter(X[:, 0], X[:, 1], s=30, c=Y, cmap=plt.cm.Paired,\n",
        "            edgecolors='k')\n",
        "plt.xticks(())\n",
        "plt.yticks(())\n",
        "plt.axis([-3, 3, -3, 3])\n",
        "plt.show()"
      ],
      "execution_count": 0,
      "outputs": []
    }
  ]
}