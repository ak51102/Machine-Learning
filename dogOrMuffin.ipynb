{
  "nbformat": 4,
  "nbformat_minor": 0,
  "metadata": {
    "colab": {
      "name": "imageClass.ipynb",
      "provenance": [],
      "private_outputs": true,
      "authorship_tag": "ABX9TyPlS0oU9mAAf8Qlr6GIqyVe",
      "include_colab_link": true
    },
    "kernelspec": {
      "name": "python3",
      "display_name": "Python 3"
    }
  },
  "cells": [
    {
      "cell_type": "markdown",
      "metadata": {
        "id": "view-in-github",
        "colab_type": "text"
      },
      "source": [
        "<a href=\"https://colab.research.google.com/github/cagBRT/Machine-Learning/blob/master/dogOrMuffin.ipynb\" target=\"_parent\"><img src=\"https://colab.research.google.com/assets/colab-badge.svg\" alt=\"Open In Colab\"/></a>"
      ]
    },
    {
      "cell_type": "code",
      "metadata": {
        "id": "V-ya3V3S5v7H",
        "colab_type": "code",
        "colab": {}
      },
      "source": [
        "!git clone https://github.com/ScrapCodes/image-recognition-tensorflow.git"
      ],
      "execution_count": 0,
      "outputs": []
    },
    {
      "cell_type": "code",
      "metadata": {
        "id": "_ihMYk854VNi",
        "colab_type": "code",
        "colab": {}
      },
      "source": [
        "!sudo pip install tensorflow matplotlib pillow"
      ],
      "execution_count": 0,
      "outputs": []
    },
    {
      "cell_type": "code",
      "metadata": {
        "id": "OcCcioed4Zh2",
        "colab_type": "code",
        "colab": {}
      },
      "source": [
        "from __future__ import absolute_import, division, print_function, unicode_literals\n",
        "\n",
        "# Install TensorFlow\n",
        "try:\n",
        "  # %tensorflow_version only exists in Colab.\n",
        "  %tensorflow_version 2.x\n",
        "except Exception:\n",
        "  pass\n",
        "\n",
        "import tensorflow as tf\n",
        "import pathlib\n",
        "\n",
        "import matplotlib.pyplot as plt\n",
        "import pandas as pd\n",
        "import seaborn as sns\n",
        "import numpy as np\n",
        "\n",
        "from keras.utils import to_categorical\n",
        "from tensorflow import keras\n",
        "from tensorflow.keras import layers\n",
        "\n",
        "print(tf.__version__)\n",
        "\n",
        "# Helper libraries\n",
        "import glob, os\n",
        "import re\n",
        "\n",
        "# Pillow\n",
        "import PIL\n",
        "from PIL import Image"
      ],
      "execution_count": 0,
      "outputs": []
    },
    {
      "cell_type": "code",
      "metadata": {
        "id": "Gi7ynYUy4b2Q",
        "colab_type": "code",
        "colab": {}
      },
      "source": [
        "# Use Pillow library to convert an input jpeg to a 8 bit grey scale image array for processing.\n",
        "def jpeg_to_8_bit_greyscale(path, maxsize):\n",
        "        img = Image.open(path).convert('L')   # convert image to 8-bit grayscale\n",
        "        # Make aspect ratio as 1:1, by applying image crop.\n",
        "    # Please note, croping works for this data set, but in general one\n",
        "    # needs to locate the subject and then crop or scale accordingly.\n",
        "        WIDTH, HEIGHT = img.size\n",
        "        if WIDTH != HEIGHT:\n",
        "                m_min_d = min(WIDTH, HEIGHT)\n",
        "                img = img.crop((0, 0, m_min_d, m_min_d))\n",
        "        # Scale the image to the requested maxsize by Anti-alias sampling.\n",
        "        img.thumbnail(maxsize, PIL.Image.ANTIALIAS)\n",
        "        return np.asarray(img)\n",
        "\n"
      ],
      "execution_count": 0,
      "outputs": []
    },
    {
      "cell_type": "code",
      "metadata": {
        "id": "JPvL_lU94eLk",
        "colab_type": "code",
        "colab": {}
      },
      "source": [
        "def load_image_dataset(path_dir, maxsize):\n",
        "        images = []\n",
        "        labels = []\n",
        "        os.chdir(path_dir)\n",
        "        for file in glob.glob(\"*.jpg\"):\n",
        "                img = jpeg_to_8_bit_greyscale(file, maxsize)\n",
        "                if re.match('chihuahua.*', file):\n",
        "                        images.append(img)\n",
        "                        labels.append(0)\n",
        "                elif re.match('muffin.*', file):\n",
        "                        images.append(img)\n",
        "                        labels.append(1)\n",
        "        return (np.asarray(images), np.asarray(labels))"
      ],
      "execution_count": 0,
      "outputs": []
    },
    {
      "cell_type": "code",
      "metadata": {
        "id": "lS_uyAYx4gSK",
        "colab_type": "code",
        "colab": {}
      },
      "source": [
        "maxsize = 100, 100"
      ],
      "execution_count": 0,
      "outputs": []
    },
    {
      "cell_type": "code",
      "metadata": {
        "id": "H9-K2dJX4ix_",
        "colab_type": "code",
        "colab": {}
      },
      "source": [
        "(train_images, train_labels) = load_image_dataset('/content/image-recognition-tensorflow/chihuahua-muffin/', maxsize)\n",
        "(test_images, test_labels) = load_image_dataset('/content/image-recognition-tensorflow/chihuahua-muffin/test_set', maxsize)"
      ],
      "execution_count": 0,
      "outputs": []
    },
    {
      "cell_type": "code",
      "metadata": {
        "id": "ab_27ztgAg4v",
        "colab_type": "code",
        "colab": {}
      },
      "source": [
        "class_names = ['chihuahua', 'muffin']"
      ],
      "execution_count": 0,
      "outputs": []
    },
    {
      "cell_type": "code",
      "metadata": {
        "id": "3gGKsafZAjfK",
        "colab_type": "code",
        "colab": {}
      },
      "source": [
        "train_images.shape"
      ],
      "execution_count": 0,
      "outputs": []
    },
    {
      "cell_type": "code",
      "metadata": {
        "id": "jFYST_OTAmlc",
        "colab_type": "code",
        "colab": {}
      },
      "source": [
        "print(train_labels)\n"
      ],
      "execution_count": 0,
      "outputs": []
    },
    {
      "cell_type": "code",
      "metadata": {
        "id": "z-rAnKsGArkp",
        "colab_type": "code",
        "colab": {}
      },
      "source": [
        "test_images.shape\n",
        "print(test_labels)"
      ],
      "execution_count": 0,
      "outputs": []
    },
    {
      "cell_type": "code",
      "metadata": {
        "id": "9bJ_6yo-AuB-",
        "colab_type": "code",
        "colab": {}
      },
      "source": [
        "def display_images(images, labels):\n",
        "        plt.figure(figsize=(10,10))\n",
        "        grid_size = min(25, len(images))\n",
        "        for i in range(grid_size):\n",
        "                plt.subplot(5, 5, i+1)\n",
        "                plt.xticks([])\n",
        "                plt.yticks([])\n",
        "                plt.grid(False)\n",
        "                plt.imshow(images[i], cmap=plt.cm.binary)\n",
        "                plt.xlabel(class_names[labels[i]])"
      ],
      "execution_count": 0,
      "outputs": []
    },
    {
      "cell_type": "code",
      "metadata": {
        "id": "8jGIji8xAwMB",
        "colab_type": "code",
        "colab": {}
      },
      "source": [
        "display_images(train_images, train_labels)\n",
        "plt.show()"
      ],
      "execution_count": 0,
      "outputs": []
    },
    {
      "cell_type": "code",
      "metadata": {
        "id": "XJO5CPIBA3sy",
        "colab_type": "code",
        "colab": {}
      },
      "source": [
        "train_images = train_images / 255.0\n",
        "test_images = test_images / 255.0"
      ],
      "execution_count": 0,
      "outputs": []
    },
    {
      "cell_type": "code",
      "metadata": {
        "id": "JHups-rNA5xn",
        "colab_type": "code",
        "colab": {}
      },
      "source": [
        "# Setting up the layers.\n",
        "\n",
        "model = keras.Sequential([\n",
        "    keras.layers.Flatten(input_shape=(100, 100)),\n",
        "        keras.layers.Dense(128, activation=tf.nn.sigmoid),\n",
        "        keras.layers.Dense(16, activation=tf.nn.sigmoid),\n",
        "    keras.layers.Dense(2, activation=tf.nn.softmax)\n",
        "])"
      ],
      "execution_count": 0,
      "outputs": []
    },
    {
      "cell_type": "code",
      "metadata": {
        "id": "CQV8ujfFDbFs",
        "colab_type": "code",
        "colab": {}
      },
      "source": [
        "maxsize_w, maxsize_h = maxsize\n",
        "bigger_model = keras.models.Sequential([\n",
        "\t\t#keras.layers.Conv2D(64, \n",
        "\t\t#kernel_size=3, strides=3, padding='same', input_shape=(maxsize_w, maxsize_h, 1)),\n",
        "    \tkeras.layers.Flatten(input_shape = ( maxsize_w, maxsize_h , 1)),\n",
        "\t\tkeras.layers.Dense(256, activation=tf.nn.relu),\n",
        "\t\tkeras.layers.Dropout(0.25),\n",
        "  \t\tkeras.layers.Dense(128, activation=tf.nn.relu),\n",
        "\t\tkeras.layers.Dropout(0.25),\n",
        "\t\tkeras.layers.Dense(64, activation=tf.nn.relu),\n",
        "\t\tkeras.layers.Dropout(0.5),\n",
        "\t\tkeras.layers.Dense(16, activation=tf.nn.relu),\n",
        "    \tkeras.layers.Dense(2, activation=tf.nn.softmax)\n",
        "\t])\n"
      ],
      "execution_count": 0,
      "outputs": []
    },
    {
      "cell_type": "code",
      "metadata": {
        "id": "IGHAaD1YEbo1",
        "colab_type": "code",
        "colab": {}
      },
      "source": [
        "bigger_model1 = keras.models.Sequential([\n",
        "    \tkeras.layers.Flatten(input_shape = ( maxsize_w, maxsize_h , 1)),\n",
        "  \t\tkeras.layers.Dense(128, activation=tf.nn.relu),\n",
        "\t\tkeras.layers.Dropout(0.25),\n",
        "\t\tkeras.layers.Dense(64, activation=tf.nn.relu),\n",
        "\t\tkeras.layers.Dropout(0.5),\n",
        "\t\tkeras.layers.Dense(16, activation=tf.nn.relu),\n",
        "    \tkeras.layers.Dense(2, activation=tf.nn.softmax)\n",
        "\t])"
      ],
      "execution_count": 0,
      "outputs": []
    },
    {
      "cell_type": "code",
      "metadata": {
        "id": "ekW3jVrgEgHc",
        "colab_type": "code",
        "colab": {}
      },
      "source": [
        "bigger_model1.compile(optimizer=keras.optimizers.Adam(lr=0.001),\n",
        "\tloss='sparse_categorical_crossentropy',\n",
        "\tmetrics=['accuracy','sparse_categorical_crossentropy'])"
      ],
      "execution_count": 0,
      "outputs": []
    },
    {
      "cell_type": "code",
      "metadata": {
        "id": "rdL_hMnsEll0",
        "colab_type": "code",
        "colab": {}
      },
      "source": [
        "smaller_model1 = keras.models.Sequential([\n",
        "    \tkeras.layers.Flatten(input_shape = ( maxsize_w, maxsize_h , 1)),\n",
        " \t\tkeras.layers.Dense(64, activation=tf.nn.relu),\n",
        "    \tkeras.layers.Dense(2, activation=tf.nn.softmax)\n",
        "\t])"
      ],
      "execution_count": 0,
      "outputs": []
    },
    {
      "cell_type": "code",
      "metadata": {
        "id": "G6O83MJPEpje",
        "colab_type": "code",
        "colab": {}
      },
      "source": [
        "smaller_model1.compile(optimizer='adam',\n",
        "\tloss='sparse_categorical_crossentropy',\n",
        "\tmetrics=['accuracy','sparse_categorical_crossentropy'])\n"
      ],
      "execution_count": 0,
      "outputs": []
    },
    {
      "cell_type": "code",
      "metadata": {
        "id": "DdRKE59GEsqY",
        "colab_type": "code",
        "colab": {}
      },
      "source": [
        "smaller_model = keras.models.Sequential([\n",
        "    \tkeras.layers.Flatten(input_shape = ( maxsize_w, maxsize_h , 1)),\n",
        "  \t\tkeras.layers.Dense(512, activation=tf.nn.relu),\n",
        "\t\tkeras.layers.Dropout(0.25),\n",
        "\t\tkeras.layers.Dense(256, activation=tf.nn.relu),\n",
        "\t\tkeras.layers.Dropout(0.25),\n",
        "  \t\tkeras.layers.Dense(128, activation=tf.nn.relu),\n",
        "\t\tkeras.layers.Dense(16, activation=tf.nn.relu),\n",
        "    \tkeras.layers.Dense(2, activation=tf.nn.softmax)\n",
        "\t])"
      ],
      "execution_count": 0,
      "outputs": []
    },
    {
      "cell_type": "code",
      "metadata": {
        "id": "MwCKCt_xEvWF",
        "colab_type": "code",
        "colab": {}
      },
      "source": [
        "vgg_style_model = keras.models.Sequential([\n",
        "\tkeras.layers.Conv2D(128, (3, 3), activation='relu', input_shape = (maxsize_w, maxsize_h, 1)),\n",
        "\tkeras.layers.Conv2D(64, (3, 3), activation='relu'),\n",
        "\tkeras.layers.MaxPooling2D(pool_size=(2, 2)),\n",
        "\tkeras.layers.Dropout(0.25),\n",
        "\tkeras.layers.Conv2D(64, (3, 3), activation='relu'),\n",
        "\tkeras.layers.Conv2D(64, (3, 3), activation='relu'),\n",
        "\tkeras.layers.MaxPooling2D(pool_size=(2, 2)),\n",
        "\tkeras.layers.Dropout(0.25),\n",
        "\tkeras.layers.Flatten(),\n",
        "\tkeras.layers.Dense(128, activation='relu'),\n",
        "\tkeras.layers.Dropout(0.5),\n",
        "\tkeras.layers.Dense(2, activation='softmax')\n",
        "\t])"
      ],
      "execution_count": 0,
      "outputs": []
    },
    {
      "cell_type": "code",
      "metadata": {
        "id": "_Qc_1gGeEy_a",
        "colab_type": "code",
        "colab": {}
      },
      "source": [
        "datagen = keras.preprocessing.image.ImageDataGenerator(\n",
        "        #zoom_range=0.2, # randomly zoom into images\n",
        "\t\tfeaturewise_center=False,\n",
        "        #width_shift_range=0.2,  # randomly shift images horizontally (fraction of total width)\n",
        "        #height_shift_range=0.2,  # randomly shift images vertically (fraction of total height)\n",
        "        horizontal_flip=False,  # randomly flip images\n",
        "        vertical_flip=False)  # randomly flip images\n",
        "#datagen.fit(train_images)\n",
        "sgd = keras.optimizers.SGD(lr=0.01, decay=1e-5, momentum=0.7, nesterov=True)\n",
        "vgg_style_model.compile(loss='sparse_categorical_crossentropy',\n",
        " optimizer=keras.optimizers.Adam(lr=0.001),\n",
        " metrics=['accuracy','sparse_categorical_crossentropy'])\n"
      ],
      "execution_count": 0,
      "outputs": []
    },
    {
      "cell_type": "code",
      "metadata": {
        "id": "y0E9fI8NE2PS",
        "colab_type": "code",
        "colab": {}
      },
      "source": [
        "def plot_history(histories, key='sparse_categorical_crossentropy'):\n",
        "  plt.figure(figsize=(16,10))\n",
        "    \n",
        "  for name, history in histories:\n",
        "    val = plt.plot(history.epoch, history.history['val_'+key],\n",
        "                   '--', label=name.title()+' Val')\n",
        "    plt.plot(history.epoch, history.history[key], color=val[0].get_color(),\n",
        "             label=name.title()+' Train')\n",
        "\n",
        "  plt.xlabel('Epochs')\n",
        "  plt.ylabel(key.replace('_',' ').title())\n",
        "  plt.legend()\n",
        "  plt.xlim([0, max(history.epoch)])\n",
        "  plt.ylim([0, 1])\n"
      ],
      "execution_count": 0,
      "outputs": []
    },
    {
      "cell_type": "code",
      "metadata": {
        "id": "s-cuerilE5BT",
        "colab_type": "code",
        "colab": {}
      },
      "source": [
        "#keras.optimizers.Adam(lr=0.001)\n",
        "bigger_model.compile(optimizer='adam',\n",
        "\tloss='sparse_categorical_crossentropy',\n",
        "\tmetrics=['accuracy','sparse_categorical_crossentropy'])"
      ],
      "execution_count": 0,
      "outputs": []
    },
    {
      "cell_type": "code",
      "metadata": {
        "id": "U2UiNNGDE7EY",
        "colab_type": "code",
        "colab": {}
      },
      "source": [
        "smaller_model.compile(optimizer='adam',\n",
        "\tloss='sparse_categorical_crossentropy',\n",
        "\tmetrics=['accuracy','sparse_categorical_crossentropy'])"
      ],
      "execution_count": 0,
      "outputs": []
    },
    {
      "cell_type": "code",
      "metadata": {
        "id": "ueiUxrOlFALu",
        "colab_type": "code",
        "colab": {}
      },
      "source": [
        "smaller_model.compile(\n",
        "\toptimizer='adam',\n",
        "\tloss='sparse_categorical_crossentropy',\n",
        "\tmetrics=['accuracy','sparse_categorical_crossentropy'])"
      ],
      "execution_count": 0,
      "outputs": []
    },
    {
      "cell_type": "code",
      "metadata": {
        "id": "sbOeKwclFC2Y",
        "colab_type": "code",
        "colab": {}
      },
      "source": [
        "bigger_model1_history = bigger_model1.fit(train_images, train_labels,\n",
        "\tepochs=400,\n",
        "\tvalidation_data=(test_images, test_labels),\n",
        "\tverbose=2,\n",
        "\tworkers=4)\n"
      ],
      "execution_count": 0,
      "outputs": []
    },
    {
      "cell_type": "code",
      "metadata": {
        "id": "8zHQHy90A8UH",
        "colab_type": "code",
        "colab": {}
      },
      "source": [
        "sgd = keras.optimizers.SGD(lr=0.01, decay=1e-5, momentum=0.7, nesterov=True)\n",
        "\n",
        "model.compile(optimizer=sgd,\n",
        "              loss='sparse_categorical_crossentropy',\n",
        "              metrics=['accuracy'])"
      ],
      "execution_count": 0,
      "outputs": []
    },
    {
      "cell_type": "code",
      "metadata": {
        "id": "t8MlG0QXA-cu",
        "colab_type": "code",
        "colab": {}
      },
      "source": [
        "model.fit(train_images, train_labels, epochs=100)"
      ],
      "execution_count": 0,
      "outputs": []
    },
    {
      "cell_type": "code",
      "metadata": {
        "id": "OSSvHPqHBETL",
        "colab_type": "code",
        "colab": {}
      },
      "source": [
        "test_loss, test_acc = model.evaluate(test_images, test_labels)\n",
        "print('Test accuracy:', test_acc)"
      ],
      "execution_count": 0,
      "outputs": []
    },
    {
      "cell_type": "code",
      "metadata": {
        "id": "h2HRIRHDBH35",
        "colab_type": "code",
        "colab": {}
      },
      "source": [
        "predictions = model.predict(test_images)"
      ],
      "execution_count": 0,
      "outputs": []
    },
    {
      "cell_type": "code",
      "metadata": {
        "id": "ztqR6Q03BLS7",
        "colab_type": "code",
        "colab": {}
      },
      "source": [
        "print(predictions)"
      ],
      "execution_count": 0,
      "outputs": []
    },
    {
      "cell_type": "code",
      "metadata": {
        "id": "XCbYY6M8BR66",
        "colab_type": "code",
        "colab": {}
      },
      "source": [
        "display_images(test_images, np.argmax(predictions, axis = 1))\n",
        "plt.show()"
      ],
      "execution_count": 0,
      "outputs": []
    }
  ]
}