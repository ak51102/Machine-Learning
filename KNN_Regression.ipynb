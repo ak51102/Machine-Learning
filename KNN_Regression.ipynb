{
  "nbformat": 4,
  "nbformat_minor": 0,
  "metadata": {
    "colab": {
      "name": "KNN Regression.ipynb",
      "provenance": [],
      "private_outputs": true,
      "authorship_tag": "ABX9TyOWjgxoOXlld8xQhw+r9jjh",
      "include_colab_link": true
    },
    "kernelspec": {
      "name": "python3",
      "display_name": "Python 3"
    }
  },
  "cells": [
    {
      "cell_type": "markdown",
      "metadata": {
        "id": "view-in-github",
        "colab_type": "text"
      },
      "source": [
        "<a href=\"https://colab.research.google.com/github/cagBRT/Machine-Learning/blob/master/KNN_Regression.ipynb\" target=\"_parent\"><img src=\"https://colab.research.google.com/assets/colab-badge.svg\" alt=\"Open In Colab\"/></a>"
      ]
    },
    {
      "cell_type": "code",
      "metadata": {
        "id": "c3igL0SVbt9f",
        "colab_type": "code",
        "colab": {}
      },
      "source": [
        "import numpy as np\n",
        "import pandas as pd\n",
        "from sklearn.neighbors import KNeighborsRegressor"
      ],
      "execution_count": 0,
      "outputs": []
    },
    {
      "cell_type": "code",
      "metadata": {
        "id": "n8MLVcn-b2ba",
        "colab_type": "code",
        "colab": {}
      },
      "source": [
        "path = \"https://archive.ics.uci.edu/ml/machine-learning-databases/iris/iris.data\""
      ],
      "execution_count": 0,
      "outputs": []
    },
    {
      "cell_type": "code",
      "metadata": {
        "id": "yVedB30-cAu-",
        "colab_type": "code",
        "colab": {}
      },
      "source": [
        "headernames = ['sepal-length', 'sepal-width', 'petal-length', 'petal-width', 'Class']"
      ],
      "execution_count": 0,
      "outputs": []
    },
    {
      "cell_type": "code",
      "metadata": {
        "id": "E8Q-rq2xb5zf",
        "colab_type": "code",
        "colab": {}
      },
      "source": [
        "data = pd.read_csv(path, names = headernames)\n",
        "array = data.values\n",
        "X = array[:,:2]\n",
        "Y = array[:,2]\n",
        "data.shape\n",
        "output:(150, 5)"
      ],
      "execution_count": 0,
      "outputs": []
    },
    {
      "cell_type": "code",
      "metadata": {
        "id": "Pg7lWP0YcJCv",
        "colab_type": "code",
        "colab": {}
      },
      "source": [
        "knnr = KNeighborsRegressor(n_neighbors = 8)\n",
        "knnr.fit(X, Y)"
      ],
      "execution_count": 0,
      "outputs": []
    },
    {
      "cell_type": "code",
      "metadata": {
        "id": "ZcnY0ISqcR1-",
        "colab_type": "code",
        "colab": {}
      },
      "source": [
        "print (\"The MSE is:\",format(np.power(Y-knnr.predict(X),2).mean()))"
      ],
      "execution_count": 0,
      "outputs": []
    }
  ]
}