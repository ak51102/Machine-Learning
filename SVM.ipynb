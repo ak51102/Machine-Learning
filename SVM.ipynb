{
  "nbformat": 4,
  "nbformat_minor": 0,
  "metadata": {
    "colab": {
      "name": "SVM.ipynb",
      "provenance": [],
      "authorship_tag": "ABX9TyPxHZmm0dGfu8cyHJaYqRPB",
      "include_colab_link": true
    },
    "kernelspec": {
      "name": "python3",
      "display_name": "Python 3"
    }
  },
  "cells": [
    {
      "cell_type": "markdown",
      "metadata": {
        "id": "view-in-github",
        "colab_type": "text"
      },
      "source": [
        "<a href=\"https://colab.research.google.com/github/cagBRT/Machine-Learning/blob/master/SVM.ipynb\" target=\"_parent\"><img src=\"https://colab.research.google.com/assets/colab-badge.svg\" alt=\"Open In Colab\"/></a>"
      ]
    },
    {
      "cell_type": "markdown",
      "metadata": {
        "id": "5_kuNicPwmnJ",
        "colab_type": "text"
      },
      "source": [
        "Our objective is to find a hyperplane that separates +ve and -ve examples with the largest margin while keeping the misclassification as low as possible \n",
        "\n",
        "\n",
        "https://towardsdatascience.com/support-vector-machine-introduction-to-machine-learning-algorithms-934a444fca47\n"
      ]
    },
    {
      "cell_type": "markdown",
      "metadata": {
        "id": "JB_7Yp0Ly2X9",
        "colab_type": "text"
      },
      "source": [
        "To separate the two classes of data points, there are many possible hyperplanes that could be chosen. Our objective is to find a plane that has the maximum margin, i.e the maximum distance between data points of both classes. Maximizing the margin distance provides some reinforcement so that future data points can be classified with more confidence."
      ]
    },
    {
      "cell_type": "markdown",
      "metadata": {
        "id": "oHC2lc9mzSlM",
        "colab_type": "text"
      },
      "source": [
        "Using the Iris dataset"
      ]
    },
    {
      "cell_type": "code",
      "metadata": {
        "id": "vrCQ9SIxzlAa",
        "colab_type": "code",
        "colab": {}
      },
      "source": [
        "import pandas as pd\n",
        "from pandas import read_csv\n",
        "from sklearn.utils import shuffle\n",
        "from sklearn.model_selection import train_test_split\n",
        "import numpy as np\n",
        "import matplotlib.pyplot as plt\n",
        "from sklearn.metrics import accuracy_score\n",
        "from sklearn.svm import SVC\n",
        "from sklearn.metrics import accuracy_score"
      ],
      "execution_count": 0,
      "outputs": []
    },
    {
      "cell_type": "code",
      "metadata": {
        "id": "znKs_HL8zA2l",
        "colab_type": "code",
        "colab": {}
      },
      "source": [
        "# Load dataset\n",
        "url = \"https://raw.githubusercontent.com/jbrownlee/Datasets/master/iris.csv\"\n",
        "names = ['sepal-length', 'sepal-width', 'petal-length', 'petal-width', 'class']\n",
        "df = read_csv(url, names=names)"
      ],
      "execution_count": 0,
      "outputs": []
    },
    {
      "cell_type": "code",
      "metadata": {
        "id": "GpG0dbjhzueg",
        "colab_type": "code",
        "colab": {
          "base_uri": "https://localhost:8080/",
          "height": 407
        },
        "outputId": "72efaed1-cb94-4255-ed45-1ee2338760a1"
      },
      "source": [
        "df"
      ],
      "execution_count": 55,
      "outputs": [
        {
          "output_type": "execute_result",
          "data": {
            "text/html": [
              "<div>\n",
              "<style scoped>\n",
              "    .dataframe tbody tr th:only-of-type {\n",
              "        vertical-align: middle;\n",
              "    }\n",
              "\n",
              "    .dataframe tbody tr th {\n",
              "        vertical-align: top;\n",
              "    }\n",
              "\n",
              "    .dataframe thead th {\n",
              "        text-align: right;\n",
              "    }\n",
              "</style>\n",
              "<table border=\"1\" class=\"dataframe\">\n",
              "  <thead>\n",
              "    <tr style=\"text-align: right;\">\n",
              "      <th></th>\n",
              "      <th>sepal-length</th>\n",
              "      <th>sepal-width</th>\n",
              "      <th>petal-length</th>\n",
              "      <th>petal-width</th>\n",
              "      <th>class</th>\n",
              "    </tr>\n",
              "  </thead>\n",
              "  <tbody>\n",
              "    <tr>\n",
              "      <th>0</th>\n",
              "      <td>5.1</td>\n",
              "      <td>3.5</td>\n",
              "      <td>1.4</td>\n",
              "      <td>0.2</td>\n",
              "      <td>Iris-setosa</td>\n",
              "    </tr>\n",
              "    <tr>\n",
              "      <th>1</th>\n",
              "      <td>4.9</td>\n",
              "      <td>3.0</td>\n",
              "      <td>1.4</td>\n",
              "      <td>0.2</td>\n",
              "      <td>Iris-setosa</td>\n",
              "    </tr>\n",
              "    <tr>\n",
              "      <th>2</th>\n",
              "      <td>4.7</td>\n",
              "      <td>3.2</td>\n",
              "      <td>1.3</td>\n",
              "      <td>0.2</td>\n",
              "      <td>Iris-setosa</td>\n",
              "    </tr>\n",
              "    <tr>\n",
              "      <th>3</th>\n",
              "      <td>4.6</td>\n",
              "      <td>3.1</td>\n",
              "      <td>1.5</td>\n",
              "      <td>0.2</td>\n",
              "      <td>Iris-setosa</td>\n",
              "    </tr>\n",
              "    <tr>\n",
              "      <th>4</th>\n",
              "      <td>5.0</td>\n",
              "      <td>3.6</td>\n",
              "      <td>1.4</td>\n",
              "      <td>0.2</td>\n",
              "      <td>Iris-setosa</td>\n",
              "    </tr>\n",
              "    <tr>\n",
              "      <th>...</th>\n",
              "      <td>...</td>\n",
              "      <td>...</td>\n",
              "      <td>...</td>\n",
              "      <td>...</td>\n",
              "      <td>...</td>\n",
              "    </tr>\n",
              "    <tr>\n",
              "      <th>145</th>\n",
              "      <td>6.7</td>\n",
              "      <td>3.0</td>\n",
              "      <td>5.2</td>\n",
              "      <td>2.3</td>\n",
              "      <td>Iris-virginica</td>\n",
              "    </tr>\n",
              "    <tr>\n",
              "      <th>146</th>\n",
              "      <td>6.3</td>\n",
              "      <td>2.5</td>\n",
              "      <td>5.0</td>\n",
              "      <td>1.9</td>\n",
              "      <td>Iris-virginica</td>\n",
              "    </tr>\n",
              "    <tr>\n",
              "      <th>147</th>\n",
              "      <td>6.5</td>\n",
              "      <td>3.0</td>\n",
              "      <td>5.2</td>\n",
              "      <td>2.0</td>\n",
              "      <td>Iris-virginica</td>\n",
              "    </tr>\n",
              "    <tr>\n",
              "      <th>148</th>\n",
              "      <td>6.2</td>\n",
              "      <td>3.4</td>\n",
              "      <td>5.4</td>\n",
              "      <td>2.3</td>\n",
              "      <td>Iris-virginica</td>\n",
              "    </tr>\n",
              "    <tr>\n",
              "      <th>149</th>\n",
              "      <td>5.9</td>\n",
              "      <td>3.0</td>\n",
              "      <td>5.1</td>\n",
              "      <td>1.8</td>\n",
              "      <td>Iris-virginica</td>\n",
              "    </tr>\n",
              "  </tbody>\n",
              "</table>\n",
              "<p>150 rows × 5 columns</p>\n",
              "</div>"
            ],
            "text/plain": [
              "     sepal-length  sepal-width  petal-length  petal-width           class\n",
              "0             5.1          3.5           1.4          0.2     Iris-setosa\n",
              "1             4.9          3.0           1.4          0.2     Iris-setosa\n",
              "2             4.7          3.2           1.3          0.2     Iris-setosa\n",
              "3             4.6          3.1           1.5          0.2     Iris-setosa\n",
              "4             5.0          3.6           1.4          0.2     Iris-setosa\n",
              "..            ...          ...           ...          ...             ...\n",
              "145           6.7          3.0           5.2          2.3  Iris-virginica\n",
              "146           6.3          2.5           5.0          1.9  Iris-virginica\n",
              "147           6.5          3.0           5.2          2.0  Iris-virginica\n",
              "148           6.2          3.4           5.4          2.3  Iris-virginica\n",
              "149           5.9          3.0           5.1          1.8  Iris-virginica\n",
              "\n",
              "[150 rows x 5 columns]"
            ]
          },
          "metadata": {
            "tags": []
          },
          "execution_count": 55
        }
      ]
    },
    {
      "cell_type": "code",
      "metadata": {
        "id": "CNsw2zVlzSwc",
        "colab_type": "code",
        "colab": {}
      },
      "source": [
        "target = df['class']\n",
        "s = set()\n",
        "for val in target:\n",
        "    s.add(val)\n",
        "s = list(s)\n",
        "rows = list(range(100,150))\n",
        "df = df.drop(df.index[rows])"
      ],
      "execution_count": 0,
      "outputs": []
    },
    {
      "cell_type": "markdown",
      "metadata": {
        "id": "lC12EDO01ZYX",
        "colab_type": "text"
      },
      "source": [
        "Since the Iris dataset has three classes, we will remove one of the classes. This leaves us with a binary class classification problem."
      ]
    },
    {
      "cell_type": "code",
      "metadata": {
        "id": "P_9jwtsh0vuP",
        "colab_type": "code",
        "outputId": "e4831323-5517-45d2-f7fb-7f94ea199409",
        "colab": {
          "base_uri": "https://localhost:8080/",
          "height": 374
        }
      },
      "source": [
        "x = df['sepal-length']\n",
        "y = df['petal-length']\n",
        "\n",
        "setosa_x = x[:50]\n",
        "setosa_y = y[:50]\n",
        "\n",
        "versicolor_x = x[50:]\n",
        "versicolor_y = y[50:]\n",
        "\n",
        "plt.figure(figsize=(8,6))\n",
        "plt.scatter(setosa_x,setosa_y,marker='+',color='green')\n",
        "plt.scatter(versicolor_x,versicolor_y,marker='_',color='red')\n",
        "plt.show()"
      ],
      "execution_count": 57,
      "outputs": [
        {
          "output_type": "display_data",
          "data": {
            "image/png": "[encoded data removed]",
            "text/plain": [
              "<Figure size 576x432 with 1 Axes>"
            ]
          },
          "metadata": {
            "tags": [],
            "needs_background": "light"
          }
        }
      ]
    },
    {
      "cell_type": "markdown",
      "metadata": {
        "id": "C_SHZ-GB1fAD",
        "colab_type": "text"
      },
      "source": [
        "Also, there are four features available for us to use. We will be using only two features, i.e Sepal length and Petal length"
      ]
    },
    {
      "cell_type": "markdown",
      "metadata": {
        "id": "1mQBHKpA1i6l",
        "colab_type": "text"
      },
      "source": [
        "Split into training and test sets"
      ]
    },
    {
      "cell_type": "code",
      "metadata": {
        "id": "USFiKcON03_L",
        "colab_type": "code",
        "colab": {}
      },
      "source": [
        "## Drop rest of the features and extract the target values\n",
        "df = df.drop(['sepal-length','petal-length'],axis=1)\n",
        "Y = []\n",
        "target = df['class']\n",
        "for val in target:\n",
        "    if(val == 'Iris-setosa'):\n",
        "        Y.append(-1)\n",
        "    else:\n",
        "        Y.append(1)\n",
        "df = df.drop(['class'],axis=1)\n",
        "X = df.values.tolist()\n",
        "## Shuffle and split the data into training and test set\n",
        "X, Y = shuffle(X,Y)\n",
        "x_train = []\n",
        "y_train = []\n",
        "x_test = []\n",
        "y_test = []\n",
        "\n",
        "x_train, x_test, y_train, y_test = train_test_split(X, Y, train_size=0.9)\n",
        "\n",
        "x_train = np.array(x_train)\n",
        "y_train = np.array(y_train)\n",
        "x_test = np.array(x_test)\n",
        "y_test = np.array(y_test)\n",
        "\n",
        "y_train = y_train.reshape(90,1)\n",
        "y_test = y_test.reshape(10,1)"
      ],
      "execution_count": 0,
      "outputs": []
    },
    {
      "cell_type": "markdown",
      "metadata": {
        "id": "qxl-D5E41y43",
        "colab_type": "text"
      },
      "source": [
        "Create the SVM model<br>\n",
        "\n",
        "α(0.0001) is the learning rate and the regularization parameter λ is set to 1/epochs. Therefore, the regularizing value reduces the number of epochs increases."
      ]
    },
    {
      "cell_type": "code",
      "metadata": {
        "id": "9yS3f7Fz2BJ8",
        "colab_type": "code",
        "colab": {}
      },
      "source": [
        "## Support Vector Machine \n",
        "train_f1 = x_train[:,0]\n",
        "train_f2 = x_train[:,1]\n",
        "\n",
        "train_f1 = train_f1.reshape(90,1)\n",
        "train_f2 = train_f2.reshape(90,1)\n",
        "\n",
        "w1 = np.zeros((90,1))\n",
        "w2 = np.zeros((90,1))\n",
        "\n",
        "epochs = 1\n",
        "alpha = 0.0001\n",
        "\n",
        "while(epochs < 10000):\n",
        "    y = w1 * train_f1 + w2 * train_f2\n",
        "    prod = y * y_train\n",
        "    #print(epochs)\n",
        "    count = 0\n",
        "    for val in prod:\n",
        "        if(val >= 1):\n",
        "            cost = 0\n",
        "            w1 = w1 - alpha * (2 * 1/epochs * w1)\n",
        "            w2 = w2 - alpha * (2 * 1/epochs * w2)\n",
        "            \n",
        "        else:\n",
        "            cost = 1 - val \n",
        "            w1 = w1 + alpha * (train_f1[count] * y_train[count] - 2 * 1/epochs * w1)\n",
        "            w2 = w2 + alpha * (train_f2[count] * y_train[count] - 2 * 1/epochs * w2)\n",
        "        count += 1\n",
        "    epochs += 1"
      ],
      "execution_count": 0,
      "outputs": []
    },
    {
      "cell_type": "code",
      "metadata": {
        "id": "q0WEZAsq2RxF",
        "colab_type": "code",
        "outputId": "0b4587e7-1aae-4428-939e-f13c2227298e",
        "colab": {
          "base_uri": "https://localhost:8080/",
          "height": 89
        }
      },
      "source": [
        "clf = SVC(kernel='linear')\n",
        "clf.fit(x_train,y_train)\n",
        "y_pred = clf.predict(x_test)\n",
        "print(accuracy_score(y_test,y_pred))"
      ],
      "execution_count": 61,
      "outputs": [
        {
          "output_type": "stream",
          "text": [
            "1.0\n"
          ],
          "name": "stdout"
        },
        {
          "output_type": "stream",
          "text": [
            "/usr/local/lib/python3.6/dist-packages/sklearn/utils/validation.py:760: DataConversionWarning: A column-vector y was passed when a 1d array was expected. Please change the shape of y to (n_samples, ), for example using ravel().\n",
            "  y = column_or_1d(y, warn=True)\n"
          ],
          "name": "stderr"
        }
      ]
    },
    {
      "cell_type": "markdown",
      "metadata": {
        "id": "LuqBNx012JMs",
        "colab_type": "text"
      },
      "source": [
        "We now clip the weights as the test data contains only 10 data points. We extract the features from the test data and predict the values. We obtain the predictions and compare it with the actual values and print the accuracy of our model."
      ]
    },
    {
      "cell_type": "code",
      "metadata": {
        "id": "iYBWswOb2KBf",
        "colab_type": "code",
        "colab": {}
      },
      "source": [
        "## Clip the weights \n",
        "index = list(range(10,90))\n",
        "w1 = np.delete(w1,index)\n",
        "w2 = np.delete(w2,index)\n",
        "\n",
        "w1 = w1.reshape(10,1)\n",
        "w2 = w2.reshape(10,1)\n",
        "## Extract the test data features \n",
        "test_f1 = x_test[:,0]\n",
        "test_f2 = x_test[:,1]\n",
        "\n",
        "test_f1 = test_f1.reshape(10,1)\n",
        "test_f2 = test_f2.reshape(10,1)"
      ],
      "execution_count": 0,
      "outputs": []
    },
    {
      "cell_type": "code",
      "metadata": {
        "id": "DufyB6pf3C5R",
        "colab_type": "code",
        "colab": {
          "base_uri": "https://localhost:8080/",
          "height": 35
        },
        "outputId": "df289257-a6ab-4247-dbd8-8324782c1443"
      },
      "source": [
        "## Predict\n",
        "y_pred = w1 * test_f1 + w2 * test_f2\n",
        "predictions = []\n",
        "for val in y_pred:\n",
        "    if(val > 1):\n",
        "        predictions.append(1)\n",
        "    else:\n",
        "        predictions.append(-1)\n",
        "\n",
        "print(accuracy_score(y_test,predictions))"
      ],
      "execution_count": 51,
      "outputs": [
        {
          "output_type": "stream",
          "text": [
            "1.0\n"
          ],
          "name": "stdout"
        }
      ]
    },
    {
      "cell_type": "markdown",
      "metadata": {
        "id": "KLv33UeY2SRI",
        "colab_type": "text"
      },
      "source": [
        "SVM Simpler"
      ]
    }
  ]
}