{
  "nbformat": 4,
  "nbformat_minor": 0,
  "metadata": {
    "colab": {
      "name": "Hierarchical Clustering 3.ipynb",
      "provenance": [],
      "collapsed_sections": [],
      "include_colab_link": true
    },
    "kernelspec": {
      "name": "python3",
      "display_name": "Python 3"
    }
  },
  "cells": [
    {
      "cell_type": "markdown",
      "metadata": {
        "id": "view-in-github",
        "colab_type": "text"
      },
      "source": [
        "<a href=\"https://colab.research.google.com/github/cagBRT/Machine-Learning/blob/master/Hierarchical_Clustering_3.ipynb\" target=\"_parent\"><img src=\"https://colab.research.google.com/assets/colab-badge.svg\" alt=\"Open In Colab\"/></a>"
      ]
    },
    {
      "cell_type": "markdown",
      "metadata": {
        "id": "IPft1cDWCZST",
        "colab_type": "text"
      },
      "source": [
        "https://towardsdatascience.com/understanding-the-concept-of-hierarchical-clustering-technique-c6e8243758ec\n"
      ]
    },
    {
      "cell_type": "code",
      "metadata": {
        "id": "1prKDTnQlyrt",
        "colab_type": "code",
        "colab": {
          "base_uri": "https://localhost:8080/",
          "height": 743
        },
        "outputId": "e53e934b-97ca-4281-a8d2-5cc1141d94ca"
      },
      "source": [
        "!git clone -l -s https://github.com/cagBRT/Machine-Learning.git cloned-repo\n",
        "%cd cloned-repo\n",
        "!ls"
      ],
      "execution_count": 1,
      "outputs": [
        {
          "output_type": "stream",
          "text": [
            "Cloning into 'cloned-repo'...\n",
            "warning: --local is ignored\n",
            "remote: Enumerating objects: 165, done.\u001b[K\n",
            "remote: Counting objects: 100% (165/165), done.\u001b[K\n",
            "remote: Compressing objects: 100% (164/164), done.\u001b[K\n",
            "remote: Total 702 (delta 96), reused 4 (delta 1), pack-reused 537\u001b[K\n",
            "Receiving objects: 100% (702/702), 26.39 MiB | 8.10 MiB/s, done.\n",
            "Resolving deltas: 100% (431/431), done.\n",
            "/content/cloned-repo\n",
            " Admission_Predict.csv\t\t       Logistic_Regression_3.ipynb\n",
            " bank.csv\t\t\t       Logistic_Regression_4.ipynb\n",
            " bank-full.csv\t\t\t       LogReg_Titanic.ipynb\n",
            " blue_line.jpg\t\t\t       Mall_Customers.csv\n",
            " boston_housing.csv\t\t       NaiveBayesBernoulli.ipynb\n",
            " breast_cancer_data.csv\t\t       NaiveBayesGaussian2.ipynb\n",
            " cardata.data\t\t\t       NaiveBayesGaussian.ipynb\n",
            " cows_and_wolves.txt\t\t       NaiveBayesMultinomialNB2.ipynb\n",
            " diabetesML.ipynb\t\t       NaiveBayesMultinomialNB.ipynb\n",
            " dogOrMuffin.ipynb\t\t       naiveBayes.png\n",
            " fashion-mnist-sprite.png\t       pima_indians_diabetes.csv\n",
            " height_weight.csv\t\t       prediction_cases.csv\n",
            " Hierarchical_Clustering_1.ipynb       README.md\n",
            " Hierarchical_Clustering_2.ipynb       Social_Network_Ads.csv\n",
            " Hierarchical_Clustering.ipynb\t       styleTransfer_1.ipynb\n",
            " hourly_wages.csv\t\t       styleTransfer_2.ipynb\n",
            "'HP1 Cars.ipynb'\t\t       styleTransfer.ipynb\n",
            "'HP2 Wage_per_hour.ipynb'\t       StyleTransfer.ipynb\n",
            "'HP3 boston_housing.ipynb'\t       SVM3.ipynb\n",
            "'HP3 Iris.ipynb'\t\t       SVMcompare.ipynb\n",
            " HP3_WineTypeBC.ipynb\t\t       SVM.ipynb\n",
            "'HP4 WineQuality.ipynb'\t\t       SVM_MultiClass.ipynb\n",
            "'HP5 muffinOrDog.ipynb'\t\t       test.csv\n",
            "'HP6 fashion_mnist.ipynb'\t       testPhone.csv\n",
            " HyperParameter_Tuning.ipynb\t       TextClassification.ipynb\n",
            " KNN_1.ipynb\t\t\t       train.csv\n",
            " KNN2.ipynb\t\t\t       trainPhone.csv\n",
            " KNN_Regression.ipynb\t\t       tripAdvisor.ipynb\n",
            " LinearRegression1.ipynb\t       tripAdvisorReviews.csv\n",
            " LinearRegression2.ipynb\t       weather.csv\n",
            " LinearRegression3.ipynb\t       winequality-red.csv\n",
            " LinearRegression4_WineQuality.ipynb   winequality-white.csv\n",
            " LogisticRegression_1.ipynb\t       wolvesAndCows.ipynb\n"
          ],
          "name": "stdout"
        }
      ]
    },
    {
      "cell_type": "code",
      "metadata": {
        "id": "8hFM6v44mS9N",
        "colab_type": "code",
        "colab": {}
      },
      "source": [
        "import numpy as np\n",
        "import matplotlib.pyplot as plt\n",
        "import pandas as pd\n",
        "%matplotlib inline\n",
        "\n",
        "import scipy.cluster.hierarchy as sch"
      ],
      "execution_count": 0,
      "outputs": []
    },
    {
      "cell_type": "code",
      "metadata": {
        "id": "C1zwDHuimVg0",
        "colab_type": "code",
        "colab": {
          "base_uri": "https://localhost:8080/",
          "height": 407
        },
        "outputId": "e8d321ad-c161-4d61-f91c-751f6cade581"
      },
      "source": [
        "#importing the dataset\n",
        "dataset = pd.read_csv('Mall_Customers.csv')\n",
        "dataset"
      ],
      "execution_count": 3,
      "outputs": [
        {
          "output_type": "execute_result",
          "data": {
            "text/html": [
              "<div>\n",
              "<style scoped>\n",
              "    .dataframe tbody tr th:only-of-type {\n",
              "        vertical-align: middle;\n",
              "    }\n",
              "\n",
              "    .dataframe tbody tr th {\n",
              "        vertical-align: top;\n",
              "    }\n",
              "\n",
              "    .dataframe thead th {\n",
              "        text-align: right;\n",
              "    }\n",
              "</style>\n",
              "<table border=\"1\" class=\"dataframe\">\n",
              "  <thead>\n",
              "    <tr style=\"text-align: right;\">\n",
              "      <th></th>\n",
              "      <th>CustomerID</th>\n",
              "      <th>Genre</th>\n",
              "      <th>Age</th>\n",
              "      <th>Annual Income (k$)</th>\n",
              "      <th>Spending Score (1-100)</th>\n",
              "    </tr>\n",
              "  </thead>\n",
              "  <tbody>\n",
              "    <tr>\n",
              "      <th>0</th>\n",
              "      <td>1</td>\n",
              "      <td>Male</td>\n",
              "      <td>19</td>\n",
              "      <td>15</td>\n",
              "      <td>39</td>\n",
              "    </tr>\n",
              "    <tr>\n",
              "      <th>1</th>\n",
              "      <td>2</td>\n",
              "      <td>Male</td>\n",
              "      <td>21</td>\n",
              "      <td>15</td>\n",
              "      <td>81</td>\n",
              "    </tr>\n",
              "    <tr>\n",
              "      <th>2</th>\n",
              "      <td>3</td>\n",
              "      <td>Female</td>\n",
              "      <td>20</td>\n",
              "      <td>16</td>\n",
              "      <td>6</td>\n",
              "    </tr>\n",
              "    <tr>\n",
              "      <th>3</th>\n",
              "      <td>4</td>\n",
              "      <td>Female</td>\n",
              "      <td>23</td>\n",
              "      <td>16</td>\n",
              "      <td>77</td>\n",
              "    </tr>\n",
              "    <tr>\n",
              "      <th>4</th>\n",
              "      <td>5</td>\n",
              "      <td>Female</td>\n",
              "      <td>31</td>\n",
              "      <td>17</td>\n",
              "      <td>40</td>\n",
              "    </tr>\n",
              "    <tr>\n",
              "      <th>...</th>\n",
              "      <td>...</td>\n",
              "      <td>...</td>\n",
              "      <td>...</td>\n",
              "      <td>...</td>\n",
              "      <td>...</td>\n",
              "    </tr>\n",
              "    <tr>\n",
              "      <th>195</th>\n",
              "      <td>196</td>\n",
              "      <td>Female</td>\n",
              "      <td>35</td>\n",
              "      <td>120</td>\n",
              "      <td>79</td>\n",
              "    </tr>\n",
              "    <tr>\n",
              "      <th>196</th>\n",
              "      <td>197</td>\n",
              "      <td>Female</td>\n",
              "      <td>45</td>\n",
              "      <td>126</td>\n",
              "      <td>28</td>\n",
              "    </tr>\n",
              "    <tr>\n",
              "      <th>197</th>\n",
              "      <td>198</td>\n",
              "      <td>Male</td>\n",
              "      <td>32</td>\n",
              "      <td>126</td>\n",
              "      <td>74</td>\n",
              "    </tr>\n",
              "    <tr>\n",
              "      <th>198</th>\n",
              "      <td>199</td>\n",
              "      <td>Male</td>\n",
              "      <td>32</td>\n",
              "      <td>137</td>\n",
              "      <td>18</td>\n",
              "    </tr>\n",
              "    <tr>\n",
              "      <th>199</th>\n",
              "      <td>200</td>\n",
              "      <td>Male</td>\n",
              "      <td>30</td>\n",
              "      <td>137</td>\n",
              "      <td>83</td>\n",
              "    </tr>\n",
              "  </tbody>\n",
              "</table>\n",
              "<p>200 rows × 5 columns</p>\n",
              "</div>"
            ],
            "text/plain": [
              "     CustomerID   Genre  Age  Annual Income (k$)  Spending Score (1-100)\n",
              "0             1    Male   19                  15                      39\n",
              "1             2    Male   21                  15                      81\n",
              "2             3  Female   20                  16                       6\n",
              "3             4  Female   23                  16                      77\n",
              "4             5  Female   31                  17                      40\n",
              "..          ...     ...  ...                 ...                     ...\n",
              "195         196  Female   35                 120                      79\n",
              "196         197  Female   45                 126                      28\n",
              "197         198    Male   32                 126                      74\n",
              "198         199    Male   32                 137                      18\n",
              "199         200    Male   30                 137                      83\n",
              "\n",
              "[200 rows x 5 columns]"
            ]
          },
          "metadata": {
            "tags": []
          },
          "execution_count": 3
        }
      ]
    },
    {
      "cell_type": "code",
      "metadata": {
        "id": "RSDfry-smbf7",
        "colab_type": "code",
        "colab": {}
      },
      "source": [
        "#Select annual income (k$) and spending score (1-100)colums\n",
        "X = dataset.iloc[:, [3, 4]].values"
      ],
      "execution_count": 0,
      "outputs": []
    },
    {
      "cell_type": "code",
      "metadata": {
        "id": "AaqmleCUsz1s",
        "colab_type": "code",
        "colab": {
          "base_uri": "https://localhost:8080/",
          "height": 459
        },
        "outputId": "96bb1483-d2c2-4ecb-acbe-5cd7cfab2d38"
      },
      "source": [
        "plt.figure(figsize = (10, 7))\n",
        "plt.scatter(X[:,0],X[:,1])\n",
        "plt.xlabel(\"Annual Income\")\n",
        "plt.ylabel(\"Spending Score\")\n",
        "plt.plot()"
      ],
      "execution_count": 11,
      "outputs": [
        {
          "output_type": "execute_result",
          "data": {
            "text/plain": [
              "[]"
            ]
          },
          "metadata": {
            "tags": []
          },
          "execution_count": 11
        },
        {
          "output_type": "display_data",
          "data": {
            "image/png": "[encoded data removed]",
            "text/plain": [
              "<Figure size 720x504 with 1 Axes>"
            ]
          },
          "metadata": {
            "tags": [],
            "needs_background": "light"
          }
        }
      ]
    },
    {
      "cell_type": "code",
      "metadata": {
        "id": "uGCvsYPin19Y",
        "colab_type": "code",
        "colab": {
          "base_uri": "https://localhost:8080/",
          "height": 35
        },
        "outputId": "87057214-36a2-4bad-b31d-a38595b96df7"
      },
      "source": [
        "X.shape"
      ],
      "execution_count": 12,
      "outputs": [
        {
          "output_type": "execute_result",
          "data": {
            "text/plain": [
              "(200, 2)"
            ]
          },
          "metadata": {
            "tags": []
          },
          "execution_count": 12
        }
      ]
    },
    {
      "cell_type": "code",
      "metadata": {
        "id": "xc6jZjPHmmIy",
        "colab_type": "code",
        "colab": {}
      },
      "source": [
        "#X"
      ],
      "execution_count": 0,
      "outputs": []
    },
    {
      "cell_type": "code",
      "metadata": {
        "id": "vjMlEhDAnJTM",
        "colab_type": "code",
        "colab": {
          "base_uri": "https://localhost:8080/",
          "height": 456
        },
        "outputId": "8f7c06a8-1e4a-45e0-c1e6-58b092ee5c06"
      },
      "source": [
        "#using dendrogram for optimal number of clusters\n",
        "plt.figure(figsize=(25, 10))\n",
        "plt.plot()\n",
        "dendrogram = sch.dendrogram(sch.linkage(X, method = 'ward'))\n",
        "plt.title('Dendrogram')\n",
        "plt.xlabel('Customers')\n",
        "plt.ylabel('Euclidean distance')\n",
        "plt.show()"
      ],
      "execution_count": 6,
      "outputs": [
        {
          "output_type": "display_data",
          "data": {
            "image/png": "[encoded data removed]",
            "text/plain": [
              "<Figure size 1800x720 with 1 Axes>"
            ]
          },
          "metadata": {
            "tags": [],
            "needs_background": "light"
          }
        }
      ]
    },
    {
      "cell_type": "code",
      "metadata": {
        "id": "iR_jh1ESsn0k",
        "colab_type": "code",
        "outputId": "fdd56f26-37f0-44f4-a18d-4aab174d3c82",
        "colab": {
          "base_uri": "https://localhost:8080/",
          "height": 131
        }
      },
      "source": [
        "()#fitting HC to the dataset\n",
        "#Change the '???' to the number of clusters\n",
        "from sklearn.cluster import AgglomerativeClustering\n",
        "hc = AgglomerativeClustering(n_clusters = ???, affinity = 'euclidean', linkage = 'ward')\n",
        "y_hc = hc.fit_predict(X)"
      ],
      "execution_count": 23,
      "outputs": [
        {
          "output_type": "error",
          "ename": "SyntaxError",
          "evalue": "ignored",
          "traceback": [
            "\u001b[0;36m  File \u001b[0;32m\"<ipython-input-23-7dc332ad7328>\"\u001b[0;36m, line \u001b[0;32m4\u001b[0m\n\u001b[0;31m    hc = AgglomerativeClustering(n_clusters = ???, affinity = 'euclidean', linkage = 'ward')\u001b[0m\n\u001b[0m                                              ^\u001b[0m\n\u001b[0;31mSyntaxError\u001b[0m\u001b[0;31m:\u001b[0m invalid syntax\n"
          ]
        }
      ]
    },
    {
      "cell_type": "code",
      "metadata": {
        "id": "pXaTfx5QtOK2",
        "colab_type": "code",
        "colab": {
          "base_uri": "https://localhost:8080/",
          "height": 459
        },
        "outputId": "4646d6e1-0d08-4529-bd4d-655204bea722"
      },
      "source": [
        "plt.figure(figsize = (10, 7))\n",
        "plt.scatter(X[:,0],y_hc)\n",
        "plt.xlabel(\"Annual Income\")\n",
        "plt.ylabel(\"Classes\")\n",
        "plt.plot()"
      ],
      "execution_count": 21,
      "outputs": [
        {
          "output_type": "execute_result",
          "data": {
            "text/plain": [
              "[]"
            ]
          },
          "metadata": {
            "tags": []
          },
          "execution_count": 21
        },
        {
          "output_type": "display_data",
          "data": {
            "image/png": "[encoded data removed]",
            "text/plain": [
              "<Figure size 720x504 with 1 Axes>"
            ]
          },
          "metadata": {
            "tags": [],
            "needs_background": "light"
          }
        }
      ]
    }
  ]
}