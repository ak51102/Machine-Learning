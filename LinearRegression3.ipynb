{
  "nbformat": 4,
  "nbformat_minor": 0,
  "metadata": {
    "colab": {
      "name": "LinearRegression3.ipynb",
      "provenance": [],
      "private_outputs": true,
      "authorship_tag": "ABX9TyPx0+/YbQweMT9Ti6qXuSri",
      "include_colab_link": true
    },
    "kernelspec": {
      "name": "python3",
      "display_name": "Python 3"
    }
  },
  "cells": [
    {
      "cell_type": "markdown",
      "metadata": {
        "id": "view-in-github",
        "colab_type": "text"
      },
      "source": [
        "<a href=\"https://colab.research.google.com/github/cagBRT/Machine-Learning/blob/master/LinearRegression3.ipynb\" target=\"_parent\"><img src=\"https://colab.research.google.com/assets/colab-badge.svg\" alt=\"Open In Colab\"/></a>"
      ]
    },
    {
      "cell_type": "code",
      "metadata": {
        "id": "Mn0PydULVpqq",
        "colab_type": "code",
        "colab": {}
      },
      "source": [
        "# Clone the entire repo.\n",
        "!git clone -l -s https://github.com/cagBRT/Machine-Learning.git cloned-repo\n",
        "%cd cloned-repo\n",
        "!ls"
      ],
      "execution_count": 0,
      "outputs": []
    },
    {
      "cell_type": "markdown",
      "metadata": {
        "id": "tRzlhKQbRe_t",
        "colab_type": "text"
      },
      "source": [
        "**Imoprt Libraries**"
      ]
    },
    {
      "cell_type": "code",
      "metadata": {
        "id": "L9JDk2RnS5SW",
        "colab_type": "code",
        "colab": {}
      },
      "source": [
        "import pandas as pd  \n",
        "import numpy as np  \n",
        "import matplotlib.pyplot as plt  \n",
        "import seaborn as seabornInstance \n",
        "from sklearn.model_selection import train_test_split \n",
        "from sklearn.linear_model import LinearRegression\n",
        "from sklearn import metrics\n",
        "%matplotlib inline"
      ],
      "execution_count": 0,
      "outputs": []
    },
    {
      "cell_type": "markdown",
      "metadata": {
        "id": "xrHH1XECRi0i",
        "colab_type": "text"
      },
      "source": [
        "**Import the data to a Pandas dataframe**"
      ]
    },
    {
      "cell_type": "code",
      "metadata": {
        "id": "xN6fdMu0Ukb2",
        "colab_type": "code",
        "colab": {}
      },
      "source": [
        "dataset = pd.read_csv('weather.csv')"
      ],
      "execution_count": 0,
      "outputs": []
    },
    {
      "cell_type": "markdown",
      "metadata": {
        "id": "WgnJ78qSRoZs",
        "colab_type": "text"
      },
      "source": [
        "**Check the shape of the dataset**"
      ]
    },
    {
      "cell_type": "code",
      "metadata": {
        "id": "yL3u3Cn5V4V-",
        "colab_type": "code",
        "colab": {}
      },
      "source": [
        "dataset.shape"
      ],
      "execution_count": 0,
      "outputs": []
    },
    {
      "cell_type": "markdown",
      "metadata": {
        "id": "zZfnxFKKRvXc",
        "colab_type": "text"
      },
      "source": [
        "**ScatterPlot the data**"
      ]
    },
    {
      "cell_type": "code",
      "metadata": {
        "id": "7wCPWi4IWBuL",
        "colab_type": "code",
        "colab": {}
      },
      "source": [
        "dataset.plot(x='MinTemp', y='MaxTemp', style='o')  \n",
        "plt.title('MinTemp vs MaxTemp')  \n",
        "plt.xlabel('MinTemp')  \n",
        "plt.ylabel('MaxTemp')  \n",
        "plt.show()"
      ],
      "execution_count": 0,
      "outputs": []
    },
    {
      "cell_type": "markdown",
      "metadata": {
        "id": "2HAZSX1cR2K0",
        "colab_type": "text"
      },
      "source": [
        "**Reshape the data**"
      ]
    },
    {
      "cell_type": "code",
      "metadata": {
        "id": "RQ3atxUZWMRA",
        "colab_type": "code",
        "colab": {}
      },
      "source": [
        "X = dataset['MinTemp'].values.reshape(-1,1)\n",
        "y = dataset['MaxTemp'].values.reshape(-1,1)"
      ],
      "execution_count": 0,
      "outputs": []
    },
    {
      "cell_type": "markdown",
      "metadata": {
        "id": "SsMnkiOwR4F7",
        "colab_type": "text"
      },
      "source": [
        "**Split the data into train and test set**"
      ]
    },
    {
      "cell_type": "code",
      "metadata": {
        "id": "FY3NrjErWPi6",
        "colab_type": "code",
        "colab": {}
      },
      "source": [
        "X_train, X_test, y_train, y_test = train_test_split(X, y, test_size=0.2, random_state=0)"
      ],
      "execution_count": 0,
      "outputs": []
    },
    {
      "cell_type": "markdown",
      "metadata": {
        "id": "JluJ6WnWSDUv",
        "colab_type": "text"
      },
      "source": [
        "**Select and train the model**"
      ]
    },
    {
      "cell_type": "code",
      "metadata": {
        "id": "Ye4mGQrMWSJl",
        "colab_type": "code",
        "colab": {}
      },
      "source": [
        "regressor = LinearRegression()  \n",
        "regressor.fit(X_train, y_train) #training the algorithm"
      ],
      "execution_count": 0,
      "outputs": []
    },
    {
      "cell_type": "markdown",
      "metadata": {
        "id": "R65GCOxySGaW",
        "colab_type": "text"
      },
      "source": [
        "**Print the y intercept and slope**"
      ]
    },
    {
      "cell_type": "code",
      "metadata": {
        "id": "tex-Rsv1WVCs",
        "colab_type": "code",
        "colab": {}
      },
      "source": [
        "#To retrieve the intercept:\n",
        "print(regressor.intercept_)\n",
        "#For retrieving the slope:\n",
        "print(regressor.coef_)"
      ],
      "execution_count": 0,
      "outputs": []
    },
    {
      "cell_type": "markdown",
      "metadata": {
        "id": "Jz9nKQ3oSJ1i",
        "colab_type": "text"
      },
      "source": [
        "**Make predictions using the test set**"
      ]
    },
    {
      "cell_type": "code",
      "metadata": {
        "id": "uQyTC8xIWZxQ",
        "colab_type": "code",
        "colab": {}
      },
      "source": [
        "y_pred = regressor.predict(X_test)"
      ],
      "execution_count": 0,
      "outputs": []
    },
    {
      "cell_type": "markdown",
      "metadata": {
        "id": "EM1eeC6USOAb",
        "colab_type": "text"
      },
      "source": [
        "**Compare the actual y value with the predicted value**"
      ]
    },
    {
      "cell_type": "code",
      "metadata": {
        "id": "ZPGNRtsyWcnb",
        "colab_type": "code",
        "colab": {}
      },
      "source": [
        "df = pd.DataFrame({'Actual': y_test.flatten(), 'Predicted': y_pred.flatten()})\n",
        "df"
      ],
      "execution_count": 0,
      "outputs": []
    },
    {
      "cell_type": "markdown",
      "metadata": {
        "id": "JnAs4Q0sST31",
        "colab_type": "text"
      },
      "source": [
        "**Plot the line for prediction**"
      ]
    },
    {
      "cell_type": "code",
      "metadata": {
        "id": "8ZGTV1HWWifA",
        "colab_type": "code",
        "colab": {}
      },
      "source": [
        "plt.scatter(X_test, y_test,  color='gray')\n",
        "plt.plot(X_test, y_pred, color='red', linewidth=2)\n",
        "plt.show()\n"
      ],
      "execution_count": 0,
      "outputs": []
    },
    {
      "cell_type": "markdown",
      "metadata": {
        "id": "3J0inxhWSZUt",
        "colab_type": "text"
      },
      "source": [
        "**Print the metrics for the prediction model**"
      ]
    },
    {
      "cell_type": "code",
      "metadata": {
        "id": "M6Nqnh70Wp7w",
        "colab_type": "code",
        "colab": {}
      },
      "source": [
        "print('Mean Absolute Error:', metrics.mean_absolute_error(y_test, y_pred))  \n",
        "print('Mean Squared Error:', metrics.mean_squared_error(y_test, y_pred))  \n",
        "print('Root Mean Squared Error:', np.sqrt(metrics.mean_squared_error(y_test, y_pred)))"
      ],
      "execution_count": 0,
      "outputs": []
    },
    {
      "cell_type": "markdown",
      "metadata": {
        "id": "yK243h-HPE9G",
        "colab_type": "text"
      },
      "source": [
        "# **Assignment**<br>\n",
        "Choose two other columns of the dataset and perform linear regression on them.<br>\n",
        "\n",
        "Share your insights with the class."
      ]
    },
    {
      "cell_type": "code",
      "metadata": {
        "id": "Om_dEL1nPHRj",
        "colab_type": "code",
        "colab": {}
      },
      "source": [
        "dataset.columns\n",
        "#Chose any two columns for example Temp9am and Temp3pm"
      ],
      "execution_count": 0,
      "outputs": []
    },
    {
      "cell_type": "code",
      "metadata": {
        "id": "9A2A1QJgPHXJ",
        "colab_type": "code",
        "colab": {}
      },
      "source": [
        "dataset.plot(x='First column', y='Predict column', style='o')  \n",
        "plt.title('first vs second column')  \n",
        "plt.xlabel('first column)  \n",
        "plt.ylabel('predicted column')  \n",
        "plt.show()"
      ],
      "execution_count": 0,
      "outputs": []
    },
    {
      "cell_type": "code",
      "metadata": {
        "id": "Cgfwu6HgQq9S",
        "colab_type": "code",
        "colab": {}
      },
      "source": [
        "X = dataset['first column'].values.reshape(-1,1)\n",
        "y = dataset['second column'].values.reshape(-1,1)"
      ],
      "execution_count": 0,
      "outputs": []
    },
    {
      "cell_type": "code",
      "metadata": {
        "id": "Y6DX-EW5Q9wJ",
        "colab_type": "code",
        "colab": {}
      },
      "source": [
        "X_train, X_test, y_train, y_test = train_test_split(X, y, test_size=0.2, random_state=0)"
      ],
      "execution_count": 0,
      "outputs": []
    },
    {
      "cell_type": "code",
      "metadata": {
        "id": "DGMw4g37RB2L",
        "colab_type": "code",
        "colab": {}
      },
      "source": [
        "regressor = LinearRegression()  \n",
        "regressor.fit(X_train, y_train) #training the algorithm"
      ],
      "execution_count": 0,
      "outputs": []
    },
    {
      "cell_type": "code",
      "metadata": {
        "id": "zH0mU23-RE4u",
        "colab_type": "code",
        "colab": {}
      },
      "source": [
        "#To retrieve the intercept:\n",
        "print(regressor.intercept_)\n",
        "#For retrieving the slope:\n",
        "print(regressor.coef_)"
      ],
      "execution_count": 0,
      "outputs": []
    },
    {
      "cell_type": "code",
      "metadata": {
        "id": "ub-7xEp4RHzN",
        "colab_type": "code",
        "colab": {}
      },
      "source": [
        "y_pred = regressor.predict(X_test)"
      ],
      "execution_count": 0,
      "outputs": []
    },
    {
      "cell_type": "code",
      "metadata": {
        "id": "z-jdsEELRL0I",
        "colab_type": "code",
        "colab": {}
      },
      "source": [
        "df = pd.DataFrame({'Actual': y_test.flatten(), 'Predicted': y_pred.flatten()})\n",
        "df"
      ],
      "execution_count": 0,
      "outputs": []
    },
    {
      "cell_type": "code",
      "metadata": {
        "id": "DL5d9gG9RX0C",
        "colab_type": "code",
        "colab": {}
      },
      "source": [
        "plt.scatter(X_test, y_test,  color='gray')\n",
        "plt.plot(X_test, y_pred, color='red', linewidth=2)\n",
        "plt.show()"
      ],
      "execution_count": 0,
      "outputs": []
    },
    {
      "cell_type": "code",
      "metadata": {
        "id": "8jDjvVY6RaSF",
        "colab_type": "code",
        "colab": {}
      },
      "source": [
        "print('Mean Absolute Error:', metrics.mean_absolute_error(y_test, y_pred))  \n",
        "print('Mean Squared Error:', metrics.mean_squared_error(y_test, y_pred))  \n",
        "print('Root Mean Squared Error:', np.sqrt(metrics.mean_squared_error(y_test, y_pred)))"
      ],
      "execution_count": 0,
      "outputs": []
    }
  ]
}