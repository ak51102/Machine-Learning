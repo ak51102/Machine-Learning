{
  "nbformat": 4,
  "nbformat_minor": 0,
  "metadata": {
    "colab": {
      "name": "Hierarchical Clustering 2.ipynb",
      "provenance": [],
      "private_outputs": true,
      "authorship_tag": "ABX9TyNl6pjFsLf7PsfeG/40wMOA",
      "include_colab_link": true
    },
    "kernelspec": {
      "name": "python3",
      "display_name": "Python 3"
    }
  },
  "cells": [
    {
      "cell_type": "markdown",
      "metadata": {
        "id": "view-in-github",
        "colab_type": "text"
      },
      "source": [
        "<a href=\"https://colab.research.google.com/github/cagBRT/Machine-Learning/blob/master/Hierarchical_Clustering_2.ipynb\" target=\"_parent\"><img src=\"https://colab.research.google.com/assets/colab-badge.svg\" alt=\"Open In Colab\"/></a>"
      ]
    },
    {
      "cell_type": "markdown",
      "metadata": {
        "id": "UADUpUNpD4V0",
        "colab_type": "text"
      },
      "source": [
        "https://towardsdatascience.com/machine-learning-algorithms-part-12-hierarchical-agglomerative-clustering-example-in-python-1e18e0075019#:~:text=Looking%20at%20the%20dendrogram%2C%20the,number%20of%20clusters%20is%205.\n"
      ]
    },
    {
      "cell_type": "code",
      "metadata": {
        "id": "tHK0Fgfi4NoJ",
        "colab_type": "code",
        "colab": {}
      },
      "source": [
        "!git clone -l -s https://github.com/cagBRT/Machine-Learning.git cloned-repo\n",
        "%cd cloned-repo\n",
        "!ls"
      ],
      "execution_count": 0,
      "outputs": []
    },
    {
      "cell_type": "code",
      "metadata": {
        "id": "t4zcX3gP4FmU",
        "colab_type": "code",
        "colab": {}
      },
      "source": [
        "import matplotlib.pyplot as plt\n",
        "import pandas as pd\n",
        "%matplotlib inline\n",
        "import numpy as np\n",
        "from pandas import read_csv\n",
        "import scipy.cluster.hierarchy as shc\n",
        "from sklearn.cluster import AgglomerativeClustering"
      ],
      "execution_count": 0,
      "outputs": []
    },
    {
      "cell_type": "code",
      "metadata": {
        "id": "FBE8sFAm3965",
        "colab_type": "code",
        "colab": {}
      },
      "source": [
        "path = \"pima_indians_diabetes.csv\"\n",
        "headernames = ['preg', 'plas', 'pres', 'skin', 'test', 'mass', 'pedi', 'age', 'class']\n",
        "data = read_csv(path, names = headernames)"
      ],
      "execution_count": 0,
      "outputs": []
    },
    {
      "cell_type": "code",
      "metadata": {
        "id": "wU1ntte06GUj",
        "colab_type": "code",
        "colab": {}
      },
      "source": [
        "data[\"preg\"] = pd.to_numeric(data[1:][\"preg\"], downcast=\"float\")\n",
        "data[\"plas\"] = pd.to_numeric(data[1:][\"plas\"], downcast=\"float\")\n",
        "data[\"pres\"] = pd.to_numeric(data[1:][\"pres\"], downcast=\"float\")\n",
        "data[\"skin\"] = pd.to_numeric(data[1:][\"skin\"], downcast=\"float\")\n",
        "data[\"test\"] = pd.to_numeric(data[1:][\"test\"], downcast=\"float\")\n",
        "data[\"age\"] = pd.to_numeric(data[1:][\"age\"], downcast=\"float\")\n",
        "\n",
        "data[\"mass\"] = pd.to_numeric(data[1:][\"mass\"], downcast=\"float\")\n",
        "data[\"pedi\"] = pd.to_numeric(data[1:][\"pedi\"], downcast=\"float\")\n",
        "data[\"age\"] = pd.to_numeric(data[1:][\"age\"], downcast=\"float\")\n",
        "data[\"class\"] = pd.to_numeric(data[1:][\"class\"], downcast=\"float\")"
      ],
      "execution_count": 0,
      "outputs": []
    },
    {
      "cell_type": "code",
      "metadata": {
        "id": "sQWIg-zzUGOs",
        "colab_type": "code",
        "colab": {}
      },
      "source": [
        "array = data.values\n",
        "X = array[:,0:8]\n",
        "Y = array[:,8]"
      ],
      "execution_count": 0,
      "outputs": []
    },
    {
      "cell_type": "code",
      "metadata": {
        "id": "sD8RA8ZB7k4k",
        "colab_type": "code",
        "colab": {}
      },
      "source": [
        "data = data.drop([0])"
      ],
      "execution_count": 0,
      "outputs": []
    },
    {
      "cell_type": "code",
      "metadata": {
        "id": "MepdsjhW5XMG",
        "colab_type": "code",
        "colab": {}
      },
      "source": [
        "data.shape\n",
        "data.tail()"
      ],
      "execution_count": 0,
      "outputs": []
    },
    {
      "cell_type": "code",
      "metadata": {
        "id": "lE964Fph4uM9",
        "colab_type": "code",
        "colab": {}
      },
      "source": [
        "patient_data = data.iloc[:, 3:5].values"
      ],
      "execution_count": 0,
      "outputs": []
    },
    {
      "cell_type": "code",
      "metadata": {
        "id": "le3wyOlt81Nj",
        "colab_type": "code",
        "colab": {}
      },
      "source": [
        "plt.figure(figsize = (10, 7))\n",
        "plt.scatter(patient_data[:,0], patient_data[:,1])\n",
        "plt.xlabel(\"skin\")\n",
        "plt.ylabel(\"test\")"
      ],
      "execution_count": 0,
      "outputs": []
    },
    {
      "cell_type": "markdown",
      "metadata": {
        "id": "l8ZBZSW0VxLx",
        "colab_type": "text"
      },
      "source": [
        "Starting from each label at the bottom, you can see a vertical line up to a horizontal line. The height of that horizontal line tells you about the distance at which this label was merged into another label or cluster. You can find that other cluster by following the other vertical line down again. If you don't encounter another horizontal line, it was just merged with the other label you reach, otherwise it was merged into another cluster that was formed earlier."
      ]
    },
    {
      "cell_type": "markdown",
      "metadata": {
        "id": "jdSbV6eYV4mM",
        "colab_type": "text"
      },
      "source": [
        "horizontal lines are cluster merges\n",
        "vertical lines tell you which clusters/labels were part of merge forming that new cluster\n",
        "heights of the horizontal lines tell you about the distance that needed to be \"bridged\" to form the new cluster"
      ]
    },
    {
      "cell_type": "code",
      "metadata": {
        "id": "7gZA3X3R4l0Q",
        "colab_type": "code",
        "colab": {}
      },
      "source": [
        "plt.figure(figsize = (20, 10))\n",
        "plt.title(\"Patient Dendograms\")\n",
        "dend = shc.dendrogram(shc.linkage(data, method = 'ward'),distance_sort=True)"
      ],
      "execution_count": 0,
      "outputs": []
    },
    {
      "cell_type": "code",
      "metadata": {
        "id": "mZHQqJujGOok",
        "colab_type": "code",
        "colab": {}
      },
      "source": [
        "# set cut-off to 50\n",
        "max_d = 50  # max_d as in max_distance"
      ],
      "execution_count": 0,
      "outputs": []
    },
    {
      "cell_type": "code",
      "metadata": {
        "id": "AQaQK4dxGUx1",
        "colab_type": "code",
        "colab": {}
      },
      "source": [
        "\n",
        "dend(\n",
        "    data,\n",
        "    truncate_mode='lastp',\n",
        "    p=12,\n",
        "    leaf_rotation=90.,\n",
        "    leaf_font_size=12.,\n",
        "    show_contracted=True,\n",
        "    annotate_above=10,\n",
        "    max_d=max_d,  # plot a horizontal cut-off line\n",
        ")\n",
        "plt.show()"
      ],
      "execution_count": 0,
      "outputs": []
    },
    {
      "cell_type": "code",
      "metadata": {
        "id": "PVLmQeJT8cNS",
        "colab_type": "code",
        "colab": {}
      },
      "source": [
        "cluster = AgglomerativeClustering(n_clusters = 3, affinity = 'euclidean', linkage = 'ward')\n",
        "cluster.fit_predict(patient_data)\n",
        "plt.figure(figsize = (10, 7))\n",
        "plt.scatter(patient_data[:,0], patient_data[:,1], c = cluster.labels_, cmap = 'rainbow')\n",
        "plt.xlabel(\"skin\")\n",
        "plt.ylabel(\"test\")"
      ],
      "execution_count": 0,
      "outputs": []
    }
  ]
}