{
  "nbformat": 4,
  "nbformat_minor": 0,
  "metadata": {
    "colab": {
      "name": "Hierarchical Clustering 2.ipynb",
      "provenance": [],
      "private_outputs": true,
      "authorship_tag": "ABX9TyP3s5onVySvZ/YG3ru8A1EA",
      "include_colab_link": true
    },
    "kernelspec": {
      "name": "python3",
      "display_name": "Python 3"
    }
  },
  "cells": [
    {
      "cell_type": "markdown",
      "metadata": {
        "id": "view-in-github",
        "colab_type": "text"
      },
      "source": [
        "<a href=\"https://colab.research.google.com/github/cagBRT/Machine-Learning/blob/master/Hierarchical_Clustering_2.ipynb\" target=\"_parent\"><img src=\"https://colab.research.google.com/assets/colab-badge.svg\" alt=\"Open In Colab\"/></a>"
      ]
    },
    {
      "cell_type": "markdown",
      "metadata": {
        "id": "UADUpUNpD4V0",
        "colab_type": "text"
      },
      "source": [
        "https://towardsdatascience.com/machine-learning-algorithms-part-12-hierarchical-agglomerative-clustering-example-in-python-1e18e0075019#:~:text=Looking%20at%20the%20dendrogram%2C%20the,number%20of%20clusters%20is%205.\n"
      ]
    },
    {
      "cell_type": "code",
      "metadata": {
        "id": "tHK0Fgfi4NoJ",
        "colab_type": "code",
        "colab": {}
      },
      "source": [
        "!git clone -l -s https://github.com/cagBRT/Machine-Learning.git cloned-repo\n",
        "%cd cloned-repo\n",
        "!ls"
      ],
      "execution_count": 0,
      "outputs": []
    },
    {
      "cell_type": "code",
      "metadata": {
        "id": "t4zcX3gP4FmU",
        "colab_type": "code",
        "colab": {}
      },
      "source": [
        "import matplotlib.pyplot as plt\n",
        "import pandas as pd\n",
        "%matplotlib inline\n",
        "import numpy as np\n",
        "from pandas import read_csv\n",
        "import scipy.cluster.hierarchy as shc\n",
        "from sklearn.cluster import AgglomerativeClustering"
      ],
      "execution_count": 0,
      "outputs": []
    },
    {
      "cell_type": "code",
      "metadata": {
        "id": "FBE8sFAm3965",
        "colab_type": "code",
        "colab": {}
      },
      "source": [
        "path = \"pima_indians_diabetes.csv\"\n",
        "headernames = ['preg', 'plas', 'pres', 'skin', 'test', 'mass', 'pedi', 'age', 'class']\n",
        "data = read_csv(path, names = headernames)"
      ],
      "execution_count": 0,
      "outputs": []
    },
    {
      "cell_type": "code",
      "metadata": {
        "id": "XYOxC5rRbxwT",
        "colab_type": "code",
        "colab": {}
      },
      "source": [
        "#!cat pima_indians_diabetes.csv\n"
      ],
      "execution_count": 0,
      "outputs": []
    },
    {
      "cell_type": "code",
      "metadata": {
        "id": "wU1ntte06GUj",
        "colab_type": "code",
        "colab": {}
      },
      "source": [
        "data[\"preg\"] = pd.to_numeric(data[1:][\"preg\"], downcast=\"float\")\n",
        "data[\"plas\"] = pd.to_numeric(data[1:][\"plas\"], downcast=\"float\")\n",
        "data[\"pres\"] = pd.to_numeric(data[1:][\"pres\"], downcast=\"float\")\n",
        "data[\"skin\"] = pd.to_numeric(data[1:][\"skin\"], downcast=\"float\")\n",
        "data[\"test\"] = pd.to_numeric(data[1:][\"test\"], downcast=\"float\")\n",
        "data[\"age\"] = pd.to_numeric(data[1:][\"age\"], downcast=\"float\")\n",
        "\n",
        "data[\"mass\"] = pd.to_numeric(data[1:][\"mass\"], downcast=\"float\")\n",
        "data[\"pedi\"] = pd.to_numeric(data[1:][\"pedi\"], downcast=\"float\")\n",
        "data[\"age\"] = pd.to_numeric(data[1:][\"age\"], downcast=\"float\")\n",
        "data[\"class\"] = pd.to_numeric(data[1:][\"class\"], downcast=\"float\")"
      ],
      "execution_count": 0,
      "outputs": []
    },
    {
      "cell_type": "code",
      "metadata": {
        "id": "sQWIg-zzUGOs",
        "colab_type": "code",
        "colab": {}
      },
      "source": [
        "array = data.values\n",
        "X = array[:,0:8]\n",
        "Y = array[:,8]"
      ],
      "execution_count": 0,
      "outputs": []
    },
    {
      "cell_type": "code",
      "metadata": {
        "id": "sD8RA8ZB7k4k",
        "colab_type": "code",
        "colab": {}
      },
      "source": [
        "data = data.drop([0])"
      ],
      "execution_count": 0,
      "outputs": []
    },
    {
      "cell_type": "code",
      "metadata": {
        "id": "MepdsjhW5XMG",
        "colab_type": "code",
        "colab": {}
      },
      "source": [
        "data.shape\n",
        "data.tail()"
      ],
      "execution_count": 0,
      "outputs": []
    },
    {
      "cell_type": "code",
      "metadata": {
        "id": "Ri7j4pEtakGX",
        "colab_type": "code",
        "colab": {}
      },
      "source": [
        "data.describe"
      ],
      "execution_count": 0,
      "outputs": []
    },
    {
      "cell_type": "code",
      "metadata": {
        "id": "le3wyOlt81Nj",
        "colab_type": "code",
        "colab": {}
      },
      "source": [
        "plt.figure(figsize = (10, 7))\n",
        "plt.scatter(data[\"preg\"], data[\"class\"])\n",
        "plt.xlabel(\"preg\")\n",
        "plt.ylabel(\"class\")"
      ],
      "execution_count": 0,
      "outputs": []
    },
    {
      "cell_type": "markdown",
      "metadata": {
        "id": "l8ZBZSW0VxLx",
        "colab_type": "text"
      },
      "source": [
        "Starting from each label at the bottom, you can see a vertical line up to a horizontal line. The height of that horizontal line tells you about the distance at which this label was merged into another label or cluster. You can find that other cluster by following the other vertical line down again. If you don't encounter another horizontal line, it was just merged with the other label you reach, otherwise it was merged into another cluster that was formed earlier."
      ]
    },
    {
      "cell_type": "markdown",
      "metadata": {
        "id": "jdSbV6eYV4mM",
        "colab_type": "text"
      },
      "source": [
        "horizontal lines are cluster merges\n",
        "vertical lines tell you which clusters/labels were part of merge forming that new cluster\n",
        "heights of the horizontal lines tell you about the distance that needed to be \"bridged\" to form the new cluster"
      ]
    },
    {
      "cell_type": "code",
      "metadata": {
        "id": "7gZA3X3R4l0Q",
        "colab_type": "code",
        "colab": {}
      },
      "source": [
        "plt.figure(figsize = (20, 10))\n",
        "plt.title(\"Patient Dendograms\")\n",
        "plt.xlabel('sample index')\n",
        "plt.ylabel('distance')\n",
        "dend = shc.dendrogram(shc.linkage(data, method = 'ward'))"
      ],
      "execution_count": 0,
      "outputs": []
    },
    {
      "cell_type": "markdown",
      "metadata": {
        "id": "mL6Ag0iRZBgV",
        "colab_type": "text"
      },
      "source": [
        "A huge jump in distance is typically what we're interested in if we want to argue for a certain number of clusters. "
      ]
    },
    {
      "cell_type": "code",
      "metadata": {
        "id": "J2DDqx6XZSqR",
        "colab_type": "code",
        "colab": {}
      },
      "source": [
        "def fancy_dendrogram(*args, **kwargs):\n",
        "    max_d = kwargs.pop('max_d', None)\n",
        "    if max_d and 'color_threshold' not in kwargs:\n",
        "        kwargs['color_threshold'] = max_d\n",
        "    annotate_above = kwargs.pop('annotate_above', 0)\n",
        "\n",
        "    ddata = dendrogram(*args, **kwargs)\n",
        "\n",
        "    if not kwargs.get('no_plot', False):\n",
        "        plt.title('Hierarchical Clustering Dendrogram (truncated)')\n",
        "        plt.xlabel('sample index or (cluster size)')\n",
        "        plt.ylabel('distance')\n",
        "        for i, d, c in zip(ddata['icoord'], ddata['dcoord'], ddata['color_list']):\n",
        "            x = 0.5 * sum(i[1:3])\n",
        "            y = d[1]\n",
        "            if y > annotate_above:\n",
        "                plt.plot(x, y, 'o', c=c)\n",
        "                plt.annotate(\"%.3g\" % y, (x, y), xytext=(0, -5),\n",
        "                             textcoords='offset points',\n",
        "                             va='top', ha='center')\n",
        "        if max_d:\n",
        "            plt.axhline(y=max_d, c='k')\n",
        "    return ddata\n"
      ],
      "execution_count": 0,
      "outputs": []
    },
    {
      "cell_type": "code",
      "metadata": {
        "id": "mZHQqJujGOok",
        "colab_type": "code",
        "colab": {}
      },
      "source": [
        "# set cut-off to 50\n",
        "max_d = 3000  # max_d as in max_distance"
      ],
      "execution_count": 0,
      "outputs": []
    },
    {
      "cell_type": "code",
      "metadata": {
        "id": "-XUm_m4XZV-F",
        "colab_type": "code",
        "colab": {}
      },
      "source": [
        "fancy_dendrogram(\n",
        "    Z,\n",
        "    truncate_mode='lastp',\n",
        "    p=12,\n",
        "    leaf_rotation=90.,\n",
        "    leaf_font_size=12.,\n",
        "    show_contracted=True,\n",
        "    annotate_above=10,\n",
        "    max_d=max_d,  # plot a horizontal cut-off line\n",
        ")\n",
        "plt.show()\n"
      ],
      "execution_count": 0,
      "outputs": []
    },
    {
      "cell_type": "code",
      "metadata": {
        "id": "PVLmQeJT8cNS",
        "colab_type": "code",
        "colab": {}
      },
      "source": [
        "cluster = AgglomerativeClustering(n_clusters = 2, affinity = 'euclidean', linkage = 'ward')\n",
        "cluster.fit_predict(patient_data)\n",
        "plt.figure(figsize = (10, 7))\n",
        "plt.scatter(patient_data[:,0], patient_data[:,1], c = cluster.labels_, cmap = 'rainbow')\n",
        "plt.xlabel(\"skin\")\n",
        "plt.ylabel(\"test\")"
      ],
      "execution_count": 0,
      "outputs": []
    }
  ]
}