{
  "nbformat": 4,
  "nbformat_minor": 0,
  "metadata": {
    "colab": {
      "name": "Hierarchical Clustering 2.ipynb",
      "provenance": [],
      "private_outputs": true,
      "authorship_tag": "ABX9TyMvO4gJRbPxIZ4oL/2gyBk7",
      "include_colab_link": true
    },
    "kernelspec": {
      "name": "python3",
      "display_name": "Python 3"
    }
  },
  "cells": [
    {
      "cell_type": "markdown",
      "metadata": {
        "id": "view-in-github",
        "colab_type": "text"
      },
      "source": [
        "<a href=\"https://colab.research.google.com/github/cagBRT/Machine-Learning/blob/master/Hierarchical_Clustering_2.ipynb\" target=\"_parent\"><img src=\"https://colab.research.google.com/assets/colab-badge.svg\" alt=\"Open In Colab\"/></a>"
      ]
    },
    {
      "cell_type": "code",
      "metadata": {
        "id": "tHK0Fgfi4NoJ",
        "colab_type": "code",
        "colab": {}
      },
      "source": [
        "!git clone -l -s https://github.com/cagBRT/Machine-Learning.git cloned-repo\n",
        "%cd cloned-repo\n",
        "!ls"
      ],
      "execution_count": 0,
      "outputs": []
    },
    {
      "cell_type": "code",
      "metadata": {
        "id": "t4zcX3gP4FmU",
        "colab_type": "code",
        "colab": {}
      },
      "source": [
        "import matplotlib.pyplot as plt\n",
        "import pandas as pd\n",
        "%matplotlib inline\n",
        "import numpy as np\n",
        "from pandas import read_csv\n",
        "import scipy.cluster.hierarchy as shc\n",
        "from sklearn.cluster import AgglomerativeClustering"
      ],
      "execution_count": 0,
      "outputs": []
    },
    {
      "cell_type": "code",
      "metadata": {
        "id": "FBE8sFAm3965",
        "colab_type": "code",
        "colab": {}
      },
      "source": [
        "path = \"pima_indians_diabetes.csv\"\n",
        "headernames = ['preg', 'plas', 'pres', 'skin', 'test', 'mass', 'pedi', 'age', 'class']\n",
        "data = read_csv(path, names = headernames)\n",
        "type(data[\"preg\"])\n",
        "array = data.values\n",
        "X = array[:,0:8]\n",
        "Y = array[:,8]"
      ],
      "execution_count": 0,
      "outputs": []
    },
    {
      "cell_type": "code",
      "metadata": {
        "id": "wU1ntte06GUj",
        "colab_type": "code",
        "colab": {}
      },
      "source": [
        "data[\"preg\"] = pd.to_numeric(data[1:][\"preg\"], downcast=\"float\")\n",
        "data[\"plas\"] = pd.to_numeric(data[1:][\"plas\"], downcast=\"float\")\n",
        "data[\"pres\"] = pd.to_numeric(data[1:][\"pres\"], downcast=\"float\")\n",
        "data[\"skin\"] = pd.to_numeric(data[1:][\"skin\"], downcast=\"float\")\n",
        "data[\"test\"] = pd.to_numeric(data[1:][\"test\"], downcast=\"float\")\n",
        "data[\"age\"] = pd.to_numeric(data[1:][\"age\"], downcast=\"float\")\n",
        "\n",
        "data[\"mass\"] = pd.to_numeric(data[1:][\"mass\"], downcast=\"float\")\n",
        "data[\"pedi\"] = pd.to_numeric(data[1:][\"pedi\"], downcast=\"float\")\n",
        "data[\"age\"] = pd.to_numeric(data[1:][\"age\"], downcast=\"float\")\n",
        "data[\"class\"] = pd.to_numeric(data[1:][\"class\"], downcast=\"float\")"
      ],
      "execution_count": 0,
      "outputs": []
    },
    {
      "cell_type": "code",
      "metadata": {
        "id": "sD8RA8ZB7k4k",
        "colab_type": "code",
        "colab": {}
      },
      "source": [
        "data = data.drop([0])"
      ],
      "execution_count": 0,
      "outputs": []
    },
    {
      "cell_type": "code",
      "metadata": {
        "id": "MepdsjhW5XMG",
        "colab_type": "code",
        "colab": {}
      },
      "source": [
        "data.shape\n",
        "data.tail()"
      ],
      "execution_count": 0,
      "outputs": []
    },
    {
      "cell_type": "code",
      "metadata": {
        "id": "lE964Fph4uM9",
        "colab_type": "code",
        "colab": {}
      },
      "source": [
        "patient_data = data.iloc[:, 3:5].values"
      ],
      "execution_count": 0,
      "outputs": []
    },
    {
      "cell_type": "code",
      "metadata": {
        "id": "le3wyOlt81Nj",
        "colab_type": "code",
        "colab": {}
      },
      "source": [
        "plt.figure(figsize = (10, 7))\n",
        "plt.scatter(patient_data[:,0], patient_data[:,1])"
      ],
      "execution_count": 0,
      "outputs": []
    },
    {
      "cell_type": "code",
      "metadata": {
        "id": "7gZA3X3R4l0Q",
        "colab_type": "code",
        "colab": {}
      },
      "source": [
        "plt.figure(figsize = (20, 7))\n",
        "plt.title(\"Patient Dendograms\")\n",
        "dend = shc.dendrogram(shc.linkage(data, method = 'ward'))"
      ],
      "execution_count": 0,
      "outputs": []
    },
    {
      "cell_type": "code",
      "metadata": {
        "id": "PVLmQeJT8cNS",
        "colab_type": "code",
        "colab": {}
      },
      "source": [
        "cluster = AgglomerativeClustering(n_clusters = 4, affinity = 'euclidean', linkage = 'ward')\n",
        "cluster.fit_predict(patient_data)\n",
        "plt.figure(figsize = (10, 7))\n",
        "plt.scatter(patient_data[:,0], patient_data[:,1], c = cluster.labels_, cmap = 'rainbow')"
      ],
      "execution_count": 0,
      "outputs": []
    }
  ]
}