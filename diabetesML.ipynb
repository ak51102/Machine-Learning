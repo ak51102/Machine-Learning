{
  "nbformat": 4,
  "nbformat_minor": 0,
  "metadata": {
    "colab": {
      "name": "diabetesML.ipynb",
      "provenance": [],
      "private_outputs": true,
      "authorship_tag": "ABX9TyNGS8oyc+r+a23TMvDPTasr",
      "include_colab_link": true
    },
    "kernelspec": {
      "name": "python3",
      "display_name": "Python 3"
    },
    "accelerator": "GPU"
  },
  "cells": [
    {
      "cell_type": "markdown",
      "metadata": {
        "id": "view-in-github",
        "colab_type": "text"
      },
      "source": [
        "<a href=\"https://colab.research.google.com/github/cagBRT/Machine-Learning/blob/master/diabetesML.ipynb\" target=\"_parent\"><img src=\"https://colab.research.google.com/assets/colab-badge.svg\" alt=\"Open In Colab\"/></a>"
      ]
    },
    {
      "cell_type": "code",
      "metadata": {
        "id": "LfUezso7fFPi",
        "colab_type": "code",
        "colab": {}
      },
      "source": [
        "# Clone the entire repo.\n",
        "!git clone -l -s https://github.com/cagBRT/Machine-Learning.git cloned-repo\n",
        "%cd cloned-repo\n",
        "!ls"
      ],
      "execution_count": 0,
      "outputs": []
    },
    {
      "cell_type": "markdown",
      "metadata": {
        "id": "RKPpcMi9dSQx",
        "colab_type": "text"
      },
      "source": [
        "# **Load the necessary libraries**"
      ]
    },
    {
      "cell_type": "code",
      "metadata": {
        "id": "vZS4xn0EdeW6",
        "colab_type": "code",
        "colab": {}
      },
      "source": [
        "from __future__ import absolute_import, division, print_function, unicode_literals\n",
        "\n",
        "# Install TensorFlow\n",
        "try:\n",
        "  # %tensorflow_version only exists in Colab.\n",
        "  %tensorflow_version 2.x\n",
        "except Exception:\n",
        "  pass\n",
        "\n",
        "import tensorflow as tf\n",
        "import pathlib\n",
        "\n",
        "import matplotlib.pyplot as plt\n",
        "import pandas as pd\n",
        "import seaborn as sns\n",
        "import numpy as np\n",
        "\n",
        "from keras import optimizers\n",
        "from keras.utils import to_categorical\n",
        "from tensorflow import keras\n",
        "from tensorflow.keras import layers\n",
        "from tensorflow.keras.layers import Activation, Dense\n",
        "\n",
        "print(tf.__version__)"
      ],
      "execution_count": 0,
      "outputs": []
    },
    {
      "cell_type": "markdown",
      "metadata": {
        "id": "fLpRGLm348g1",
        "colab_type": "text"
      },
      "source": [
        "**Can we predict which patients will get diabetes within five years.**"
      ]
    },
    {
      "cell_type": "markdown",
      "metadata": {
        "id": "uECVGk_Id0-f",
        "colab_type": "text"
      },
      "source": [
        "This tutorial uses the Pima Indians onset of diabetes dataset. <br>\n",
        "It is a standard machine learning dataset from the UCI Machine Learning repository. <br>\n",
        "It describes patient medical record data for Pima Indians and whether they had an onset of diabetes within five years."
      ]
    },
    {
      "cell_type": "markdown",
      "metadata": {
        "id": "eiHaRvPJehVh",
        "colab_type": "text"
      },
      "source": [
        "  ** Dataset Details**\n",
        "   1. Number of times pregnant\n",
        "   2. Plasma glucose concentration a 2 hours in an oral glucose tolerance test\n",
        "   3. Diastolic blood pressure (mm Hg)\n",
        "   4. Triceps skin fold thickness (mm)\n",
        "   5. 2-Hour serum insulin (mu U/ml)\n",
        "   6. Body mass index (weight in kg/(height in m)^2)\n",
        "   7. Diabetes pedigree function\n",
        "   8. Age (years)\n",
        "   9. Class variable (0 or 1)"
      ]
    },
    {
      "cell_type": "code",
      "metadata": {
        "id": "IFGQcNred1HL",
        "colab_type": "code",
        "colab": {}
      },
      "source": [
        "# load the dataset\n",
        "dataset = pd.read_csv('pima_indians_diabetes.csv', delimiter=',')"
      ],
      "execution_count": 0,
      "outputs": []
    },
    {
      "cell_type": "markdown",
      "metadata": {
        "id": "8l1FRWUH5YmL",
        "colab_type": "text"
      },
      "source": [
        "# **Examine the dataset**"
      ]
    },
    {
      "cell_type": "code",
      "metadata": {
        "id": "d0TnKwWBfsP_",
        "colab_type": "code",
        "colab": {}
      },
      "source": [
        "dataset.head()"
      ],
      "execution_count": 0,
      "outputs": []
    },
    {
      "cell_type": "markdown",
      "metadata": {
        "id": "NCPZJOaK5gPL",
        "colab_type": "text"
      },
      "source": [
        "**Is data missing?**"
      ]
    },
    {
      "cell_type": "code",
      "metadata": {
        "id": "1HHgaoUEhh5-",
        "colab_type": "code",
        "colab": {}
      },
      "source": [
        "dataset.isna().sum()"
      ],
      "execution_count": 0,
      "outputs": []
    },
    {
      "cell_type": "markdown",
      "metadata": {
        "id": "cVl6_x345olQ",
        "colab_type": "text"
      },
      "source": [
        "**Are the Diabetes/No diabetes classes balanced?**"
      ]
    },
    {
      "cell_type": "code",
      "metadata": {
        "id": "IB66MdqPfSva",
        "colab_type": "code",
        "colab": {}
      },
      "source": [
        "dataset[\"class\"].value_counts()"
      ],
      "execution_count": 0,
      "outputs": []
    },
    {
      "cell_type": "markdown",
      "metadata": {
        "id": "5JlZJGiK5wEn",
        "colab_type": "text"
      },
      "source": [
        "**Are there any features that are strongly correlated?** "
      ]
    },
    {
      "cell_type": "code",
      "metadata": {
        "id": "EKL3yq8Khn_9",
        "colab_type": "code",
        "colab": {}
      },
      "source": [
        "corr = dataset.corr()\n",
        "sns.heatmap(corr, \n",
        "            xticklabels=corr.columns.values,\n",
        "            yticklabels=corr.columns.values)\n",
        "plt.show()"
      ],
      "execution_count": 0,
      "outputs": []
    },
    {
      "cell_type": "markdown",
      "metadata": {
        "id": "GgbtsHc96ADm",
        "colab_type": "text"
      },
      "source": [
        "# **Prepare the data**"
      ]
    },
    {
      "cell_type": "markdown",
      "metadata": {
        "id": "3Zbbzkdw6Erq",
        "colab_type": "text"
      },
      "source": [
        "Split the dataset into train and test sets"
      ]
    },
    {
      "cell_type": "code",
      "metadata": {
        "id": "X6-uSRGJiR6o",
        "colab_type": "code",
        "colab": {}
      },
      "source": [
        "#Choose a number for frac 0.2 - 0.95\n",
        "df_train = dataset.sample(frac=##,random_state=0)\n",
        "df_test = dataset.drop(df_train.index)\n",
        "print(\"done\")"
      ],
      "execution_count": 0,
      "outputs": []
    },
    {
      "cell_type": "markdown",
      "metadata": {
        "id": "NMqu7QsewKEg",
        "colab_type": "text"
      },
      "source": [
        "# **Remove the labels**"
      ]
    },
    {
      "cell_type": "code",
      "metadata": {
        "id": "NJeM7w9limxq",
        "colab_type": "code",
        "colab": {}
      },
      "source": [
        "train_labels = df_train.pop('class')\n",
        "test_labels = df_test.pop('class')"
      ],
      "execution_count": 0,
      "outputs": []
    },
    {
      "cell_type": "markdown",
      "metadata": {
        "id": "-iaL8LIBwPrt",
        "colab_type": "text"
      },
      "source": [
        "# **Normalize the data**"
      ]
    },
    {
      "cell_type": "code",
      "metadata": {
        "id": "a0PpwdLOtGkZ",
        "colab_type": "code",
        "colab": {}
      },
      "source": [
        "train_stats = df_train.describe()\n",
        "train_stats = train_stats.transpose()\n",
        "train_stats"
      ],
      "execution_count": 0,
      "outputs": []
    },
    {
      "cell_type": "code",
      "metadata": {
        "id": "fo17lIbWs8Vm",
        "colab_type": "code",
        "colab": {}
      },
      "source": [
        "test_stats = df_test.describe()\n",
        "test_stats = test_stats.transpose()\n",
        "test_stats"
      ],
      "execution_count": 0,
      "outputs": []
    },
    {
      "cell_type": "code",
      "metadata": {
        "id": "q6NSrRM2suKF",
        "colab_type": "code",
        "colab": {}
      },
      "source": [
        "def norm(x):\n",
        "  return (x - train_stats['mean']) / train_stats['std']\n",
        "\n",
        "normed_train_data = norm(df_train)\n",
        "normed_test_data = norm(df_test)\n",
        "print(\"done\")"
      ],
      "execution_count": 0,
      "outputs": []
    },
    {
      "cell_type": "markdown",
      "metadata": {
        "id": "grEhCLvDwUbF",
        "colab_type": "text"
      },
      "source": [
        "# **Create the model**"
      ]
    },
    {
      "cell_type": "code",
      "metadata": {
        "id": "ShSUpniAiwMB",
        "colab_type": "code",
        "colab": {}
      },
      "source": [
        "model = keras.Sequential()\n",
        "#Choose the size of the layers and the activation functions\n",
        "model.add(Dense(##, input_shape=([len(df_train.keys())]), activation='???'))\n",
        "#More layers???\n",
        "model.add(Dense(##, activation='???'))\n",
        "model.add(Dense(1, activation='???'))"
      ],
      "execution_count": 0,
      "outputs": []
    },
    {
      "cell_type": "markdown",
      "metadata": {
        "id": "rMz5-r8H2C9I",
        "colab_type": "text"
      },
      "source": [
        "https://keras.io/losses/\n"
      ]
    },
    {
      "cell_type": "markdown",
      "metadata": {
        "id": "eKwpxSkb4kGW",
        "colab_type": "text"
      },
      "source": [
        "https://keras.io/optimizers/"
      ]
    },
    {
      "cell_type": "markdown",
      "metadata": {
        "id": "Gd_QRuIKwaZN",
        "colab_type": "text"
      },
      "source": [
        "# **Set the HyperParameters**"
      ]
    },
    {
      "cell_type": "code",
      "metadata": {
        "id": "A2TWvRHWkMXL",
        "colab_type": "code",
        "colab": {}
      },
      "source": [
        "#'mean_squared_error' or 'binary_crossentropy' or 'mean_absolute_error' or \n",
        "#'mean_absolute_percentage_error'\n",
        "\n",
        "adam = keras.optimizers.Adam(learning_rate=0.001, beta_1=0.9, beta_2=0.999, amsgrad=False)\n",
        "sgd = keras.optimizers.SGD(learning_rate=0.01, momentum=0.0, nesterov=False)\n",
        "rms = keras.optimizers.RMSprop(learning_rate=0.001, rho=0.9)\n",
        "model.compile(loss='mean_squared_error', optimizer=adam, metrics=['accuracy','mean_squared_error'])"
      ],
      "execution_count": 0,
      "outputs": []
    },
    {
      "cell_type": "code",
      "metadata": {
        "id": "ysfV_pV6snXd",
        "colab_type": "code",
        "colab": {}
      },
      "source": [
        "#Choose how many epochs to do \n",
        "EPOCHS = ##"
      ],
      "execution_count": 0,
      "outputs": []
    },
    {
      "cell_type": "markdown",
      "metadata": {
        "id": "zwnZlO04wqPQ",
        "colab_type": "text"
      },
      "source": [
        "# **Train the model**"
      ]
    },
    {
      "cell_type": "code",
      "metadata": {
        "id": "iudboIOkkdmm",
        "colab_type": "code",
        "colab": {}
      },
      "source": [
        "history = model.fit(\n",
        "  normed_train_data, train_labels,\n",
        "  #Choose the batch size\n",
        "  epochs=EPOCHS, validation_split = 0.2, verbose=1,batch_size = #### )"
      ],
      "execution_count": 0,
      "outputs": []
    },
    {
      "cell_type": "code",
      "metadata": {
        "id": "6qFVEGaJui7T",
        "colab_type": "code",
        "colab": {}
      },
      "source": [
        "hist = pd.DataFrame(history.history)\n",
        "hist['epochs'] = history.epoch\n",
        "hist.tail(20)"
      ],
      "execution_count": 0,
      "outputs": []
    },
    {
      "cell_type": "code",
      "metadata": {
        "id": "cS9r4AnOv6h7",
        "colab_type": "code",
        "colab": {}
      },
      "source": [
        "axes = plt.gca()\n",
        "axes.set_ylim([0,0.5])\n",
        "plt.plot(hist['loss'], label='training loss')\n",
        "plt.plot(hist['val_loss'], label='testing loss')\n",
        "plt.title('Loss')\n",
        "plt.xlabel('epochs')\n",
        "plt.ylabel('loss')\n",
        "plt.legend()"
      ],
      "execution_count": 0,
      "outputs": []
    },
    {
      "cell_type": "code",
      "metadata": {
        "id": "2Y2B9WTdwAdm",
        "colab_type": "code",
        "colab": {}
      },
      "source": [
        "axes = plt.gca()\n",
        "axes.set_ylim([0,1])\n",
        "plt.plot(hist['accuracy'], label='training accuracy')\n",
        "plt.plot(hist['val_accuracy'], label='testing accuracy')\n",
        "plt.title('Accuracy')\n",
        "plt.xlabel('epochs')\n",
        "plt.ylabel('acc')\n",
        "plt.legend()"
      ],
      "execution_count": 0,
      "outputs": []
    },
    {
      "cell_type": "code",
      "metadata": {
        "id": "obaL4vUe7W6G",
        "colab_type": "code",
        "colab": {}
      },
      "source": [
        "test_l = model.predict_classes(normed_test_data)"
      ],
      "execution_count": 0,
      "outputs": []
    },
    {
      "cell_type": "code",
      "metadata": {
        "id": "K-LCbj6ZxUct",
        "colab_type": "code",
        "colab": {}
      },
      "source": [
        "from sklearn.metrics import confusion_matrix\n",
        "#0,0=true neg, 1,0=false neg, 1,1=true pos, 0,1=false pos\n",
        "confusion_matrix(test_labels, test_l)"
      ],
      "execution_count": 0,
      "outputs": []
    },
    {
      "cell_type": "code",
      "metadata": {
        "id": "gXxlsTWe9HC3",
        "colab_type": "code",
        "colab": {}
      },
      "source": [
        "count = 0\n",
        "for i in range(len(normed_test_data)):\n",
        "  print(normed_test_data.iloc[i],test_labels.iloc[i],\" = \", test_l[i])\n",
        "  if test_labels.iloc[i] == test_l[i]:\n",
        "    count = count+1\n",
        "print(count)"
      ],
      "execution_count": 0,
      "outputs": []
    }
  ]
}