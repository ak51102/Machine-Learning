{
  "nbformat": 4,
  "nbformat_minor": 0,
  "metadata": {
    "colab": {
      "name": "NaiveBayesBernoulli.ipynb",
      "provenance": [],
      "private_outputs": true,
      "authorship_tag": "ABX9TyM7Vd0nK5uLNfK1/x0iXjPn",
      "include_colab_link": true
    },
    "kernelspec": {
      "name": "python3",
      "display_name": "Python 3"
    }
  },
  "cells": [
    {
      "cell_type": "markdown",
      "metadata": {
        "id": "view-in-github",
        "colab_type": "text"
      },
      "source": [
        "<a href=\"https://colab.research.google.com/github/cagBRT/Machine-Learning/blob/master/NaiveBayesBernoulli.ipynb\" target=\"_parent\"><img src=\"https://colab.research.google.com/assets/colab-badge.svg\" alt=\"Open In Colab\"/></a>"
      ]
    },
    {
      "cell_type": "code",
      "metadata": {
        "id": "wavKBB654ezr",
        "colab_type": "code",
        "colab": {}
      },
      "source": [
        "from sklearn.datasets import make_classification\n",
        "import numpy as np\n",
        "from sklearn.naive_bayes import BernoulliNB\n",
        "from sklearn.model_selection import train_test_split"
      ],
      "execution_count": 0,
      "outputs": []
    },
    {
      "cell_type": "markdown",
      "metadata": {
        "id": "nlDtAxug_h2w",
        "colab_type": "text"
      },
      "source": [
        "**Generate a random dataset**"
      ]
    },
    {
      "cell_type": "code",
      "metadata": {
        "id": "x7EXrm_H_Iq5",
        "colab_type": "code",
        "colab": {}
      },
      "source": [
        "nb_samples = 600\n",
        "X, Y = make_classification(n_samples=nb_samples,n_clusters_per_class=1, n_features=2, n_informative=1, n_redundant=0)"
      ],
      "execution_count": 0,
      "outputs": []
    },
    {
      "cell_type": "markdown",
      "metadata": {
        "id": "V29IiJLS_lLK",
        "colab_type": "text"
      },
      "source": [
        "**Scatter plot the dataset**"
      ]
    },
    {
      "cell_type": "code",
      "metadata": {
        "id": "romytRN869MJ",
        "colab_type": "code",
        "colab": {}
      },
      "source": [
        "import matplotlib.pyplot as plt\n",
        "plt.figure(figsize=(10,5))\n",
        "fig = plt.scatter(X[:,0],X[:,1], marker='o', c=X[:,1],\n",
        "            s=25)\n",
        "plt.colorbar(fig)\n",
        "plt.show()"
      ],
      "execution_count": 0,
      "outputs": []
    },
    {
      "cell_type": "markdown",
      "metadata": {
        "id": "3XHBC7tp_oJh",
        "colab_type": "text"
      },
      "source": [
        "**Split the test and training data**"
      ]
    },
    {
      "cell_type": "code",
      "metadata": {
        "id": "HPG7RRmF4jb4",
        "colab_type": "code",
        "colab": {}
      },
      "source": [
        "X_train, X_test, Y_train, Y_test = train_test_split(X, Y, test_size=0.25)"
      ],
      "execution_count": 0,
      "outputs": []
    },
    {
      "cell_type": "markdown",
      "metadata": {
        "id": "WFjFUN8Y_tFe",
        "colab_type": "text"
      },
      "source": [
        "**Create and train the model**"
      ]
    },
    {
      "cell_type": "code",
      "metadata": {
        "id": "_iEPECeM_siK",
        "colab_type": "code",
        "colab": {}
      },
      "source": [
        "bnb = BernoulliNB(binarize=0.0)\n",
        "bnb.fit(X_train, Y_train)"
      ],
      "execution_count": 0,
      "outputs": []
    },
    {
      "cell_type": "markdown",
      "metadata": {
        "id": "08JVkg3S_00g",
        "colab_type": "text"
      },
      "source": [
        "**Determine Model performance**"
      ]
    },
    {
      "cell_type": "code",
      "metadata": {
        "id": "IvhVtirB_zjY",
        "colab_type": "code",
        "colab": {}
      },
      "source": [
        "bnb.score(X_test, Y_test)"
      ],
      "execution_count": 0,
      "outputs": []
    },
    {
      "cell_type": "markdown",
      "metadata": {
        "id": "0dJ6Hkte_4HO",
        "colab_type": "text"
      },
      "source": [
        "**Make a prediction with the model**"
      ]
    },
    {
      "cell_type": "code",
      "metadata": {
        "id": "gEzRy1Tp6udt",
        "colab_type": "code",
        "colab": {}
      },
      "source": [
        "data = np.array([[0, 0], [0, 1], [1, 0], [1, 1]])\n",
        "bnb.predict(data)"
      ],
      "execution_count": 0,
      "outputs": []
    }
  ]
}