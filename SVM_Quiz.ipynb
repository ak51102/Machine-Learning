{
  "nbformat": 4,
  "nbformat_minor": 0,
  "metadata": {
    "colab": {
      "name": "SVM Quiz.ipynb",
      "provenance": [],
      "private_outputs": true,
      "authorship_tag": "ABX9TyPdS5a3JQkEYyJa5dMFY8g0",
      "include_colab_link": true
    },
    "kernelspec": {
      "name": "python3",
      "display_name": "Python 3"
    }
  },
  "cells": [
    {
      "cell_type": "markdown",
      "metadata": {
        "id": "view-in-github",
        "colab_type": "text"
      },
      "source": [
        "<a href=\"https://colab.research.google.com/github/cagBRT/Machine-Learning/blob/master/SVM_Quiz.ipynb\" target=\"_parent\"><img src=\"https://colab.research.google.com/assets/colab-badge.svg\" alt=\"Open In Colab\"/></a>"
      ]
    },
    {
      "cell_type": "markdown",
      "metadata": {
        "id": "T-TZhJW6waeN",
        "colab_type": "text"
      },
      "source": [
        "Import libraries"
      ]
    },
    {
      "cell_type": "code",
      "metadata": {
        "id": "MJmjhZRzrs-q",
        "colab_type": "code",
        "colab": {}
      },
      "source": [
        "import pandas as pd\n",
        "from pandas import read_csv\n",
        "import numpy as np\n",
        "import matplotlib.pyplot as plt\n",
        "\n",
        "from sklearn.utils import shuffle\n",
        "from sklearn.model_selection import train_test_split\n",
        "from sklearn.metrics import accuracy_score\n",
        "from sklearn.svm import SVC\n",
        "from sklearn.datasets import make_multilabel_classification"
      ],
      "execution_count": null,
      "outputs": []
    },
    {
      "cell_type": "markdown",
      "metadata": {
        "id": "xFApPuWnruG_",
        "colab_type": "text"
      },
      "source": [
        "Create data"
      ]
    },
    {
      "cell_type": "code",
      "metadata": {
        "id": "oyoTNaQxreGO",
        "colab_type": "code",
        "colab": {}
      },
      "source": [
        "X, y = make_multilabel_classification(n_samples=100, n_features=4, n_classes=2, n_labels=2, \n",
        "                                      random_state=None)"
      ],
      "execution_count": null,
      "outputs": []
    },
    {
      "cell_type": "markdown",
      "metadata": {
        "id": "zCmOXyU5vUwx",
        "colab_type": "text"
      },
      "source": [
        "1. Plot the data"
      ]
    },
    {
      "cell_type": "code",
      "metadata": {
        "id": "lzuSzd6ytdg_",
        "colab_type": "code",
        "colab": {}
      },
      "source": [
        "labels = range(1, N+1)\n",
        "plt.figure(figsize = (10, 10))\n",
        "plt.subplots_adjust(bottom = 0.1)\n",
        "plt.scatter(X[:,0],X[:,1], label = 'True Position')\n",
        "plt.show()"
      ],
      "execution_count": null,
      "outputs": []
    },
    {
      "cell_type": "markdown",
      "metadata": {
        "id": "If4Lg8sisSrg",
        "colab_type": "text"
      },
      "source": [
        "Split into train and test sets"
      ]
    },
    {
      "cell_type": "code",
      "metadata": {
        "id": "sC6s6g5Hr_QM",
        "colab_type": "code",
        "colab": {}
      },
      "source": [
        "X_train, X_test, y_train, y_test = train_test_split(?,?, test_size=??, random_state=42)"
      ],
      "execution_count": null,
      "outputs": []
    },
    {
      "cell_type": "markdown",
      "metadata": {
        "id": "rL65R1zHvZvk",
        "colab_type": "text"
      },
      "source": [
        "2. Create and train the SVC model"
      ]
    },
    {
      "cell_type": "code",
      "metadata": {
        "id": "6zX-lkOAsc4P",
        "colab_type": "code",
        "colab": {}
      },
      "source": [
        "clf = SVC(kernel='linear')\n",
        "clf.fit(X_train,y_train[:,0])"
      ],
      "execution_count": null,
      "outputs": []
    },
    {
      "cell_type": "markdown",
      "metadata": {
        "id": "ikWU3PY6vePj",
        "colab_type": "text"
      },
      "source": [
        "3. Predict with the model"
      ]
    },
    {
      "cell_type": "code",
      "metadata": {
        "id": "FpihSS_NsiDd",
        "colab_type": "code",
        "colab": {}
      },
      "source": [
        "y_pred = clf.predict(?)\n"
      ],
      "execution_count": null,
      "outputs": []
    },
    {
      "cell_type": "markdown",
      "metadata": {
        "id": "biTj-FWcvk6I",
        "colab_type": "text"
      },
      "source": [
        "4. Print the accuracy_score"
      ]
    },
    {
      "cell_type": "code",
      "metadata": {
        "id": "oqVe5u-hvkKd",
        "colab_type": "code",
        "colab": {}
      },
      "source": [
        "print(accuracy_score(?[:,0],y_pred))"
      ],
      "execution_count": null,
      "outputs": []
    },
    {
      "cell_type": "code",
      "metadata": {
        "id": "JIzBmcWJs0BB",
        "colab_type": "code",
        "colab": {}
      },
      "source": [
        "y_pred"
      ],
      "execution_count": null,
      "outputs": []
    }
  ]
}