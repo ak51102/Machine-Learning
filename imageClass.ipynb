{
  "nbformat": 4,
  "nbformat_minor": 0,
  "metadata": {
    "colab": {
      "name": "imageClass.ipynb",
      "provenance": [],
      "private_outputs": true,
      "authorship_tag": "ABX9TyMvyq74wzUNqq7Kp0uCwLbV",
      "include_colab_link": true
    },
    "kernelspec": {
      "name": "python3",
      "display_name": "Python 3"
    }
  },
  "cells": [
    {
      "cell_type": "markdown",
      "metadata": {
        "id": "view-in-github",
        "colab_type": "text"
      },
      "source": [
        "<a href=\"https://colab.research.google.com/github/cagBRT/Machine-Learning/blob/master/imageClass.ipynb\" target=\"_parent\"><img src=\"https://colab.research.google.com/assets/colab-badge.svg\" alt=\"Open In Colab\"/></a>"
      ]
    },
    {
      "cell_type": "code",
      "metadata": {
        "id": "V-ya3V3S5v7H",
        "colab_type": "code",
        "colab": {}
      },
      "source": [
        "!git clone https://github.com/ScrapCodes/image-recognition-tensorflow.git"
      ],
      "execution_count": 0,
      "outputs": []
    },
    {
      "cell_type": "code",
      "metadata": {
        "id": "_ihMYk854VNi",
        "colab_type": "code",
        "colab": {}
      },
      "source": [
        "!sudo pip install tensorflow matplotlib pillow"
      ],
      "execution_count": 0,
      "outputs": []
    },
    {
      "cell_type": "code",
      "metadata": {
        "id": "OcCcioed4Zh2",
        "colab_type": "code",
        "colab": {}
      },
      "source": [
        "# TensorFlow and tf.keras\n",
        "import tensorflow as tf\n",
        "from tensorflow import keras\n",
        "\n",
        "# Helper libraries\n",
        "import numpy as np\n",
        "import matplotlib.pyplot as plt\n",
        "import glob, os\n",
        "import re\n",
        "\n",
        "# Pillow\n",
        "import PIL\n",
        "from PIL import Image"
      ],
      "execution_count": 0,
      "outputs": []
    },
    {
      "cell_type": "code",
      "metadata": {
        "id": "Gi7ynYUy4b2Q",
        "colab_type": "code",
        "colab": {}
      },
      "source": [
        "# Use Pillow library to convert an input jpeg to a 8 bit grey scale image array for processing.\n",
        "def jpeg_to_8_bit_greyscale(path, maxsize):\n",
        "        img = Image.open(path).convert('L')   # convert image to 8-bit grayscale\n",
        "        # Make aspect ratio as 1:1, by applying image crop.\n",
        "    # Please note, croping works for this data set, but in general one\n",
        "    # needs to locate the subject and then crop or scale accordingly.\n",
        "        WIDTH, HEIGHT = img.size\n",
        "        if WIDTH != HEIGHT:\n",
        "                m_min_d = min(WIDTH, HEIGHT)\n",
        "                img = img.crop((0, 0, m_min_d, m_min_d))\n",
        "        # Scale the image to the requested maxsize by Anti-alias sampling.\n",
        "        img.thumbnail(maxsize, PIL.Image.ANTIALIAS)\n",
        "        return np.asarray(img)\n",
        "\n"
      ],
      "execution_count": 0,
      "outputs": []
    },
    {
      "cell_type": "code",
      "metadata": {
        "id": "JPvL_lU94eLk",
        "colab_type": "code",
        "colab": {}
      },
      "source": [
        "def load_image_dataset(path_dir, maxsize):\n",
        "        images = []\n",
        "        labels = []\n",
        "        os.chdir(path_dir)\n",
        "        for file in glob.glob(\"*.jpg\"):\n",
        "                img = jpeg_to_8_bit_greyscale(file, maxsize)\n",
        "                if re.match('chihuahua.*', file):\n",
        "                        images.append(img)\n",
        "                        labels.append(0)\n",
        "                elif re.match('muffin.*', file):\n",
        "                        images.append(img)\n",
        "                        labels.append(1)\n",
        "        return (np.asarray(images), np.asarray(labels))"
      ],
      "execution_count": 0,
      "outputs": []
    },
    {
      "cell_type": "code",
      "metadata": {
        "id": "lS_uyAYx4gSK",
        "colab_type": "code",
        "colab": {}
      },
      "source": [
        "maxsize = 100, 100"
      ],
      "execution_count": 0,
      "outputs": []
    },
    {
      "cell_type": "code",
      "metadata": {
        "id": "GHu0lnFa5pFM",
        "colab_type": "code",
        "colab": {}
      },
      "source": [
        "\n",
        "%cd /content/\n",
        "!pwd\n",
        "%ls image-recognition-tensorflow/chihuahua-muffin/"
      ],
      "execution_count": 0,
      "outputs": []
    },
    {
      "cell_type": "code",
      "metadata": {
        "id": "H9-K2dJX4ix_",
        "colab_type": "code",
        "colab": {}
      },
      "source": [
        "(train_images, train_labels) = load_image_dataset('image-recognition-tensorflow/chihuahua-muffin', maxsize)\n",
        "\n",
        "(test_images, test_labels) = load_image_dataset('image-recognition-tensorflow/chihuahua-muffin/test_set/', maxsize)"
      ],
      "execution_count": 0,
      "outputs": []
    }
  ]
}