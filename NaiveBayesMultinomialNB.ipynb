{
  "nbformat": 4,
  "nbformat_minor": 0,
  "metadata": {
    "colab": {
      "name": "NaiveBayesMultinomialNB.ipynb",
      "provenance": [],
      "private_outputs": true,
      "authorship_tag": "ABX9TyOb0BWTMrTs7vaI8g846+N6",
      "include_colab_link": true
    },
    "kernelspec": {
      "name": "python3",
      "display_name": "Python 3"
    }
  },
  "cells": [
    {
      "cell_type": "markdown",
      "metadata": {
        "id": "view-in-github",
        "colab_type": "text"
      },
      "source": [
        "<a href=\"https://colab.research.google.com/github/cagBRT/Machine-Learning/blob/master/NaiveBayesMultinomialNB.ipynb\" target=\"_parent\"><img src=\"https://colab.research.google.com/assets/colab-badge.svg\" alt=\"Open In Colab\"/></a>"
      ]
    },
    {
      "cell_type": "markdown",
      "metadata": {
        "id": "Jxlbr1KtDlkF",
        "colab_type": "text"
      },
      "source": [
        "https://hub.packtpub.com/implementing-3-naive-bayes-classifiers-in-scikit-learn/\n"
      ]
    },
    {
      "cell_type": "code",
      "metadata": {
        "id": "3w5SA8EuCoQ_",
        "colab_type": "code",
        "colab": {}
      },
      "source": [
        "from sklearn.feature_extraction import DictVectorizer\n",
        "import numpy as np\n",
        "from sklearn.naive_bayes import MultinomialNB"
      ],
      "execution_count": 0,
      "outputs": []
    },
    {
      "cell_type": "code",
      "metadata": {
        "id": "ImE__1MgCovU",
        "colab_type": "code",
        "colab": {}
      },
      "source": [
        "data = [\n",
        "{'house': 100, 'street': 50, 'shop': 25, 'car': 100, 'tree': 20},\n",
        "\n",
        "{'house': 5, 'street': 5, 'shop': 0, 'car': 10, 'tree': 500, 'river': 1}\n",
        "] \n",
        "\n",
        "dv = DictVectorizer(sparse=False)\n",
        "X = dv.fit_transform(data)\n",
        "Y = np.array([1, 0])\n",
        "X"
      ],
      "execution_count": 0,
      "outputs": []
    },
    {
      "cell_type": "code",
      "metadata": {
        "id": "AKreeqoXDFJV",
        "colab_type": "code",
        "colab": {}
      },
      "source": [
        "mnb = MultinomialNB()\n",
        "mnb.fit(X, Y)\n",
        "MultinomialNB(alpha=1.0, class_prior=None, fit_prior=True)"
      ],
      "execution_count": 0,
      "outputs": []
    },
    {
      "cell_type": "code",
      "metadata": {
        "id": "_F0NfbfyDNCJ",
        "colab_type": "code",
        "colab": {}
      },
      "source": [
        "test_data = data = [\n",
        "{'house': 80, 'street': 20, 'shop': 15, 'car': 70, 'tree': 10, 'river': \n",
        "1}]\n",
        "{'house': 10, 'street': 5, 'shop': 1, 'car': 8, 'tree': 300, 'river': 0} "
      ],
      "execution_count": 0,
      "outputs": []
    },
    {
      "cell_type": "code",
      "metadata": {
        "id": "7cu6R3L0C9BY",
        "colab_type": "code",
        "colab": {}
      },
      "source": [
        "mnb.predict(dv.fit_transform(test_data))"
      ],
      "execution_count": 0,
      "outputs": []
    }
  ]
}