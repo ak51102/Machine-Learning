{
  "nbformat": 4,
  "nbformat_minor": 0,
  "metadata": {
    "colab": {
      "name": "LogisticRegression 1.ipynb",
      "provenance": [],
      "private_outputs": true,
      "authorship_tag": "ABX9TyOVJFIr4NlRHjhi0yP5Yd4v",
      "include_colab_link": true
    },
    "kernelspec": {
      "name": "python3",
      "display_name": "Python 3"
    }
  },
  "cells": [
    {
      "cell_type": "markdown",
      "metadata": {
        "id": "view-in-github",
        "colab_type": "text"
      },
      "source": [
        "<a href=\"https://colab.research.google.com/github/cagBRT/Machine-Learning/blob/master/LogisticRegression_1.ipynb\" target=\"_parent\"><img src=\"https://colab.research.google.com/assets/colab-badge.svg\" alt=\"Open In Colab\"/></a>"
      ]
    },
    {
      "cell_type": "code",
      "metadata": {
        "id": "-x7jUOe4dXIL",
        "colab_type": "code",
        "colab": {}
      },
      "source": [
        "# Clone the entire repo.\n",
        "!git clone -l -s https://github.com/cagBRT/Machine-Learning.git cloned-repo\n",
        "%cd cloned-repo\n",
        "!ls"
      ],
      "execution_count": 0,
      "outputs": []
    },
    {
      "cell_type": "markdown",
      "metadata": {
        "id": "MKjpYX0pfCNk",
        "colab_type": "text"
      },
      "source": [
        "Here are the variables that magazine reseller has on each customer from third-party sources:\n",
        "Household Income (Income; rounded to the nearest $1,000.00)\n",
        "Gender (IsFemale = 1 if the person is female, 0 otherwise)\n",
        "Marital Status (IsMarried = 1 if married, 0 otherwise)\n",
        "College Educated (HasCollege = 1 if has one or more years of college education, 0 otherwise)\n",
        "Employed in a Profession (IsProfessional = 1 if employed in a profession, 0 otherwise)\n",
        "Retired (IsRetired = 1 if retired, 0 otherwise)\n",
        "Not employed (Unemployed = 1 if not employed, 0 otherwise)\n",
        "Length of Residency in Current City (ResLength; in years)\n",
        "Dual Income if Married (Dual = 1 if dual income, 0 otherwise)\n",
        "Children (Minors = 1 if children under 18 are in the household, 0 otherwise)\n",
        "Home ownership (Own = 1 if own residence, 0 otherwise)\n",
        "Resident type (House = 1 if the residence is a single-family house, 0 otherwise)\n",
        "Race (White = 1 if the race is white, 0 otherwise)\n",
        "Language (English = 1 is the primary language in the household is English, 0 otherwise)"
      ]
    },
    {
      "cell_type": "markdown",
      "metadata": {
        "id": "BejsyVQXfFg2",
        "colab_type": "text"
      },
      "source": [
        "With this dataset, we will be building a binary classification model which will take above inputs as features and predict if the customer will buy the magazine or not. At last, we’ll evaluate our model using the confusion matrix."
      ]
    },
    {
      "cell_type": "code",
      "metadata": {
        "id": "HqIPfzDmehqc",
        "colab_type": "code",
        "colab": {}
      },
      "source": [
        "import numpy as np\n",
        "import pandas as pd\n",
        "import matplotlib.pyplot as plt\n",
        "import seaborn as sns\n",
        "from sklearn.model_selection import train_test_split \n",
        "from sklearn.linear_model import LogisticRegression\n",
        "from sklearn import metrics\n",
        "%matplotlib inline\n",
        "import warnings\n",
        "warnings.filterwarnings('ignore')"
      ],
      "execution_count": 0,
      "outputs": []
    },
    {
      "cell_type": "code",
      "metadata": {
        "id": "-28Pm6EJfMaw",
        "colab_type": "code",
        "colab": {}
      },
      "source": [
        "kidDataset = pd.read_csv(\"Social_Network_Ads.csv\")\n",
        "kidDataset.head(20)"
      ],
      "execution_count": 0,
      "outputs": []
    },
    {
      "cell_type": "code",
      "metadata": {
        "id": "NEDasx_Cfuv_",
        "colab_type": "code",
        "colab": {}
      },
      "source": [
        "kidDataset.isnull().sum()"
      ],
      "execution_count": 0,
      "outputs": []
    },
    {
      "cell_type": "code",
      "metadata": {
        "id": "zKe8JpVSf0no",
        "colab_type": "code",
        "colab": {}
      },
      "source": [
        "kidDataset.Purchased.value_counts()\n",
        "sns.countplot(x = 'Purchased', data = kidDataset, palette = 'hls')\n",
        "plt.show()"
      ],
      "execution_count": 0,
      "outputs": []
    },
    {
      "cell_type": "code",
      "metadata": {
        "id": "UOesASTbgRK6",
        "colab_type": "code",
        "colab": {}
      },
      "source": [
        "kidDataset.columns"
      ],
      "execution_count": 0,
      "outputs": []
    },
    {
      "cell_type": "code",
      "metadata": {
        "id": "w5BeZzE2hKws",
        "colab_type": "code",
        "colab": {}
      },
      "source": [
        "from sklearn.preprocessing import LabelEncoder\n",
        "# creating initial dataframe\n",
        "gender_types = ('Female','Male')\n",
        "gender_df = pd.DataFrame(kidDataset, columns=['Gender'])\n",
        "# creating instance of labelencoder\n",
        "labelencoder = LabelEncoder()\n",
        "# Assigning numerical values and storing in another column\n",
        "gender_df['Gender_num'] = labelencoder.fit_transform(gender_df['Gender'])                                                    "
      ],
      "execution_count": 0,
      "outputs": []
    },
    {
      "cell_type": "code",
      "metadata": {
        "id": "iBVUc0i4jqbX",
        "colab_type": "code",
        "colab": {}
      },
      "source": [
        "gender_df"
      ],
      "execution_count": 0,
      "outputs": []
    },
    {
      "cell_type": "code",
      "metadata": {
        "id": "7n217YCCm0yo",
        "colab_type": "code",
        "colab": {}
      },
      "source": [
        "gender_num.value_counts()"
      ],
      "execution_count": 0,
      "outputs": []
    },
    {
      "cell_type": "code",
      "metadata": {
        "id": "CrX58oaAm_0X",
        "colab_type": "code",
        "colab": {}
      },
      "source": [
        "kidDataset.Purchased.value_counts()"
      ],
      "execution_count": 0,
      "outputs": []
    },
    {
      "cell_type": "code",
      "metadata": {
        "id": "7WIj713tibQS",
        "colab_type": "code",
        "colab": {}
      },
      "source": [
        "kidDataset['Gender_num'] = gender_df['Gender_num']\n",
        "kidDataset\n",
        "kidDataset.pop('Gender')\n",
        "kidDataset"
      ],
      "execution_count": 0,
      "outputs": []
    },
    {
      "cell_type": "code",
      "metadata": {
        "id": "kDAivmstgMcf",
        "colab_type": "code",
        "colab": {}
      },
      "source": [
        "X = kidDataset[['Gender_num', 'Age', 'EstimatedSalary']]\n",
        "y = kidDataset['Purchased']"
      ],
      "execution_count": 0,
      "outputs": []
    },
    {
      "cell_type": "code",
      "metadata": {
        "id": "VwCoQuoOgudL",
        "colab_type": "code",
        "colab": {}
      },
      "source": [
        "X_train,X_test,y_train,y_test=train_test_split(X,y,test_size=0.20,random_state=0)"
      ],
      "execution_count": 0,
      "outputs": []
    },
    {
      "cell_type": "code",
      "metadata": {
        "id": "qWkgrb1lgxft",
        "colab_type": "code",
        "colab": {}
      },
      "source": [
        "logreg = LogisticRegression()\n",
        "logreg.fit(X_train,y_train)"
      ],
      "execution_count": 0,
      "outputs": []
    },
    {
      "cell_type": "code",
      "metadata": {
        "id": "bnWtaTGAlwWw",
        "colab_type": "code",
        "colab": {}
      },
      "source": [
        "y_pred=logreg.predict(X_test)"
      ],
      "execution_count": 0,
      "outputs": []
    },
    {
      "cell_type": "code",
      "metadata": {
        "id": "aVsLDBZwl0Rx",
        "colab_type": "code",
        "colab": {}
      },
      "source": [
        "cnf_matrix = metrics.confusion_matrix(y_test, y_pred)\n",
        "cnf_matrix"
      ],
      "execution_count": 0,
      "outputs": []
    },
    {
      "cell_type": "code",
      "metadata": {
        "id": "55SPV_i9mfa7",
        "colab_type": "code",
        "colab": {}
      },
      "source": [
        "fig, ax = plt.subplots()\n",
        "tick_marks = np.arange(len(class_names))\n",
        "plt.xticks(tick_marks, class_names)\n",
        "plt.yticks(tick_marks, class_names)\n",
        "sns.heatmap(pd.DataFrame(cnf_matrix), annot=True, cmap=\"viridis\" ,fmt='g')\n",
        "ax.xaxis.set_label_position(\"top\")\n",
        "plt.tight_layout()\n",
        "plt.title('Confusion matrix', y=1.1)\n",
        "plt.ylabel('Actual label')\n",
        "plt.xlabel('Predicted label')"
      ],
      "execution_count": 0,
      "outputs": []
    }
  ]
}