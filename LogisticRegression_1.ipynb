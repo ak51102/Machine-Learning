{
  "nbformat": 4,
  "nbformat_minor": 0,
  "metadata": {
    "colab": {
      "name": "LogisticRegression 1.ipynb",
      "provenance": [],
      "private_outputs": true,
      "authorship_tag": "ABX9TyM88LVkmHvYauhxEr3V+JIM",
      "include_colab_link": true
    },
    "kernelspec": {
      "name": "python3",
      "display_name": "Python 3"
    }
  },
  "cells": [
    {
      "cell_type": "markdown",
      "metadata": {
        "id": "view-in-github",
        "colab_type": "text"
      },
      "source": [
        "<a href=\"https://colab.research.google.com/github/cagBRT/Machine-Learning/blob/master/LogisticRegression_1.ipynb\" target=\"_parent\"><img src=\"https://colab.research.google.com/assets/colab-badge.svg\" alt=\"Open In Colab\"/></a>"
      ]
    },
    {
      "cell_type": "markdown",
      "metadata": {
        "id": "xQVgs0mvBX7E",
        "colab_type": "text"
      },
      "source": [
        "Predict if a glass type is household or window based on the amount of aluminum the glass contains."
      ]
    },
    {
      "cell_type": "code",
      "metadata": {
        "id": "X6UfC60C7DBR",
        "colab_type": "code",
        "colab": {}
      },
      "source": [
        "# glass identification dataset\n",
        "import pandas as pd\n",
        "import numpy as np\n",
        "import matplotlib.pyplot as plt\n",
        "from sklearn.linear_model import LogisticRegression\n",
        "from sklearn import metrics"
      ],
      "execution_count": 0,
      "outputs": []
    },
    {
      "cell_type": "code",
      "metadata": {
        "id": "xD0hw0Im6h4N",
        "colab_type": "code",
        "colab": {}
      },
      "source": [
        "url = 'http://archive.ics.uci.edu/ml/machine-learning-databases/glass/glass.data'\n",
        "col_names = ['id','ri','na','mg','al','si','k','ca','ba','fe','glass_type']\n",
        "glass = pd.read_csv(url, names=col_names, index_col='id')\n",
        "glass.sort_values('al', inplace=True)\n",
        "glass.head()"
      ],
      "execution_count": 0,
      "outputs": []
    },
    {
      "cell_type": "markdown",
      "metadata": {
        "id": "rN2yIW8EBmZ7",
        "colab_type": "text"
      },
      "source": [
        "There are 4 glass types :<br>\n",
        ">types 1, 2, 3 are window glass<br>\n",
        "types 5, 6, 7 are household glass<br>"
      ]
    },
    {
      "cell_type": "code",
      "metadata": {
        "id": "u_216CWT65ax",
        "colab_type": "code",
        "colab": {}
      },
      "source": [
        "# examine glass_type\n",
        "glass.glass_type.value_counts().sort_index()"
      ],
      "execution_count": 0,
      "outputs": []
    },
    {
      "cell_type": "markdown",
      "metadata": {
        "id": "m6j64lQMCBrE",
        "colab_type": "text"
      },
      "source": [
        "Create two categories of glass:<br>\n",
        ">household = 0, window glass, categories 1,2,3<br>\n",
        "household = 1, household glass, categories 5,6,7<br>"
      ]
    },
    {
      "cell_type": "code",
      "metadata": {
        "id": "BGNgvpk86735",
        "colab_type": "code",
        "colab": {}
      },
      "source": [
        "# types 1, 2, 3 are window glass\n",
        "# types 5, 6, 7 are household glass\n",
        "glass['household'] = glass.glass_type.map({1:0, 2:0, 3:0, 5:1, 6:1, 7:1})\n",
        "glass.head()"
      ],
      "execution_count": 0,
      "outputs": []
    },
    {
      "cell_type": "markdown",
      "metadata": {
        "id": "eJUzkM-YCaJg",
        "colab_type": "text"
      },
      "source": [
        "**Create the Logistic Regression model**"
      ]
    },
    {
      "cell_type": "code",
      "metadata": {
        "id": "Eslz9QGW6SJk",
        "colab_type": "code",
        "colab": {}
      },
      "source": [
        "# fit a logistic regression model and store the class predictions\n",
        "logreg = LogisticRegression()"
      ],
      "execution_count": 0,
      "outputs": []
    },
    {
      "cell_type": "markdown",
      "metadata": {
        "id": "bf9Ak984CmKy",
        "colab_type": "text"
      },
      "source": [
        "The only feature we are using is aluminum"
      ]
    },
    {
      "cell_type": "code",
      "metadata": {
        "id": "I4iYdtdP8da8",
        "colab_type": "code",
        "colab": {}
      },
      "source": [
        "feature_cols = ['al']\n",
        "X = glass[feature_cols]\n",
        "y = glass.household"
      ],
      "execution_count": 0,
      "outputs": []
    },
    {
      "cell_type": "markdown",
      "metadata": {
        "id": "kwguCMuZCxt4",
        "colab_type": "text"
      },
      "source": [
        "Print the aluminum column"
      ]
    },
    {
      "cell_type": "code",
      "metadata": {
        "id": "_eC7yTLhAUc5",
        "colab_type": "code",
        "colab": {}
      },
      "source": [
        "X.head()"
      ],
      "execution_count": 0,
      "outputs": []
    },
    {
      "cell_type": "markdown",
      "metadata": {
        "id": "0BFfUxRjC0DC",
        "colab_type": "text"
      },
      "source": [
        "Print the classifications"
      ]
    },
    {
      "cell_type": "code",
      "metadata": {
        "id": "Sk8smh23CtNS",
        "colab_type": "code",
        "colab": {}
      },
      "source": [
        "print(y)"
      ],
      "execution_count": 0,
      "outputs": []
    },
    {
      "cell_type": "markdown",
      "metadata": {
        "id": "-Cbwn47LC5iX",
        "colab_type": "text"
      },
      "source": [
        "Use the al column and the hoousehold column to train the model. <br>\n",
        "Store the predictions in the glass[predictions column]"
      ]
    },
    {
      "cell_type": "code",
      "metadata": {
        "id": "JCdQc1kR8hIy",
        "colab_type": "code",
        "colab": {}
      },
      "source": [
        "logreg.fit(X, y)\n",
        "glass['household_pred_class'] = logreg.predict(X)"
      ],
      "execution_count": 0,
      "outputs": []
    },
    {
      "cell_type": "code",
      "metadata": {
        "id": "XvvVb7H8DLMD",
        "colab_type": "code",
        "colab": {}
      },
      "source": [
        "glass.head()"
      ],
      "execution_count": 0,
      "outputs": []
    },
    {
      "cell_type": "code",
      "metadata": {
        "id": "qZJI9XiUDYY0",
        "colab_type": "code",
        "colab": {}
      },
      "source": [
        "cnf_matrix = metrics.confusion_matrix(glass['household'],glass['household_pred_class'])\n",
        "cnf_matrix"
      ],
      "execution_count": 0,
      "outputs": []
    },
    {
      "cell_type": "markdown",
      "metadata": {
        "id": "DJoU3pPoEFyU",
        "colab_type": "text"
      },
      "source": [
        "# **Predicting Probabilities**"
      ]
    },
    {
      "cell_type": "markdown",
      "metadata": {
        "id": "_rHRM9Zj7PG6",
        "colab_type": "text"
      },
      "source": [
        "What if we wanted the predicted probabilities instead of just the class predictions, to understand how confident we are in a given prediction?"
      ]
    },
    {
      "cell_type": "code",
      "metadata": {
        "id": "Yd1R78ce7OiS",
        "colab_type": "code",
        "colab": {}
      },
      "source": [
        "# store the predicted probabilites of class 1\n",
        "glass['household_pred_prob'] = logreg.predict_proba(X)[:, 1]\n",
        "glass.shape"
      ],
      "execution_count": 0,
      "outputs": []
    },
    {
      "cell_type": "code",
      "metadata": {
        "id": "w0rLMbw9AhJY",
        "colab_type": "code",
        "colab": {}
      },
      "source": [
        "glass.head()"
      ],
      "execution_count": 0,
      "outputs": []
    },
    {
      "cell_type": "code",
      "metadata": {
        "id": "9BEOzSMA7YwE",
        "colab_type": "code",
        "colab": {}
      },
      "source": [
        "# plot the predicted probabilities\n",
        "plt.scatter(glass.al, glass.household)\n",
        "plt.plot(glass.al, glass.household_pred_prob, color='red')\n",
        "plt.xlabel('al')\n",
        "plt.ylabel('household')"
      ],
      "execution_count": 0,
      "outputs": []
    },
    {
      "cell_type": "markdown",
      "metadata": {
        "id": "OPC5huHa-N0X",
        "colab_type": "text"
      },
      "source": [
        "The first column indicates the predicted probability of class 0, and the second column indicates the predicted probability of class 1"
      ]
    },
    {
      "cell_type": "code",
      "metadata": {
        "id": "U96WSxSO75Ed",
        "colab_type": "code",
        "colab": {}
      },
      "source": [
        "#glass['household_pred_prob'] = logreg.predict_proba(X)[:, 1]\n",
        "#X feature column is al\n",
        "print(logreg.predict_proba(X)[1, :])\n",
        "print(logreg.predict_proba(X)[2, :])\n",
        "print(logreg.predict_proba(X)[213, :])\n",
        "print(logreg.predict_proba(X)[200, :])"
      ],
      "execution_count": 0,
      "outputs": []
    },
    {
      "cell_type": "code",
      "metadata": {
        "id": "yFr1iyNx-_Ik",
        "colab_type": "code",
        "colab": {}
      },
      "source": [
        "feature_cols, logreg.coef_[0]"
      ],
      "execution_count": 0,
      "outputs": []
    },
    {
      "cell_type": "code",
      "metadata": {
        "id": "paQsW09t_ilh",
        "colab_type": "code",
        "colab": {}
      },
      "source": [
        "logreg.predict_proba(X)[:, 1]"
      ],
      "execution_count": 0,
      "outputs": []
    },
    {
      "cell_type": "code",
      "metadata": {
        "id": "SIcMtBr0FT8a",
        "colab_type": "code",
        "colab": {}
      },
      "source": [
        "plt.plot(X,logreg.predict_proba(X)[:, 1])\n",
        "plt.show()"
      ],
      "execution_count": 0,
      "outputs": []
    },
    {
      "cell_type": "markdown",
      "metadata": {
        "id": "s7-Bil2V_DMm",
        "colab_type": "text"
      },
      "source": [
        "Interpretation: A 1 unit increase in 'al' is associated with a 4.18 unit increase in the log-odds of 'household'."
      ]
    },
    {
      "cell_type": "code",
      "metadata": {
        "id": "0R4z1Fel_HBZ",
        "colab_type": "code",
        "colab": {}
      },
      "source": [
        "# increasing al by 1 (so that al=3) increases the log-odds by 4.18\n",
        "logodds = 0.64689603 + 4.1804038614510901\n",
        "odds = np.exp(logodds)\n",
        "prob = odds/(1 + odds)\n",
        "prob"
      ],
      "execution_count": 0,
      "outputs": []
    },
    {
      "cell_type": "markdown",
      "metadata": {
        "id": "sjuxNBRkF1DX",
        "colab_type": "text"
      },
      "source": [
        "**Logistic Regression and Categorical Features**"
      ]
    },
    {
      "cell_type": "markdown",
      "metadata": {
        "id": "nMInQ18YGC8r",
        "colab_type": "text"
      },
      "source": [
        "Use the column high BA "
      ]
    },
    {
      "cell_type": "code",
      "metadata": {
        "id": "kSft_9RNGJ8-",
        "colab_type": "code",
        "colab": {}
      },
      "source": [
        "glass['high_ba']"
      ],
      "execution_count": 0,
      "outputs": []
    },
    {
      "cell_type": "code",
      "metadata": {
        "id": "ZbvveVDKF1OG",
        "colab_type": "code",
        "colab": {}
      },
      "source": [
        "# create a categorical feature\n",
        "glass['high_ba'] = np.where(glass.ba > 0.5, 1, 0)"
      ],
      "execution_count": 0,
      "outputs": []
    }
  ]
}