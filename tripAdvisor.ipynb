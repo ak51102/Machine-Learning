{
  "nbformat": 4,
  "nbformat_minor": 0,
  "metadata": {
    "colab": {
      "name": "tripAdvisor.ipynb",
      "provenance": [],
      "private_outputs": true,
      "collapsed_sections": [],
      "authorship_tag": "ABX9TyMIuwx5Z4I6mAFjhNrpcO7+",
      "include_colab_link": true
    },
    "kernelspec": {
      "name": "python3",
      "display_name": "Python 3"
    }
  },
  "cells": [
    {
      "cell_type": "markdown",
      "metadata": {
        "id": "view-in-github",
        "colab_type": "text"
      },
      "source": [
        "<a href=\"https://colab.research.google.com/github/cagBRT/Machine-Learning/blob/master/tripAdvisor.ipynb\" target=\"_parent\"><img src=\"https://colab.research.google.com/assets/colab-badge.svg\" alt=\"Open In Colab\"/></a>"
      ]
    },
    {
      "cell_type": "code",
      "metadata": {
        "id": "9qyn8U795R7y",
        "colab_type": "code",
        "colab": {}
      },
      "source": [
        "import tensorflow as tf\n",
        "from keras.models import Sequential\n",
        "import pandas as pd\n",
        "from keras.layers import Dense\n",
        "import numpy as np\n",
        "from keras.utils import np_utils\n",
        "from sklearn.model_selection import train_test_split\n",
        "from keras.models import Sequential\n",
        "from keras.layers import Dense"
      ],
      "execution_count": 0,
      "outputs": []
    },
    {
      "cell_type": "markdown",
      "metadata": {
        "id": "zY8I2GNs9Ssa",
        "colab_type": "text"
      },
      "source": [
        "https://github.com/chantelmariediaz/Scraping-TripAdvisor-with-Python"
      ]
    },
    {
      "cell_type": "code",
      "metadata": {
        "id": "ZuQjXVRb73BS",
        "colab_type": "code",
        "colab": {}
      },
      "source": [
        "cols = ['User country', 'Nr. reviews','Nr. hotel reviews','Helpful votes',\n",
        "\t        'Score','Period of stay','Traveler type','Pool','Gym','Tennis court',\n",
        "\t        'Spa','Casino','Free internet','Hotel name','Hotel stars','Nr. rooms',\n",
        "          'User continent','Member years','Review month','Review weekday']\n",
        "data = pd.read_csv('https://github.com/chantelmariediaz/Scraping-TripAdvisor-with-Python/blob/master/TripAdvisor%20Flagstaff%20Reviews.csv', delimiter=',',names=cols)\n"
      ],
      "execution_count": 0,
      "outputs": []
    },
    {
      "cell_type": "code",
      "metadata": {
        "id": "-DKaUqK17692",
        "colab_type": "code",
        "colab": {}
      },
      "source": [
        "labels = data['Score']\n",
        "features = data.drop(['Score'], axis=1)\n",
        "X=features\n",
        "y=np_utils.to_categorical(labels)\n",
        "X_train, X_test, y_train, y_test = train_test_split(X, y, test_size=0.33, random_state=42) "
      ],
      "execution_count": 0,
      "outputs": []
    },
    {
      "cell_type": "code",
      "metadata": {
        "id": "Jy0cYgdh5G0p",
        "colab_type": "code",
        "colab": {}
      },
      "source": [
        "model = Sequential()\n",
        "model.add(Dense(8,  input_dim=19, activation='relu'))\n",
        "model.add(Dense(6, activation='softmax'))\n",
        "model.compile(loss='categorical_crossentropy', optimizer='adam', metrics=['accuracy'])                   \n",
        "model.fit(X_train, y_train,epochs=4, batch_size=1, verbose=1)"
      ],
      "execution_count": 0,
      "outputs": []
    }
  ]
}