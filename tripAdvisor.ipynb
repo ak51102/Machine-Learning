{
  "nbformat": 4,
  "nbformat_minor": 0,
  "metadata": {
    "colab": {
      "name": "tripAdvisor.ipynb",
      "provenance": [],
      "private_outputs": true,
      "collapsed_sections": [],
      "authorship_tag": "ABX9TyMBu7ZclDpssZqS3NpqKiYX",
      "include_colab_link": true
    },
    "kernelspec": {
      "name": "python3",
      "display_name": "Python 3"
    },
    "accelerator": "GPU"
  },
  "cells": [
    {
      "cell_type": "markdown",
      "metadata": {
        "id": "view-in-github",
        "colab_type": "text"
      },
      "source": [
        "<a href=\"https://colab.research.google.com/github/cagBRT/Machine-Learning/blob/master/tripAdvisor.ipynb\" target=\"_parent\"><img src=\"https://colab.research.google.com/assets/colab-badge.svg\" alt=\"Open In Colab\"/></a>"
      ]
    },
    {
      "cell_type": "code",
      "metadata": {
        "id": "Y_6O04DYPRCx",
        "colab_type": "code",
        "colab": {}
      },
      "source": [
        "# Clone the entire repo.\n",
        "!git clone -l -s https://github.com/cagBRT/Machine-Learning.git cloned-repo\n",
        "%cd cloned-repo\n",
        "!ls"
      ],
      "execution_count": 0,
      "outputs": []
    },
    {
      "cell_type": "markdown",
      "metadata": {
        "id": "MypXQXCrGAtO",
        "colab_type": "text"
      },
      "source": [
        "# **Set the runtime to GPU**\n",
        "Runtime> Change Runtime Type > Python 3 > GPU"
      ]
    },
    {
      "cell_type": "code",
      "metadata": {
        "id": "9qyn8U795R7y",
        "colab_type": "code",
        "colab": {}
      },
      "source": [
        "from __future__ import absolute_import, division, print_function, unicode_literals\n",
        "\n",
        "# Install TensorFlow\n",
        "try:\n",
        "  # %tensorflow_version only exists in Colab.\n",
        "  %tensorflow_version 2.x\n",
        "except Exception:\n",
        "  pass\n",
        "\n",
        "import tensorflow as tf\n",
        "import pathlib\n",
        "\n",
        "import matplotlib.pyplot as plt\n",
        "import pandas as pd\n",
        "import seaborn as sns\n",
        "import numpy as np\n",
        "\n",
        "from tensorflow.keras import optimizers\n",
        "from tensorflow.keras.utils import to_categorical\n",
        "from tensorflow.keras import layers\n",
        "from tensorflow.keras.layers import Activation, Dense\n",
        "from keras.utils import np_utils\n",
        "from sklearn.model_selection import train_test_split\n",
        "from keras.models import Sequential\n",
        "from keras.layers import Dense\n",
        "\n",
        "print(tf.__version__)"
      ],
      "execution_count": 0,
      "outputs": []
    },
    {
      "cell_type": "markdown",
      "metadata": {
        "id": "zY8I2GNs9Ssa",
        "colab_type": "text"
      },
      "source": [
        "https://github.com/chantelmariediaz/Scraping-TripAdvisor-with-Python"
      ]
    },
    {
      "cell_type": "code",
      "metadata": {
        "id": "ZuQjXVRb73BS",
        "colab_type": "code",
        "colab": {}
      },
      "source": [
        "cols = ['Usercountry', 'Nrreviews','Nrhotelreviews','Helpfulvotes','Score','Periodofstay',\n",
        "          'Travelertype','Pool','Gym','Tenniscourt','Spa','Casino','Freeinternet',\n",
        "                 'Hotelname','Hotelstars','Nrrooms','Usercontinent','Memberyears',\n",
        "          'Reviewmonth','Reviewweekday']\n",
        "data = pd.read_csv('tripAdvisorReviews.csv', delimiter=',', header=None, names=cols)\n"
      ],
      "execution_count": 0,
      "outputs": []
    },
    {
      "cell_type": "code",
      "metadata": {
        "id": "Cd2OFyxVGUjw",
        "colab_type": "code",
        "colab": {}
      },
      "source": [
        "data.head()"
      ],
      "execution_count": 0,
      "outputs": []
    },
    {
      "cell_type": "code",
      "metadata": {
        "id": "m7r5pNOUWHd-",
        "colab_type": "code",
        "colab": {}
      },
      "source": [
        "data.columns"
      ],
      "execution_count": 0,
      "outputs": []
    },
    {
      "cell_type": "code",
      "metadata": {
        "id": "-DKaUqK17692",
        "colab_type": "code",
        "colab": {}
      },
      "source": [
        "labels = data['Score']\n",
        "features = data.drop(['Score'], axis=1)\n",
        "X=features\n",
        "y=np_utils.to_categorical(labels)\n",
        "X_train, X_test, y_train, y_test = train_test_split(X, y, test_size=0.33, random_state=42) "
      ],
      "execution_count": 0,
      "outputs": []
    },
    {
      "cell_type": "code",
      "metadata": {
        "id": "Jy0cYgdh5G0p",
        "colab_type": "code",
        "colab": {}
      },
      "source": [
        "model = Sequential()\n",
        "model.add(Dense(8,  input_dim=19, activation='relu'))\n",
        "model.add(Dense(6, activation='softmax'))\n",
        "model.compile(loss='categorical_crossentropy', optimizer='adam', metrics=['accuracy'])                   \n",
        "model.fit(X_train, y_train,epochs=4, batch_size=1, verbose=1)"
      ],
      "execution_count": 0,
      "outputs": []
    }
  ]
}