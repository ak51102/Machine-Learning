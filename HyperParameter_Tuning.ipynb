{
  "nbformat": 4,
  "nbformat_minor": 0,
  "metadata": {
    "colab": {
      "name": "HyperParameter Tuning.ipynb",
      "provenance": [],
      "private_outputs": true,
      "mount_file_id": "1LuvHfEnqdDu_2LKIuNUBSbOPm2T0djpx",
      "authorship_tag": "ABX9TyNWwuTeAeSEmopLDi/3fdAZ",
      "include_colab_link": true
    },
    "kernelspec": {
      "name": "python3",
      "display_name": "Python 3"
    }
  },
  "cells": [
    {
      "cell_type": "markdown",
      "metadata": {
        "id": "view-in-github",
        "colab_type": "text"
      },
      "source": [
        "<a href=\"https://colab.research.google.com/github/cagBRT/Machine-Learning/blob/master/HyperParameter_Tuning.ipynb\" target=\"_parent\"><img src=\"https://colab.research.google.com/assets/colab-badge.svg\" alt=\"Open In Colab\"/></a>"
      ]
    },
    {
      "cell_type": "code",
      "metadata": {
        "id": "oGp3l_9kdwbx",
        "colab_type": "code",
        "colab": {}
      },
      "source": [
        "#import data\n",
        "import pandas as pd\n",
        "\n",
        "bc_data = pd.read_csv('/content/drive/My Drive/data.csv')\n",
        "\n",
        "#view top 10 rows\n",
        "bc_data.head(10)\n"
      ],
      "execution_count": 0,
      "outputs": []
    },
    {
      "cell_type": "code",
      "metadata": {
        "id": "gHqPqXzNf3FA",
        "colab_type": "code",
        "colab": {}
      },
      "source": [
        "#convert diagnosis to 0= benign, 1= maglignant\n",
        "#bc_data.iloc[:,1]\n",
        "bc_data.diagnosis = pd.Categorical(bc_data.diagnosis)\n",
        "bc_data['code'] = bc_data.diagnosis.cat.codes\n",
        "bc_data.iloc[:,1]"
      ],
      "execution_count": 0,
      "outputs": []
    }
  ]
}