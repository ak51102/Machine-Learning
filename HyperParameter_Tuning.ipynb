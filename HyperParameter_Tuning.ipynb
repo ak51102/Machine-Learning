{
  "nbformat": 4,
  "nbformat_minor": 0,
  "metadata": {
    "colab": {
      "name": "HyperParameter Tuning.ipynb",
      "provenance": [],
      "private_outputs": true,
      "mount_file_id": "1LuvHfEnqdDu_2LKIuNUBSbOPm2T0djpx",
      "authorship_tag": "ABX9TyM6wq7L069VIYVACB6Pcsnm",
      "include_colab_link": true
    },
    "kernelspec": {
      "name": "python3",
      "display_name": "Python 3"
    },
    "accelerator": "GPU"
  },
  "cells": [
    {
      "cell_type": "markdown",
      "metadata": {
        "id": "view-in-github",
        "colab_type": "text"
      },
      "source": [
        "<a href=\"https://colab.research.google.com/github/cagBRT/Machine-Learning/blob/master/HyperParameter_Tuning.ipynb\" target=\"_parent\"><img src=\"https://colab.research.google.com/assets/colab-badge.svg\" alt=\"Open In Colab\"/></a>"
      ]
    },
    {
      "cell_type": "code",
      "metadata": {
        "id": "lhvk3-k9bfs5",
        "colab_type": "code",
        "colab": {}
      },
      "source": [
        "# Clone the entire repo.\n",
        "!git clone -l -s https://github.com/cagBRT/Machine-Learning.git cloned-repo\n",
        "%cd cloned-repo\n",
        "!ls"
      ],
      "execution_count": 0,
      "outputs": []
    },
    {
      "cell_type": "code",
      "metadata": {
        "id": "G3dKEmFUn5sV",
        "colab_type": "code",
        "colab": {}
      },
      "source": [
        "from __future__ import absolute_import, division, print_function, unicode_literals\n",
        "\n",
        "# Install TensorFlow\n",
        "try:\n",
        "  # %tensorflow_version only exists in Colab.\n",
        "  %tensorflow_version 2.x\n",
        "except Exception:\n",
        "  pass\n",
        "\n",
        "import tensorflow as tf\n",
        "import pathlib\n",
        "\n",
        "import matplotlib.pyplot as plt\n",
        "import pandas as pd\n",
        "import seaborn as sns\n",
        "\n",
        "\n",
        "from tensorflow import keras\n",
        "from tensorflow.keras import layers\n",
        "\n",
        "print(tf.__version__)"
      ],
      "execution_count": 0,
      "outputs": []
    },
    {
      "cell_type": "code",
      "metadata": {
        "id": "oGp3l_9kdwbx",
        "colab_type": "code",
        "colab": {}
      },
      "source": [
        "bc_data = pd.read_csv('breast_cancer_data.csv')\n",
        "#view top 10 rows\n",
        "bc_data.head(10)\n"
      ],
      "execution_count": 0,
      "outputs": []
    },
    {
      "cell_type": "code",
      "metadata": {
        "id": "o4-DBUeOgK3m",
        "colab_type": "code",
        "colab": {}
      },
      "source": [
        "bc_data.columns\n",
        "bc_data.drop(index=1,columns='Unnamed: 32')"
      ],
      "execution_count": 0,
      "outputs": []
    },
    {
      "cell_type": "code",
      "metadata": {
        "id": "gHqPqXzNf3FA",
        "colab_type": "code",
        "colab": {}
      },
      "source": [
        "#convert diagnosis to 0= benign, 1= maglignant\n",
        "#bc_data.iloc[:,1]\n",
        "def convert_diagnosis(x):\n",
        "  if(x=='M'):\n",
        "    return '1'\n",
        "  if(x=='B'):\n",
        "    return '0'\n",
        "\n",
        "bc_data['c_diagnosis'] = bc_data['diagnosis'].apply(convert_diagnosis)"
      ],
      "execution_count": 0,
      "outputs": []
    },
    {
      "cell_type": "code",
      "metadata": {
        "id": "BonKOpMIjEs4",
        "colab_type": "code",
        "colab": {}
      },
      "source": [
        "bc_data.columns"
      ],
      "execution_count": 0,
      "outputs": []
    },
    {
      "cell_type": "code",
      "metadata": {
        "id": "06cyJXvqepXH",
        "colab_type": "code",
        "colab": {}
      },
      "source": [
        "bc_data.pop('diagnosis')\n",
        "bc_data.pop('Unnamed: 32')\n",
        "bc_data.tail(20)"
      ],
      "execution_count": 0,
      "outputs": []
    },
    {
      "cell_type": "code",
      "metadata": {
        "id": "Batt9X1xmL4P",
        "colab_type": "code",
        "colab": {}
      },
      "source": [
        "#Split data into features and labels\n",
        "X = bc_data.drop(['c_diagnosis'],axis=1)\n",
        "y = bc_data['c_diagnosis']"
      ],
      "execution_count": 0,
      "outputs": []
    },
    {
      "cell_type": "code",
      "metadata": {
        "id": "DxbcELlumOC3",
        "colab_type": "code",
        "colab": {}
      },
      "source": [
        "#perform training and test split\n",
        "from sklearn.model_selection import train_test_split\n",
        "X_train, X_test, y_train, y_test = train_test_split(X, y, random_state=42)"
      ],
      "execution_count": 0,
      "outputs": []
    },
    {
      "cell_type": "code",
      "metadata": {
        "id": "sT7mTfFmmQDC",
        "colab_type": "code",
        "colab": {}
      },
      "source": [
        "train_stats = X_train.describe()\n",
        "#train_stats.pop(\"c_diagnosis\")\n",
        "train_stats = train_stats.transpose()\n",
        "train_stats"
      ],
      "execution_count": 0,
      "outputs": []
    },
    {
      "cell_type": "code",
      "metadata": {
        "id": "b31pGGLpm1OX",
        "colab_type": "code",
        "colab": {}
      },
      "source": [
        "test_stats = X_test.describe()\n",
        "test_stats = test_stats.transpose()\n",
        "test_stats"
      ],
      "execution_count": 0,
      "outputs": []
    },
    {
      "cell_type": "code",
      "metadata": {
        "id": "xrA_Ao0Fm9Mu",
        "colab_type": "code",
        "colab": {}
      },
      "source": [
        "def norm(x):\n",
        "  return (x - train_stats['mean']) / train_stats['std']\n",
        "normed_train_data = norm(X_train)\n",
        "normed_test_data = norm(X_test)\n",
        "print(\"done\")"
      ],
      "execution_count": 0,
      "outputs": []
    },
    {
      "cell_type": "code",
      "metadata": {
        "id": "XY6w3AmLkY88",
        "colab_type": "code",
        "colab": {}
      },
      "source": [
        "#Logistic regression\n",
        "from sklearn.linear_model import LogisticRegression\n",
        "\n",
        "clf = LogisticRegression().fit(X_train,y_train)\n",
        "y_pred = clf.predict(X_test)\n",
        "\n",
        "#Logistic Regression Classifier Confusion matrix\n",
        "from sklearn.metrics import confusion_matrix\n",
        "print('Confusion Matrix : \\n' + str(confusion_matrix(y_test,y_pred)))"
      ],
      "execution_count": 0,
      "outputs": []
    },
    {
      "cell_type": "code",
      "metadata": {
        "id": "01DDWRhAniPI",
        "colab_type": "code",
        "colab": {}
      },
      "source": [
        "inputs = len(X_train.keys())\n",
        "print(\"number of inputs to the model = \" + str(inputs))\n",
        "\n",
        "def build_model():\n",
        "  model = keras.Sequential([\n",
        "    layers.Dense(16, activation=tf.nn.relu,input_shape=([len(X_train.keys())]),),\n",
        "    layers.Dense(16, activation=tf.nn.relu),\n",
        "    layers.Dense(1)\n",
        "  ])\n",
        "\n",
        "  optimizer = tf.keras.optimizers.RMSprop(0.001)\n",
        "\n",
        "  model.compile(loss='mean_squared_error',\n",
        "                optimizer=optimizer,\n",
        "                metrics=['mean_absolute_error', 'mean_squared_error'])\n",
        "  return model\n",
        "  print(\"done\")"
      ],
      "execution_count": 0,
      "outputs": []
    },
    {
      "cell_type": "code",
      "metadata": {
        "id": "wuhFLVBtnxuI",
        "colab_type": "code",
        "colab": {}
      },
      "source": [
        "model = build_model()\n",
        "print(\"done\")"
      ],
      "execution_count": 0,
      "outputs": []
    },
    {
      "cell_type": "code",
      "metadata": {
        "id": "AxsXX3jsoOkB",
        "colab_type": "code",
        "colab": {}
      },
      "source": [
        "EPOCHS = 1\n",
        "\n",
        "history = model.fit(\n",
        "  normed_train_data, y_train,\n",
        "  epochs=EPOCHS, validation_split = 0.2, verbose=1\n",
        "  )"
      ],
      "execution_count": 0,
      "outputs": []
    },
    {
      "cell_type": "code",
      "metadata": {
        "id": "4w31MhwToYPu",
        "colab_type": "code",
        "colab": {}
      },
      "source": [
        "def plot_history(history):\n",
        "  hist = pd.DataFrame(history.history)\n",
        "  hist['epoch'] = history.epoch\n",
        "\n",
        "  plt.figure()\n",
        "  plt.xlabel('Epoch')\n",
        "  plt.ylabel('Mean Abs Error [MPG]')\n",
        "  plt.plot(hist['epoch'], hist['mean_absolute_error'],\n",
        "           label='Train Error')\n",
        "  plt.plot(hist['epoch'], hist['val_mean_absolute_error'],\n",
        "           label = 'Val Error')\n",
        "  plt.ylim([0,5])\n",
        "  plt.legend()\n",
        "\n",
        "  plt.figure()\n",
        "  plt.xlabel('Epoch')\n",
        "  plt.ylabel('Mean Square Error [$MPG^2$]')\n",
        "  plt.plot(hist['epoch'], hist['mean_squared_error'],\n",
        "           label='Train Error')\n",
        "  plt.plot(hist['epoch'], hist['val_mean_squared_error'],\n",
        "           label = 'Val Error')\n",
        "  plt.ylim([0,20])\n",
        "  plt.legend()\n",
        "  plt.show()\n",
        "\n",
        "\n",
        "plot_history(history)"
      ],
      "execution_count": 0,
      "outputs": []
    }
  ]
}