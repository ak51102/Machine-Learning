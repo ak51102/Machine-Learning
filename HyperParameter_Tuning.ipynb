{
  "nbformat": 4,
  "nbformat_minor": 0,
  "metadata": {
    "colab": {
      "name": "HyperParameter Tuning.ipynb",
      "provenance": [],
      "private_outputs": true,
      "mount_file_id": "1LuvHfEnqdDu_2LKIuNUBSbOPm2T0djpx",
      "authorship_tag": "ABX9TyPMHPjqujzkgMQW5zg8oLCu",
      "include_colab_link": true
    },
    "kernelspec": {
      "name": "python3",
      "display_name": "Python 3"
    },
    "accelerator": "GPU"
  },
  "cells": [
    {
      "cell_type": "markdown",
      "metadata": {
        "id": "view-in-github",
        "colab_type": "text"
      },
      "source": [
        "<a href=\"https://colab.research.google.com/github/cagBRT/Machine-Learning/blob/master/HyperParameter_Tuning.ipynb\" target=\"_parent\"><img src=\"https://colab.research.google.com/assets/colab-badge.svg\" alt=\"Open In Colab\"/></a>"
      ]
    },
    {
      "cell_type": "code",
      "metadata": {
        "id": "lhvk3-k9bfs5",
        "colab_type": "code",
        "colab": {}
      },
      "source": [
        "# Clone the entire repo.\n",
        "!git clone -l -s https://github.com/cagBRT/Machine-Learning.git cloned-repo\n",
        "%cd cloned-repo\n",
        "!ls"
      ],
      "execution_count": 0,
      "outputs": []
    },
    {
      "cell_type": "code",
      "metadata": {
        "id": "oGp3l_9kdwbx",
        "colab_type": "code",
        "colab": {}
      },
      "source": [
        "#import data\n",
        "import pandas as pd\n",
        "\n",
        "bc_data = pd.read_csv('breast_cancer_data.csv')\n",
        "#view top 10 rows\n",
        "bc_data.head(10)\n"
      ],
      "execution_count": 0,
      "outputs": []
    },
    {
      "cell_type": "code",
      "metadata": {
        "id": "o4-DBUeOgK3m",
        "colab_type": "code",
        "colab": {}
      },
      "source": [
        "bc_data.columns\n",
        "bc_data.drop(index=1,columns='Unnamed: 32')"
      ],
      "execution_count": 0,
      "outputs": []
    },
    {
      "cell_type": "code",
      "metadata": {
        "id": "gHqPqXzNf3FA",
        "colab_type": "code",
        "colab": {}
      },
      "source": [
        "#convert diagnosis to 0= benign, 1= maglignant\n",
        "#bc_data.iloc[:,1]\n",
        "def convert_diagnosis(x):\n",
        "  if(x=='M'):\n",
        "    return '1'\n",
        "  if(x=='B'):\n",
        "    return '0'\n",
        "\n",
        "bc_data['c_diagnosis'] = bc_data['diagnosis'].apply(convert_diagnosis)"
      ],
      "execution_count": 0,
      "outputs": []
    },
    {
      "cell_type": "code",
      "metadata": {
        "id": "BonKOpMIjEs4",
        "colab_type": "code",
        "colab": {}
      },
      "source": [
        "bc_data.columns"
      ],
      "execution_count": 0,
      "outputs": []
    },
    {
      "cell_type": "code",
      "metadata": {
        "id": "06cyJXvqepXH",
        "colab_type": "code",
        "colab": {}
      },
      "source": [
        "bc_data.pop('diagnosis')\n",
        "bc_data.pop('Unnamed: 32')\n",
        "bc_data.tail(20)"
      ],
      "execution_count": 0,
      "outputs": []
    },
    {
      "cell_type": "code",
      "metadata": {
        "id": "DD0oneJKiKHL",
        "colab_type": "code",
        "colab": {}
      },
      "source": [
        "#Split data into attributes and class\n",
        "X = bc_data.drop(['c_diagnosis'],axis=1)\n",
        "y = bc_data['c_diagnosis']\n",
        "\n",
        "#perform training and test split\n",
        "from sklearn.model_selection import train_test_split\n",
        "X_train, X_test, y_train, y_test = train_test_split(X, y, random_state=42)\n",
        "\n",
        "#Dummy Classifier\n",
        "from sklearn.dummy import DummyClassifier\n",
        "clf = DummyClassifier(strategy= 'most_frequent').fit(X_train,y_train)\n",
        "y_pred = clf.predict(X_test)\n",
        "\n",
        "#Distribution of y test\n",
        "print('y actual : \\n' +  str(y_test.value_counts()))\n",
        "\n",
        "#Distribution of y predicted\n",
        "print('y predicted : \\n' + str(pd.Series(y_pred).value_counts()))"
      ],
      "execution_count": 0,
      "outputs": []
    },
    {
      "cell_type": "code",
      "metadata": {
        "id": "-pYM1BFsjfZI",
        "colab_type": "code",
        "colab": {}
      },
      "source": [
        "# Model Evaluation metrics \n",
        "from sklearn.metrics import accuracy_score,recall_score,precision_score,f1_score\n",
        "print('Accuracy Score : ' + str(accuracy_score(y_test,y_pred)))\n",
        "print('Precision Score : ' + str(precision_score(y_test,y_pred)))\n",
        "#print('Recall Score : ' + str(recall_score(y_test,y_pred)))\n",
        "#print('F1 Score : ' + str(f1_score(y_test,y_pred)))\n",
        "\n",
        "#Dummy Classifier Confusion matrix\n",
        "from sklearn.metrics import confusion_matrix\n",
        "print('Confusion Matrix : \\n' + str(confusion_matrix(y_test,y_pred)))"
      ],
      "execution_count": 0,
      "outputs": []
    },
    {
      "cell_type": "code",
      "metadata": {
        "id": "XY6w3AmLkY88",
        "colab_type": "code",
        "colab": {}
      },
      "source": [
        "#Logistic regression\n",
        "from sklearn.linear_model import LogisticRegression\n",
        "\n",
        "clf = LogisticRegression().fit(X_train,y_train)\n",
        "y_pred = clf.predict(X_test)\n",
        "\n",
        "# Model Evaluation metrics \n",
        "from sklearn.metrics import accuracy_score,recall_score,precision_score,f1_score\n",
        "print('Accuracy Score : ' + str(accuracy_score(y_test,y_pred)))\n",
        "print('Precision Score : ' + str(precision_score(y_test,y_pred)))\n",
        "print('Recall Score : ' + str(recall_score(y_test,y_pred)))\n",
        "print('F1 Score : ' + str(f1_score(y_test,y_pred)))\n",
        "\n",
        "#Logistic Regression Classifier Confusion matrix\n",
        "from sklearn.metrics import confusion_matrix\n",
        "print('Confusion Matrix : \\n' + str(confusion_matrix(y_test,y_pred)))\n"
      ],
      "execution_count": 0,
      "outputs": []
    }
  ]
}