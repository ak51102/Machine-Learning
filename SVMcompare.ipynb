{
  "nbformat": 4,
  "nbformat_minor": 0,
  "metadata": {
    "colab": {
      "name": "SVMcompare.ipynb",
      "provenance": [],
      "include_colab_link": true
    },
    "kernelspec": {
      "name": "python3",
      "display_name": "Python 3"
    }
  },
  "cells": [
    {
      "cell_type": "markdown",
      "metadata": {
        "id": "view-in-github",
        "colab_type": "text"
      },
      "source": [
        "<a href=\"https://colab.research.google.com/github/cagBRT/Machine-Learning/blob/master/SVMcompare.ipynb\" target=\"_parent\"><img src=\"https://colab.research.google.com/assets/colab-badge.svg\" alt=\"Open In Colab\"/></a>"
      ]
    },
    {
      "cell_type": "code",
      "metadata": {
        "id": "46yRPCbetYBl",
        "colab_type": "code",
        "colab": {}
      },
      "source": [
        "import numpy as np\n",
        "import pylab as pl\n",
        "import pandas as pd\n",
        "\n",
        "from sklearn import svm\n",
        "from sklearn import linear_model\n",
        "from sklearn import tree\n",
        "\n",
        "from sklearn.metrics import confusion_matrix"
      ],
      "execution_count": null,
      "outputs": []
    },
    {
      "cell_type": "markdown",
      "metadata": {
        "id": "XOrtchjp3mYv",
        "colab_type": "text"
      },
      "source": [
        "Create the data"
      ]
    },
    {
      "cell_type": "code",
      "metadata": {
        "id": "lqgSaKVW3ou6",
        "colab_type": "code",
        "colab": {}
      },
      "source": [
        "x_min, x_max = 0, 15\n",
        "y_min, y_max = 0, 10\n",
        "step = .1\n",
        "\n",
        "# to plot the boundary, we're going to create a matrix of every possible point\n",
        "# then label each point as a wolf or cow using our classifier\n",
        "xx, yy = np.meshgrid(np.arange(x_min, x_max, step), np.arange(y_min, y_max, step))\n",
        "\n",
        "df = pd.DataFrame(data={'x': xx.ravel(), 'y': yy.ravel()})\n",
        "\n",
        "df['color_gauge'] = (df.x-7.5)**2 + (df.y-5)**2\n",
        "df['color'] = df.color_gauge.apply(lambda x: \"red\" if x <= 15 else \"green\")\n",
        "df['color_as_int'] = df.color.apply(lambda x: 0 if x==\"red\" else 1)\n",
        "\n",
        "print (\"Points on flag:\")\n",
        "print (df.groupby('color').size())\n",
        "print ()"
      ],
      "execution_count": null,
      "outputs": []
    },
    {
      "cell_type": "code",
      "metadata": {
        "id": "qN-3BhQj3ygO",
        "colab_type": "code",
        "colab": {}
      },
      "source": [
        "figure = 1\n",
        "\n",
        "# plot a figure for the entire dataset\n",
        "for color in df.color.unique():\n",
        "    idx = df.color==color\n",
        "    pl.scatter(df[idx].x, df[idx].y, color=color)\n",
        "    pl.title('Actual')"
      ],
      "execution_count": null,
      "outputs": []
    },
    {
      "cell_type": "markdown",
      "metadata": {
        "id": "hLecVDLg66Dk",
        "colab_type": "text"
      },
      "source": [
        "Split in test and training sets"
      ]
    },
    {
      "cell_type": "code",
      "metadata": {
        "id": "BIxHeqCg36oR",
        "colab_type": "code",
        "colab": {}
      },
      "source": [
        "train_idx = df.x < 10\n",
        "\n",
        "train = df[train_idx]\n",
        "test = df[-train_idx]\n",
        "\n",
        "print (\"Training Set Size: %d\" % len(train))\n",
        "print (\"Test Set Size: %d\" % len(test))\n",
        "\n",
        "# train using the x and y position coordiantes\n",
        "cols = [\"x\", \"y\"]"
      ],
      "execution_count": null,
      "outputs": []
    },
    {
      "cell_type": "markdown",
      "metadata": {
        "id": "ID6RoL0E68eO",
        "colab_type": "text"
      },
      "source": [
        "Train the Logicistic Regression Model"
      ]
    },
    {
      "cell_type": "code",
      "metadata": {
        "id": "1lgYRanl4Bae",
        "colab_type": "code",
        "colab": {}
      },
      "source": [
        "clf = linear_model.LogisticRegression()\n",
        "clf_name = \"Logistic Regression\"\n",
        "\n",
        "# train the classifier\n",
        "clf.fit(train[cols], train.color_as_int)\n",
        "\n",
        "# get the predicted values from the test set\n",
        "test['predicted_color_as_int'] = clf.predict(test[cols])\n",
        "test['pred_color'] = test.predicted_color_as_int.apply(lambda x: \"red\" if x==0 else \"green\")"
      ],
      "execution_count": null,
      "outputs": []
    },
    {
      "cell_type": "code",
      "metadata": {
        "id": "RGEHZfsn6Vco",
        "colab_type": "code",
        "colab": {}
      },
      "source": [
        "# plot each predicted color\n",
        "for color in test.pred_color.unique():\n",
        "  # plot only rows where pred_color is equal to color\n",
        "  idx = test.pred_color==color\n",
        "  pl.scatter(test[idx].x, test[idx].y, color=color)\n",
        "\n",
        "# plot the training set as well\n",
        "for color in train.color.unique():\n",
        "  idx = train.color==color\n",
        "  pl.scatter(train[idx].x, train[idx].y, color=color)\n",
        "\n",
        "# add a dotted line to show the boundary between the training and test set\n",
        "# (everything to the right of the line is in the test set)\n",
        "#this plots a vertical line\n",
        "train_line_y = np.linspace(y_min, y_max) #evenly spaced array from 0 to 10\n",
        "train_line_x = np.repeat(10, len(train_line_y)) #repeat 10 (threshold for traininset) n times\n",
        "# add a black, dotted line to the subplot\n",
        "pl.plot(train_line_x, train_line_y, 'k--', color=\"black\")\n",
        "\n",
        "pl.title(clf_name)\n",
        "print(\"\\n\")\n",
        "print (\"Confusion Matrix for %s:\" % clf_name)\n",
        "print (confusion_matrix(test.color, test.pred_color))\n",
        "pl.show()"
      ],
      "execution_count": null,
      "outputs": []
    },
    {
      "cell_type": "markdown",
      "metadata": {
        "id": "7JXTMo6N7CE7",
        "colab_type": "text"
      },
      "source": [
        "Train the Decision Tree Classifier"
      ]
    },
    {
      "cell_type": "code",
      "metadata": {
        "id": "RiqOovNz5cea",
        "colab_type": "code",
        "colab": {}
      },
      "source": [
        "clf = tree.DecisionTreeClassifier()\n",
        "clf_name = \"Decision Tree\"\n",
        "\n",
        "\n",
        "# train the classifier\n",
        "clf.fit(train[cols], train.color_as_int)\n",
        "\n",
        "# get the predicted values from the test set\n",
        "test['predicted_color_as_int'] = clf.predict(test[cols])\n",
        "test['pred_color'] = test.predicted_color_as_int.apply(lambda x: \"red\" if x==0 else \"green\")\n",
        "\n"
      ],
      "execution_count": null,
      "outputs": []
    },
    {
      "cell_type": "code",
      "metadata": {
        "id": "FjLgdaNu6huS",
        "colab_type": "code",
        "colab": {}
      },
      "source": [
        "# plot each predicted color\n",
        "for color in test.pred_color.unique():\n",
        "  # plot only rows where pred_color is equal to color\n",
        "  idx = test.pred_color==color\n",
        "  pl.scatter(test[idx].x, test[idx].y, color=color)\n",
        "\n",
        "# plot the training set as well\n",
        "for color in train.color.unique():\n",
        "  idx = train.color==color\n",
        "  pl.scatter(train[idx].x, train[idx].y, color=color)\n",
        "\n",
        "# add a dotted line to show the boundary between the training and test set\n",
        "# (everything to the right of the line is in the test set)\n",
        "#this plots a vertical line\n",
        "train_line_y = np.linspace(y_min, y_max) #evenly spaced array from 0 to 10\n",
        "train_line_x = np.repeat(10, len(train_line_y)) #repeat 10 (threshold for traininset) n times\n",
        "# add a black, dotted line to the subplot\n",
        "pl.plot(train_line_x, train_line_y, 'k--', color=\"black\")\n",
        "\n",
        "pl.title(clf_name)\n",
        "print(\"\\n\")\n",
        "print (\"Confusion Matrix for %s:\" % clf_name)\n",
        "print (confusion_matrix(test.color, test.pred_color))\n",
        "pl.show()"
      ],
      "execution_count": null,
      "outputs": []
    },
    {
      "cell_type": "markdown",
      "metadata": {
        "id": "Fc0rr3Aa7GdG",
        "colab_type": "text"
      },
      "source": [
        "Train the SVM Model"
      ]
    },
    {
      "cell_type": "code",
      "metadata": {
        "id": "USJJECFn5vMq",
        "colab_type": "code",
        "colab": {}
      },
      "source": [
        "clf = svm.SVC(degree=0.5)\n",
        "clf_name = \"SVM\"\n",
        "\n",
        "\n",
        "# train the classifier\n",
        "clf.fit(train[cols], train.color_as_int)\n",
        "\n",
        "# get the predicted values from the test set\n",
        "test['predicted_color_as_int'] = clf.predict(test[cols])\n",
        "test['pred_color'] = test.predicted_color_as_int.apply(lambda x: \"red\" if x==0 else \"green\")"
      ],
      "execution_count": null,
      "outputs": []
    },
    {
      "cell_type": "code",
      "metadata": {
        "id": "rv9WwhAE6pqY",
        "colab_type": "code",
        "colab": {}
      },
      "source": [
        "# plot each predicted color\n",
        "for color in test.pred_color.unique():\n",
        "  # plot only rows where pred_color is equal to color\n",
        "  idx = test.pred_color==color\n",
        "  pl.scatter(test[idx].x, test[idx].y, color=color)\n",
        "\n",
        "# plot the training set as well\n",
        "for color in train.color.unique():\n",
        "  idx = train.color==color\n",
        "  pl.scatter(train[idx].x, train[idx].y, color=color)\n",
        "\n",
        "# add a dotted line to show the boundary between the training and test set\n",
        "# (everything to the right of the line is in the test set)\n",
        "#this plots a vertical line\n",
        "train_line_y = np.linspace(y_min, y_max) #evenly spaced array from 0 to 10\n",
        "train_line_x = np.repeat(10, len(train_line_y)) #repeat 10 (threshold for traininset) n times\n",
        "# add a black, dotted line to the subplot\n",
        "pl.plot(train_line_x, train_line_y, 'k--', color=\"black\")\n",
        "\n",
        "pl.title(clf_name)\n",
        "print(\"\\n\")\n",
        "print (\"Confusion Matrix for %s:\" % clf_name)\n",
        "print (confusion_matrix(test.color, test.pred_color))\n",
        "pl.show()"
      ],
      "execution_count": null,
      "outputs": []
    }
  ]
}