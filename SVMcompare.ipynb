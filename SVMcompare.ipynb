{
  "nbformat": 4,
  "nbformat_minor": 0,
  "metadata": {
    "colab": {
      "name": "SVMcompare.ipynb",
      "provenance": [],
      "include_colab_link": true
    },
    "kernelspec": {
      "name": "python3",
      "display_name": "Python 3"
    }
  },
  "cells": [
    {
      "cell_type": "markdown",
      "metadata": {
        "id": "view-in-github",
        "colab_type": "text"
      },
      "source": [
        "<a href=\"https://colab.research.google.com/github/cagBRT/Machine-Learning/blob/master/SVMcompare.ipynb\" target=\"_parent\"><img src=\"https://colab.research.google.com/assets/colab-badge.svg\" alt=\"Open In Colab\"/></a>"
      ]
    },
    {
      "cell_type": "code",
      "metadata": {
        "id": "46yRPCbetYBl",
        "colab_type": "code",
        "colab": {}
      },
      "source": [
        "import numpy as np\n",
        "import pylab as pl\n",
        "import pandas as pd\n",
        "\n",
        "from sklearn import svm\n",
        "from sklearn import linear_model\n",
        "from sklearn import tree\n",
        "\n",
        "from sklearn.metrics import confusion_matrix"
      ],
      "execution_count": 219,
      "outputs": []
    },
    {
      "cell_type": "markdown",
      "metadata": {
        "id": "XOrtchjp3mYv",
        "colab_type": "text"
      },
      "source": [
        "Create the data"
      ]
    },
    {
      "cell_type": "code",
      "metadata": {
        "id": "lqgSaKVW3ou6",
        "colab_type": "code",
        "colab": {
          "base_uri": "https://localhost:8080/",
          "height": 121
        },
        "outputId": "9ad0fcd4-bfde-4f3d-a77b-97d16b096adf"
      },
      "source": [
        "x_min, x_max = 0, 15\n",
        "y_min, y_max = 0, 10\n",
        "step = .1\n",
        "\n",
        "# to plot the boundary, we're going to create a matrix of every possible point\n",
        "# then label each point as a wolf or cow using our classifier\n",
        "xx, yy = np.meshgrid(np.arange(x_min, x_max, step), np.arange(y_min, y_max, step))\n",
        "\n",
        "df = pd.DataFrame(data={'x': xx.ravel(), 'y': yy.ravel()})\n",
        "\n",
        "df['color_gauge'] = (df.x-7.5)**2 + (df.y-5)**2\n",
        "df['color'] = df.color_gauge.apply(lambda x: \"red\" if x <= 15 else \"green\")\n",
        "df['color_as_int'] = df.color.apply(lambda x: 0 if x==\"red\" else 1)\n",
        "\n",
        "print (\"Points on flag:\")\n",
        "print (df.groupby('color').size())\n",
        "print ()"
      ],
      "execution_count": 220,
      "outputs": [
        {
          "output_type": "stream",
          "text": [
            "Points on flag:\n",
            "color\n",
            "green    10291\n",
            "red       4709\n",
            "dtype: int64\n",
            "\n"
          ],
          "name": "stdout"
        }
      ]
    },
    {
      "cell_type": "code",
      "metadata": {
        "id": "qN-3BhQj3ygO",
        "colab_type": "code",
        "colab": {
          "base_uri": "https://localhost:8080/",
          "height": 281
        },
        "outputId": "2febd57e-ca09-4530-aec1-7b86f73d7e08"
      },
      "source": [
        "figure = 1\n",
        "\n",
        "# plot a figure for the entire dataset\n",
        "for color in df.color.unique():\n",
        "    idx = df.color==color\n",
        "    pl.scatter(df[idx].x, df[idx].y, color=color)\n",
        "    pl.title('Actual')"
      ],
      "execution_count": 221,
      "outputs": [
        {
          "output_type": "display_data",
          "data": {
            "image/png": "[encoded data removed]",
            "text/plain": [
              "<Figure size 432x288 with 1 Axes>"
            ]
          },
          "metadata": {
            "tags": [],
            "needs_background": "light"
          }
        }
      ]
    },
    {
      "cell_type": "markdown",
      "metadata": {
        "id": "hLecVDLg66Dk",
        "colab_type": "text"
      },
      "source": [
        "Split in test and training sets"
      ]
    },
    {
      "cell_type": "code",
      "metadata": {
        "id": "BIxHeqCg36oR",
        "colab_type": "code",
        "colab": {
          "base_uri": "https://localhost:8080/",
          "height": 52
        },
        "outputId": "55129aad-5784-4da7-c3dc-7fe7db750e87"
      },
      "source": [
        "train_idx = df.x < 10\n",
        "\n",
        "train = df[train_idx]\n",
        "test = df[-train_idx]\n",
        "\n",
        "print (\"Training Set Size: %d\" % len(train))\n",
        "print (\"Test Set Size: %d\" % len(test))\n",
        "\n",
        "# train using the x and y position coordiantes\n",
        "cols = [\"x\", \"y\"]"
      ],
      "execution_count": 222,
      "outputs": [
        {
          "output_type": "stream",
          "text": [
            "Training Set Size: 10000\n",
            "Test Set Size: 5000\n"
          ],
          "name": "stdout"
        }
      ]
    },
    {
      "cell_type": "code",
      "metadata": {
        "id": "xNAC0OJOTDiC",
        "colab_type": "code",
        "colab": {
          "base_uri": "https://localhost:8080/",
          "height": 335
        },
        "outputId": "04c92cf9-b01a-4e2c-dd96-bbaa25326226"
      },
      "source": [
        "# plot a figure for the training dataset\n",
        "for color in df.color.unique():\n",
        "    idx = df.color==color\n",
        "    pl.scatter(train[idx].x, train[idx].y, color=color)\n",
        "    pl.title('Training Set')"
      ],
      "execution_count": 231,
      "outputs": [
        {
          "output_type": "stream",
          "text": [
            "/usr/local/lib/python3.6/dist-packages/ipykernel_launcher.py:4: UserWarning: Boolean Series key will be reindexed to match DataFrame index.\n",
            "  after removing the cwd from sys.path.\n"
          ],
          "name": "stderr"
        },
        {
          "output_type": "display_data",
          "data": {
            "image/png": "[encoded data removed]",
            "text/plain": [
              "<Figure size 432x288 with 1 Axes>"
            ]
          },
          "metadata": {
            "tags": [],
            "needs_background": "light"
          }
        }
      ]
    },
    {
      "cell_type": "code",
      "metadata": {
        "id": "hZx43W63TS13",
        "colab_type": "code",
        "colab": {
          "base_uri": "https://localhost:8080/",
          "height": 335
        },
        "outputId": "e736e2e4-2c07-4b4e-9f42-c3204506973a"
      },
      "source": [
        "for color in df.color.unique():\n",
        "    idx = df.color==color\n",
        "    pl.scatter(test[idx].x, test[idx].y, color=color)\n",
        "    pl.title('Test Set')"
      ],
      "execution_count": 232,
      "outputs": [
        {
          "output_type": "stream",
          "text": [
            "/usr/local/lib/python3.6/dist-packages/ipykernel_launcher.py:3: UserWarning: Boolean Series key will be reindexed to match DataFrame index.\n",
            "  This is separate from the ipykernel package so we can avoid doing imports until\n"
          ],
          "name": "stderr"
        },
        {
          "output_type": "display_data",
          "data": {
            "image/png": "[encoded data removed]",
            "text/plain": [
              "<Figure size 432x288 with 1 Axes>"
            ]
          },
          "metadata": {
            "tags": [],
            "needs_background": "light"
          }
        }
      ]
    },
    {
      "cell_type": "markdown",
      "metadata": {
        "id": "ID6RoL0E68eO",
        "colab_type": "text"
      },
      "source": [
        "Train the Logicistic Regression Model"
      ]
    },
    {
      "cell_type": "code",
      "metadata": {
        "id": "1lgYRanl4Bae",
        "colab_type": "code",
        "colab": {
          "base_uri": "https://localhost:8080/",
          "height": 245
        },
        "outputId": "837fa2c0-5e2d-4980-ef4d-972c7ad2d2c8"
      },
      "source": [
        "clf = linear_model.LogisticRegression()\n",
        "clf_name = \"Logistic Regression\"\n",
        "\n",
        "# train the classifier\n",
        "clf.fit(train[cols], train.color_as_int)\n",
        "\n",
        "# get the predicted values from the test set\n",
        "test['predicted_color_as_int'] = clf.predict(test[cols])\n",
        "test['pred_color'] = test.predicted_color_as_int.apply(lambda x: \"red\" if x==0 else \"green\")"
      ],
      "execution_count": 233,
      "outputs": [
        {
          "output_type": "stream",
          "text": [
            "/usr/local/lib/python3.6/dist-packages/ipykernel_launcher.py:8: SettingWithCopyWarning: \n",
            "A value is trying to be set on a copy of a slice from a DataFrame.\n",
            "Try using .loc[row_indexer,col_indexer] = value instead\n",
            "\n",
            "See the caveats in the documentation: https://pandas.pydata.org/pandas-docs/stable/user_guide/indexing.html#returning-a-view-versus-a-copy\n",
            "  \n",
            "/usr/local/lib/python3.6/dist-packages/ipykernel_launcher.py:9: SettingWithCopyWarning: \n",
            "A value is trying to be set on a copy of a slice from a DataFrame.\n",
            "Try using .loc[row_indexer,col_indexer] = value instead\n",
            "\n",
            "See the caveats in the documentation: https://pandas.pydata.org/pandas-docs/stable/user_guide/indexing.html#returning-a-view-versus-a-copy\n",
            "  if __name__ == '__main__':\n"
          ],
          "name": "stderr"
        }
      ]
    },
    {
      "cell_type": "code",
      "metadata": {
        "id": "RGEHZfsn6Vco",
        "colab_type": "code",
        "colab": {
          "base_uri": "https://localhost:8080/",
          "height": 367
        },
        "outputId": "82e945c2-a5b5-4f14-d7b7-8bc367a77790"
      },
      "source": [
        "# plot each predicted color\n",
        "for color in test.pred_color.unique():\n",
        "  # plot only rows where pred_color is equal to color\n",
        "  idx = test.pred_color==color\n",
        "  pl.scatter(test[idx].x, test[idx].y, color=color)\n",
        "\n",
        "# plot the training set as well\n",
        "for color in train.color.unique():\n",
        "  idx = train.color==color\n",
        "  pl.scatter(train[idx].x, train[idx].y, color=color)\n",
        "\n",
        "# add a dotted line to show the boundary between the training and test set\n",
        "# (everything to the right of the line is in the test set)\n",
        "#this plots a vertical line\n",
        "train_line_y = np.linspace(y_min, y_max) #evenly spaced array from 0 to 10\n",
        "train_line_x = np.repeat(10, len(train_line_y)) #repeat 10 (threshold for traininset) n times\n",
        "# add a black, dotted line to the subplot\n",
        "pl.plot(train_line_x, train_line_y, 'k--', color=\"black\")\n",
        "\n",
        "pl.title(clf_name)\n",
        "print(\"\\n\")\n",
        "print (\"Confusion Matrix for %s:\" % clf_name)\n",
        "print (confusion_matrix(test.color, test.pred_color))\n",
        "pl.show()"
      ],
      "execution_count": 234,
      "outputs": [
        {
          "output_type": "stream",
          "text": [
            "\n",
            "\n",
            "Confusion Matrix for Logistic Regression:\n",
            "[[   0 4408]\n",
            " [   0  592]]\n"
          ],
          "name": "stdout"
        },
        {
          "output_type": "display_data",
          "data": {
            "image/png": "[encoded data removed]",
            "text/plain": [
              "<Figure size 432x288 with 1 Axes>"
            ]
          },
          "metadata": {
            "tags": [],
            "needs_background": "light"
          }
        }
      ]
    },
    {
      "cell_type": "markdown",
      "metadata": {
        "id": "7JXTMo6N7CE7",
        "colab_type": "text"
      },
      "source": [
        "Train the Decision Tree Classifier"
      ]
    },
    {
      "cell_type": "code",
      "metadata": {
        "id": "RiqOovNz5cea",
        "colab_type": "code",
        "colab": {
          "base_uri": "https://localhost:8080/",
          "height": 245
        },
        "outputId": "a4775317-63d7-44e3-cc7b-3a9201e4bcf8"
      },
      "source": [
        "clf = tree.DecisionTreeClassifier()\n",
        "clf_name = \"Decision Tree\"\n",
        "\n",
        "\n",
        "# train the classifier\n",
        "clf.fit(train[cols], train.color_as_int)\n",
        "\n",
        "# get the predicted values from the test set\n",
        "test['predicted_color_as_int'] = clf.predict(test[cols])\n",
        "test['pred_color'] = test.predicted_color_as_int.apply(lambda x: \"red\" if x==0 else \"green\")\n",
        "\n"
      ],
      "execution_count": 235,
      "outputs": [
        {
          "output_type": "stream",
          "text": [
            "/usr/local/lib/python3.6/dist-packages/ipykernel_launcher.py:9: SettingWithCopyWarning: \n",
            "A value is trying to be set on a copy of a slice from a DataFrame.\n",
            "Try using .loc[row_indexer,col_indexer] = value instead\n",
            "\n",
            "See the caveats in the documentation: https://pandas.pydata.org/pandas-docs/stable/user_guide/indexing.html#returning-a-view-versus-a-copy\n",
            "  if __name__ == '__main__':\n",
            "/usr/local/lib/python3.6/dist-packages/ipykernel_launcher.py:10: SettingWithCopyWarning: \n",
            "A value is trying to be set on a copy of a slice from a DataFrame.\n",
            "Try using .loc[row_indexer,col_indexer] = value instead\n",
            "\n",
            "See the caveats in the documentation: https://pandas.pydata.org/pandas-docs/stable/user_guide/indexing.html#returning-a-view-versus-a-copy\n",
            "  # Remove the CWD from sys.path while we load stuff.\n"
          ],
          "name": "stderr"
        }
      ]
    },
    {
      "cell_type": "code",
      "metadata": {
        "id": "FjLgdaNu6huS",
        "colab_type": "code",
        "colab": {
          "base_uri": "https://localhost:8080/",
          "height": 367
        },
        "outputId": "fd47b5c2-4c53-44da-fb9a-4c9621a6d152"
      },
      "source": [
        "# plot each predicted color\n",
        "for color in test.pred_color.unique():\n",
        "  # plot only rows where pred_color is equal to color\n",
        "  idx = test.pred_color==color\n",
        "  pl.scatter(test[idx].x, test[idx].y, color=color)\n",
        "\n",
        "# plot the training set as well\n",
        "for color in train.color.unique():\n",
        "  idx = train.color==color\n",
        "  pl.scatter(train[idx].x, train[idx].y, color=color)\n",
        "\n",
        "# add a dotted line to show the boundary between the training and test set\n",
        "# (everything to the right of the line is in the test set)\n",
        "#this plots a vertical line\n",
        "train_line_y = np.linspace(y_min, y_max) #evenly spaced array from 0 to 10\n",
        "train_line_x = np.repeat(10, len(train_line_y)) #repeat 10 (threshold for traininset) n times\n",
        "# add a black, dotted line to the subplot\n",
        "pl.plot(train_line_x, train_line_y, 'k--', color=\"black\")\n",
        "\n",
        "pl.title(clf_name)\n",
        "print(\"\\n\")\n",
        "print (\"Confusion Matrix for %s:\" % clf_name)\n",
        "print (confusion_matrix(test.color, test.pred_color))\n",
        "pl.show()"
      ],
      "execution_count": 236,
      "outputs": [
        {
          "output_type": "stream",
          "text": [
            "\n",
            "\n",
            "Confusion Matrix for Decision Tree:\n",
            "[[1950 2458]\n",
            " [   0  592]]\n"
          ],
          "name": "stdout"
        },
        {
          "output_type": "display_data",
          "data": {
            "image/png": "[encoded data removed]",
            "text/plain": [
              "<Figure size 432x288 with 1 Axes>"
            ]
          },
          "metadata": {
            "tags": [],
            "needs_background": "light"
          }
        }
      ]
    },
    {
      "cell_type": "markdown",
      "metadata": {
        "id": "Fc0rr3Aa7GdG",
        "colab_type": "text"
      },
      "source": [
        "Train the SVM Model"
      ]
    },
    {
      "cell_type": "code",
      "metadata": {
        "id": "USJJECFn5vMq",
        "colab_type": "code",
        "colab": {
          "base_uri": "https://localhost:8080/",
          "height": 245
        },
        "outputId": "9609f4d9-471e-4fc9-821a-660ce729ffa9"
      },
      "source": [
        "clf = svm.SVC(degree=0.5)\n",
        "clf_name = \"SVM\"\n",
        "\n",
        "\n",
        "# train the classifier\n",
        "clf.fit(train[cols], train.color_as_int)\n",
        "\n",
        "# get the predicted values from the test set\n",
        "test['predicted_color_as_int'] = clf.predict(test[cols])\n",
        "test['pred_color'] = test.predicted_color_as_int.apply(lambda x: \"red\" if x==0 else \"green\")"
      ],
      "execution_count": 237,
      "outputs": [
        {
          "output_type": "stream",
          "text": [
            "/usr/local/lib/python3.6/dist-packages/ipykernel_launcher.py:9: SettingWithCopyWarning: \n",
            "A value is trying to be set on a copy of a slice from a DataFrame.\n",
            "Try using .loc[row_indexer,col_indexer] = value instead\n",
            "\n",
            "See the caveats in the documentation: https://pandas.pydata.org/pandas-docs/stable/user_guide/indexing.html#returning-a-view-versus-a-copy\n",
            "  if __name__ == '__main__':\n",
            "/usr/local/lib/python3.6/dist-packages/ipykernel_launcher.py:10: SettingWithCopyWarning: \n",
            "A value is trying to be set on a copy of a slice from a DataFrame.\n",
            "Try using .loc[row_indexer,col_indexer] = value instead\n",
            "\n",
            "See the caveats in the documentation: https://pandas.pydata.org/pandas-docs/stable/user_guide/indexing.html#returning-a-view-versus-a-copy\n",
            "  # Remove the CWD from sys.path while we load stuff.\n"
          ],
          "name": "stderr"
        }
      ]
    },
    {
      "cell_type": "code",
      "metadata": {
        "id": "rv9WwhAE6pqY",
        "colab_type": "code",
        "colab": {
          "base_uri": "https://localhost:8080/",
          "height": 367
        },
        "outputId": "87591919-9b4c-429e-c5cf-b9a9e908e4dc"
      },
      "source": [
        "# plot each predicted color\n",
        "for color in test.pred_color.unique():\n",
        "  # plot only rows where pred_color is equal to color\n",
        "  idx = test.pred_color==color\n",
        "  pl.scatter(test[idx].x, test[idx].y, color=color)\n",
        "\n",
        "# plot the training set as well\n",
        "for color in train.color.unique():\n",
        "  idx = train.color==color\n",
        "  pl.scatter(train[idx].x, train[idx].y, color=color)\n",
        "\n",
        "# add a dotted line to show the boundary between the training and test set\n",
        "# (everything to the right of the line is in the test set)\n",
        "#this plots a vertical line\n",
        "train_line_y = np.linspace(y_min, y_max) #evenly spaced array from 0 to 10\n",
        "train_line_x = np.repeat(10, len(train_line_y)) #repeat 10 (threshold for traininset) n times\n",
        "# add a black, dotted line to the subplot\n",
        "pl.plot(train_line_x, train_line_y, 'k--', color=\"black\")\n",
        "\n",
        "pl.title(clf_name)\n",
        "print(\"\\n\")\n",
        "print (\"Confusion Matrix for %s:\" % clf_name)\n",
        "print (confusion_matrix(test.color, test.pred_color))\n",
        "pl.show()"
      ],
      "execution_count": 238,
      "outputs": [
        {
          "output_type": "stream",
          "text": [
            "\n",
            "\n",
            "Confusion Matrix for SVM:\n",
            "[[4189  219]\n",
            " [   0  592]]\n"
          ],
          "name": "stdout"
        },
        {
          "output_type": "display_data",
          "data": {
            "image/png": "[encoded data removed]",
            "text/plain": [
              "<Figure size 432x288 with 1 Axes>"
            ]
          },
          "metadata": {
            "tags": [],
            "needs_background": "light"
          }
        }
      ]
    }
  ]
}