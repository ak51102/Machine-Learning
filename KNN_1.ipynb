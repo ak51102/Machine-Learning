{
  "nbformat": 4,
  "nbformat_minor": 0,
  "metadata": {
    "colab": {
      "name": "KNN-1.ipynb",
      "provenance": [],
      "private_outputs": true,
      "authorship_tag": "ABX9TyOhpt4DdUQR7fZ+eHfPh21p",
      "include_colab_link": true
    },
    "kernelspec": {
      "name": "python3",
      "display_name": "Python 3"
    }
  },
  "cells": [
    {
      "cell_type": "markdown",
      "metadata": {
        "id": "view-in-github",
        "colab_type": "text"
      },
      "source": [
        "<a href=\"https://colab.research.google.com/github/cagBRT/Machine-Learning/blob/master/KNN_1.ipynb\" target=\"_parent\"><img src=\"https://colab.research.google.com/assets/colab-badge.svg\" alt=\"Open In Colab\"/></a>"
      ]
    },
    {
      "cell_type": "code",
      "metadata": {
        "id": "_3ymuUvgwdqc",
        "colab_type": "code",
        "colab": {}
      },
      "source": [
        "from sklearn.neighbors import KNeighborsClassifier\n",
        "import matplotlib.pyplot as plt"
      ],
      "execution_count": 0,
      "outputs": []
    },
    {
      "cell_type": "markdown",
      "metadata": {
        "id": "JujwqVUtVNoh",
        "colab_type": "text"
      },
      "source": [
        "Create some data"
      ]
    },
    {
      "cell_type": "code",
      "metadata": {
        "id": "7GLThYzrVQMr",
        "colab_type": "code",
        "colab": {}
      },
      "source": [
        "X = [[0], [1], [2], [3], [5],[4], [-1],[-2],[-3] ]\n",
        "y = [0, 0, 1, 1, 1, 1, 0, 0, 0]"
      ],
      "execution_count": 0,
      "outputs": []
    },
    {
      "cell_type": "code",
      "metadata": {
        "id": "l6tUV7LBVRP8",
        "colab_type": "code",
        "colab": {}
      },
      "source": [
        "plt.figure(figsize=(10,5))\n",
        "fig = plt.scatter(X,y, marker='o', c=X,s=25)\n",
        "plt.colorbar(fig)\n",
        "plt.show()"
      ],
      "execution_count": 0,
      "outputs": []
    },
    {
      "cell_type": "markdown",
      "metadata": {
        "id": "Iv84EtDlWGkV",
        "colab_type": "text"
      },
      "source": [
        "Create a model and train it on the data"
      ]
    },
    {
      "cell_type": "code",
      "metadata": {
        "id": "2xEvdZXgWL5G",
        "colab_type": "code",
        "colab": {}
      },
      "source": [
        "neigh = KNeighborsClassifier(n_neighbors=3)\n",
        "neigh.fit(X, y)"
      ],
      "execution_count": 0,
      "outputs": []
    },
    {
      "cell_type": "markdown",
      "metadata": {
        "id": "BE8uRrR2WPGW",
        "colab_type": "text"
      },
      "source": [
        "Make predictions<br>\n",
        "\n",
        "The predict_proba() returns the number of votes for each class, divided by the number of trees in the forest. Your precision is exactly 1/n_estimators"
      ]
    },
    {
      "cell_type": "code",
      "metadata": {
        "id": "AXJC9u-dwTEs",
        "colab_type": "code",
        "colab": {}
      },
      "source": [
        "testp = 2.4\n",
        "print(neigh.predict([[testp]]))"
      ],
      "execution_count": 0,
      "outputs": []
    },
    {
      "cell_type": "code",
      "metadata": {
        "id": "VxPz4ZIxWWQa",
        "colab_type": "code",
        "colab": {}
      },
      "source": [
        "plt.figure(figsize=(10,3))\n",
        "fig = plt.scatter(X,y, marker='o', c=X,s=25)\n",
        "plt.plot(testp,neigh.predict([[testp]]),'r+' )\n",
        "plt.colorbar(fig)\n",
        "plt.show()"
      ],
      "execution_count": 0,
      "outputs": []
    }
  ]
}