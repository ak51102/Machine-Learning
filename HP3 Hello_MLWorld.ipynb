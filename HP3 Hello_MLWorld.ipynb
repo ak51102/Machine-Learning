{
  "nbformat": 4,
  "nbformat_minor": 0,
  "metadata": {
    "colab": {
      "name": "Hello MLWorld",
      "provenance": [],
      "private_outputs": true,
      "collapsed_sections": [],
      "authorship_tag": "ABX9TyPmzwQ+Qe/sqUhX0Bi65cHx",
      "include_colab_link": true
    },
    "kernelspec": {
      "name": "python3",
      "display_name": "Python 3"
    }
  },
  "cells": [
    {
      "cell_type": "markdown",
      "metadata": {
        "id": "view-in-github",
        "colab_type": "text"
      },
      "source": [
        "<a href=\"https://colab.research.google.com/github/cagBRT/Machine-Learning/blob/master/Hello_MLWorld.ipynb\" target=\"_parent\"><img src=\"https://colab.research.google.com/assets/colab-badge.svg\" alt=\"Open In Colab\"/></a>"
      ]
    },
    {
      "cell_type": "markdown",
      "metadata": {
        "id": "bACVIkiaRP1j",
        "colab_type": "text"
      },
      "source": [
        "The Hello World of Machine Learning\n"
      ]
    },
    {
      "cell_type": "markdown",
      "metadata": {
        "id": "tA8gYuk7RWjG",
        "colab_type": "text"
      },
      "source": [
        "**Install the libraries**:<br>\n",
        "scipy<br>\n",
        "numpy<br>\n",
        "matplotlib<br>\n",
        "pandas<br>\n",
        "sklearn<br>"
      ]
    },
    {
      "cell_type": "code",
      "metadata": {
        "id": "okGRSJvyREQE",
        "colab_type": "code",
        "colab": {}
      },
      "source": [
        "# Python version\n",
        "import sys\n",
        "print('Python: {}'.format(sys.version))\n",
        "# scipy\n",
        "import scipy\n",
        "print('scipy: {}'.format(scipy.__version__))\n",
        "# numpy\n",
        "import numpy\n",
        "print('numpy: {}'.format(numpy.__version__))\n",
        "# matplotlib\n",
        "import matplotlib\n",
        "print('matplotlib: {}'.format(matplotlib.__version__))\n",
        "# pandas\n",
        "import pandas\n",
        "print('pandas: {}'.format(pandas.__version__))\n",
        "# scikit-learn\n",
        "import sklearn\n",
        "print('sklearn: {}'.format(sklearn.__version__))"
      ],
      "execution_count": 0,
      "outputs": []
    },
    {
      "cell_type": "code",
      "metadata": {
        "id": "gtFZ6L8WRx1X",
        "colab_type": "code",
        "colab": {}
      },
      "source": [
        "# Load libraries\n",
        "from pandas import read_csv\n",
        "from pandas.plotting import scatter_matrix\n",
        "from matplotlib import pyplot\n",
        "from sklearn.model_selection import train_test_split\n",
        "from sklearn.model_selection import cross_val_score\n",
        "from sklearn.model_selection import StratifiedKFold\n",
        "from sklearn.metrics import classification_report\n",
        "from sklearn.metrics import confusion_matrix\n",
        "from sklearn.metrics import accuracy_score\n",
        "from sklearn.linear_model import LogisticRegression\n",
        "from sklearn.tree import DecisionTreeClassifier\n",
        "from sklearn.neighbors import KNeighborsClassifier\n",
        "from sklearn.discriminant_analysis import LinearDiscriminantAnalysis\n",
        "from sklearn.naive_bayes import GaussianNB\n",
        "from sklearn.svm import SVC"
      ],
      "execution_count": 0,
      "outputs": []
    },
    {
      "cell_type": "markdown",
      "metadata": {
        "id": "3snXuieqRrZx",
        "colab_type": "text"
      },
      "source": [
        "**Load the Data**\n"
      ]
    },
    {
      "cell_type": "code",
      "metadata": {
        "id": "MujT6dYHR4_6",
        "colab_type": "code",
        "colab": {}
      },
      "source": [
        "# Load dataset\n",
        "url = \"https://raw.githubusercontent.com/jbrownlee/Datasets/master/iris.csv\"\n",
        "names = ['sepal-length', 'sepal-width', 'petal-length', 'petal-width', 'class']\n",
        "dataset = read_csv(url, names=names)"
      ],
      "execution_count": 0,
      "outputs": []
    },
    {
      "cell_type": "markdown",
      "metadata": {
        "id": "IBe4CJv2R9Wm",
        "colab_type": "text"
      },
      "source": [
        "**Understand the dataset**"
      ]
    },
    {
      "cell_type": "code",
      "metadata": {
        "id": "GxOpvlzvSA_J",
        "colab_type": "code",
        "colab": {}
      },
      "source": [
        "# shape\n",
        "print(dataset.shape)"
      ],
      "execution_count": 0,
      "outputs": []
    },
    {
      "cell_type": "code",
      "metadata": {
        "id": "NX0JuE46SLFU",
        "colab_type": "code",
        "colab": {}
      },
      "source": [
        "# head\n",
        "print(dataset.head(20))"
      ],
      "execution_count": 0,
      "outputs": []
    },
    {
      "cell_type": "code",
      "metadata": {
        "id": "cnauZoP3SOMq",
        "colab_type": "code",
        "colab": {}
      },
      "source": [
        "# descriptions\n",
        "print(dataset.describe())"
      ],
      "execution_count": 0,
      "outputs": []
    },
    {
      "cell_type": "markdown",
      "metadata": {
        "id": "UJrLoKUISRHH",
        "colab_type": "text"
      },
      "source": [
        "**Class Distribution**<br>"
      ]
    },
    {
      "cell_type": "code",
      "metadata": {
        "id": "rCJGuqj0SW3W",
        "colab_type": "code",
        "colab": {}
      },
      "source": [
        "# class distribution\n",
        "print(dataset.groupby('class').size())"
      ],
      "execution_count": 0,
      "outputs": []
    },
    {
      "cell_type": "markdown",
      "metadata": {
        "id": "opBbLNBMSeAL",
        "colab_type": "text"
      },
      "source": [
        "**Visualize the Data**"
      ]
    },
    {
      "cell_type": "markdown",
      "metadata": {
        "id": "U_-lOrB9Sj8k",
        "colab_type": "text"
      },
      "source": [
        "**Univariate Plots**"
      ]
    },
    {
      "cell_type": "code",
      "metadata": {
        "id": "ErHFVp-KSmeX",
        "colab_type": "code",
        "colab": {}
      },
      "source": [
        "# box and whisker plots\n",
        "dataset.plot(kind='box', subplots=True, layout=(2,2), sharex=False, sharey=False)\n",
        "pyplot.show()"
      ],
      "execution_count": 0,
      "outputs": []
    },
    {
      "cell_type": "markdown",
      "metadata": {
        "id": "BKzCMvDuSu_N",
        "colab_type": "text"
      },
      "source": [
        "**Create a histogram**"
      ]
    },
    {
      "cell_type": "code",
      "metadata": {
        "id": "feqGBTdWSzcp",
        "colab_type": "code",
        "colab": {}
      },
      "source": [
        "# histograms\n",
        "dataset.hist()\n",
        "pyplot.show()"
      ],
      "execution_count": 0,
      "outputs": []
    },
    {
      "cell_type": "markdown",
      "metadata": {
        "id": "ImTBw-vkS2bP",
        "colab_type": "text"
      },
      "source": [
        "**Multivariate Plots**<br>\n",
        "The diagonal grouping of some pairs of attributes suggests a high correlation and a predictable relationship."
      ]
    },
    {
      "cell_type": "code",
      "metadata": {
        "id": "0RnWT0ZhS6QE",
        "colab_type": "code",
        "colab": {}
      },
      "source": [
        "# scatter plot matrix\n",
        "scatter_matrix(dataset)\n",
        "pyplot.show()"
      ],
      "execution_count": 0,
      "outputs": []
    },
    {
      "cell_type": "markdown",
      "metadata": {
        "id": "1Op2dWZlTSSH",
        "colab_type": "text"
      },
      "source": [
        "**Create a validation dataset**<br>\n",
        "Hold back some data that the algorithms will not get to see and we will use this data to get a second and independent idea of how accurate the best model might actually be."
      ]
    },
    {
      "cell_type": "code",
      "metadata": {
        "id": "c54zDb4CTe-U",
        "colab_type": "code",
        "colab": {}
      },
      "source": [
        "# Split-out validation dataset\n",
        "array = dataset.values\n",
        "X = array[:,0:4]\n",
        "y = array[:,4]\n",
        "X_train, X_validation, Y_train, Y_validation = train_test_split(X, y, test_size=0.20, random_state=1)"
      ],
      "execution_count": 0,
      "outputs": []
    },
    {
      "cell_type": "markdown",
      "metadata": {
        "id": "2hQ98jPxUCfJ",
        "colab_type": "text"
      },
      "source": [
        "**Test Harness**<br>\n",
        "Use stratified 10-fold cross validation to estimate model accuracy. <br>\n",
        "Stratified means that each fold or split of the dataset will aim to have the same distribution of example by class as exist in the whole training dataset.<br>\n"
      ]
    },
    {
      "cell_type": "markdown",
      "metadata": {
        "id": "LxklBfqHUUCZ",
        "colab_type": "text"
      },
      "source": [
        "**Build Models**: <br>\n",
        "Logistic Regression (LR)<br>\n",
        "Linear Discriminant Analysis (LDA)<br>\n",
        "K-Nearest Neighbors (KNN).<br>\n",
        "Classification and Regression Trees (CART).<br>\n",
        "Gaussian Naive Bayes (NB).<br>\n",
        "Support Vector Machines (SVM).<br>"
      ]
    },
    {
      "cell_type": "code",
      "metadata": {
        "id": "8ivztcA6T45W",
        "colab_type": "code",
        "colab": {}
      },
      "source": [
        "# Spot Check Algorithms\n",
        "models = []\n",
        "models.append(('LR', LogisticRegression(solver='liblinear', multi_class='ovr')))\n",
        "models.append(('LDA', LinearDiscriminantAnalysis()))\n",
        "models.append(('KNN', KNeighborsClassifier()))\n",
        "models.append(('CART', DecisionTreeClassifier()))\n",
        "models.append(('NB', GaussianNB()))\n",
        "models.append(('SVM', SVC(gamma='auto')))\n",
        "# evaluate each model in turn\n",
        "results = []\n",
        "names = []\n",
        "for name, model in models:\n",
        "\tkfold = StratifiedKFold(n_splits=10, random_state=1, shuffle=True)\n",
        "\tcv_results = cross_val_score(model, X_train, Y_train, cv=kfold, scoring='accuracy')\n",
        "\tresults.append(cv_results)\n",
        "\tnames.append(name)\n",
        "\tprint('%s: %f (%f)' % (name, cv_results.mean(), cv_results.std()))"
      ],
      "execution_count": 0,
      "outputs": []
    },
    {
      "cell_type": "markdown",
      "metadata": {
        "id": "m-fCvtKMU09I",
        "colab_type": "text"
      },
      "source": [
        "**Compare the accuracy scores**<br>\n",
        "There is a population of accuracy measures for each algorithm because each algorithm was evaluated 10 times (via 10 fold-cross validation)."
      ]
    },
    {
      "cell_type": "code",
      "metadata": {
        "id": "bzsS1K6JUsen",
        "colab_type": "code",
        "colab": {}
      },
      "source": [
        "# Compare Algorithms\n",
        "pyplot.boxplot(results, labels=names)\n",
        "pyplot.title('Algorithm Comparison')\n",
        "pyplot.show()\n"
      ],
      "execution_count": 0,
      "outputs": []
    },
    {
      "cell_type": "markdown",
      "metadata": {
        "id": "wQ0w-W0vVIA8",
        "colab_type": "text"
      },
      "source": [
        "**Choose an Algorithm for Making Predictions**<br>\n"
      ]
    },
    {
      "cell_type": "code",
      "metadata": {
        "id": "HE2UlD5EVQff",
        "colab_type": "code",
        "colab": {}
      },
      "source": [
        "# Make predictions on validation dataset\n",
        "model = SVC(gamma='auto')\n",
        "model.fit(X_train, Y_train)\n",
        "predictions = model.predict(X_validation)"
      ],
      "execution_count": 0,
      "outputs": []
    },
    {
      "cell_type": "code",
      "metadata": {
        "id": "08V9cL8yVYsN",
        "colab_type": "code",
        "colab": {}
      },
      "source": [
        "# Evaluate predictions\n",
        "print(accuracy_score(Y_validation, predictions))\n",
        "print(confusion_matrix(Y_validation, predictions))\n",
        "print(classification_report(Y_validation, predictions))"
      ],
      "execution_count": 0,
      "outputs": []
    }
  ]
}
