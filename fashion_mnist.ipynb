{
  "nbformat": 4,
  "nbformat_minor": 0,
  "metadata": {
    "colab": {
      "name": "fashion mnist.ipynb",
      "provenance": [],
      "private_outputs": true,
      "collapsed_sections": [],
      "authorship_tag": "ABX9TyPnV9pMUQcXWbQBzPvu22m4",
      "include_colab_link": true
    },
    "kernelspec": {
      "name": "python3",
      "display_name": "Python 3"
    },
    "accelerator": "GPU"
  },
  "cells": [
    {
      "cell_type": "markdown",
      "metadata": {
        "id": "view-in-github",
        "colab_type": "text"
      },
      "source": [
        "<a href=\"https://colab.research.google.com/github/cagBRT/Machine-Learning/blob/master/fashion_mnist.ipynb\" target=\"_parent\"><img src=\"https://colab.research.google.com/assets/colab-badge.svg\" alt=\"Open In Colab\"/></a>"
      ]
    },
    {
      "cell_type": "markdown",
      "metadata": {
        "id": "hev4s-gpA4Eo",
        "colab_type": "text"
      },
      "source": [
        "https://www.kaggle.com/overload10/keras-conv2d-sample-using-fashion-mnist"
      ]
    },
    {
      "cell_type": "markdown",
      "metadata": {
        "id": "iK3gZsPSFSCP",
        "colab_type": "text"
      },
      "source": [
        "# **Set the runtime to GPU**"
      ]
    },
    {
      "cell_type": "code",
      "metadata": {
        "id": "aq-EPIuF_zgD",
        "colab_type": "code",
        "colab": {}
      },
      "source": [
        "# This Python 3 environment comes with many helpful analytics libraries installed\n",
        "# It is defined by the kaggle/python docker image: https://github.com/kaggle/docker-python\n",
        "# For example, here's several helpful packages to load in \n",
        "\n",
        "import numpy as np # linear algebra\n",
        "import pandas as pd # data processing, CSV file I/O (e.g. pd.read_csv)\n",
        "import matplotlib.pyplot as plt\n",
        "# Input data files are available in the \"../input/\" directory.\n",
        "# For example, running this (by clicking run or pressing Shift+Enter) will list the files in the input directory\n",
        "\n",
        "import os\n",
        "os.environ['TF_CPP_MIN_LOG_LEVEL']='2'\n",
        "# Any results you write to the current directory are saved as output.\n",
        "\n",
        "import keras\n",
        "from keras.datasets import fashion_mnist\n",
        "from keras.models import Sequential\n",
        "from keras.layers import Dense, Dropout, Flatten\n",
        "from keras.layers import Conv2D, MaxPooling2D\n",
        "from keras import backend as K\n",
        "#Adding Callback for early stopping\n",
        "from keras.callbacks import EarlyStopping"
      ],
      "execution_count": 0,
      "outputs": []
    },
    {
      "cell_type": "code",
      "metadata": {
        "id": "HOc5X6LW_7CF",
        "colab_type": "code",
        "colab": {}
      },
      "source": [
        "#Loading Data\n",
        "(X_train,y_train),(X_test,y_test) = fashion_mnist.load_data()"
      ],
      "execution_count": 0,
      "outputs": []
    },
    {
      "cell_type": "code",
      "metadata": {
        "id": "3FGhOs7NAAcC",
        "colab_type": "code",
        "colab": {}
      },
      "source": [
        "#defining Parameters\n",
        "num_classes = 10\n",
        "batch_size = 128\n",
        "epoch = 8\n",
        "img_rows, img_cols = 28,28"
      ],
      "execution_count": 0,
      "outputs": []
    },
    {
      "cell_type": "code",
      "metadata": {
        "id": "-JFftXz7AD9Y",
        "colab_type": "code",
        "colab": {}
      },
      "source": [
        "#Deal with format issues between different backends. Some put the no. of channels in the image before the width and height.\n",
        "if K.image_data_format() == 'channels_first':\n",
        "    X_train=X_train.reshape(X_train.shape[0],1,img_rows,img_cols)\n",
        "    X_test =X_test.reshape(X_test.shape[0],1,img_rows,img_cols)\n",
        "    input_shape=(1,img_rows,img_cols)\n",
        "else:\n",
        "    X_train=X_train.reshape(X_train.shape[0],img_rows,img_cols,1)\n",
        "    X_test =X_test.reshape(X_test.shape[0],img_rows,img_cols,1)\n",
        "    input_shape=(img_rows,img_cols,1)"
      ],
      "execution_count": 0,
      "outputs": []
    },
    {
      "cell_type": "code",
      "metadata": {
        "id": "-kT-ecK-AHUl",
        "colab_type": "code",
        "colab": {}
      },
      "source": [
        "#Convert and  scale the test and training data. Bring the scale from 0-255 to 0-1.\n",
        "X_train = X_train.astype('float32')\n",
        "X_test = X_test.astype('float32')\n",
        "X_train /= 255\n",
        "X_test /= 255"
      ],
      "execution_count": 0,
      "outputs": []
    },
    {
      "cell_type": "code",
      "metadata": {
        "id": "YC9o-UqNAKUr",
        "colab_type": "code",
        "colab": {}
      },
      "source": [
        "#Convert class vectors to binary class matrices using One-hot encoding\n",
        "y_train = keras.utils.to_categorical(y_train,num_classes=num_classes)\n",
        "y_test = keras.utils.to_categorical(y_test,num_classes=num_classes)"
      ],
      "execution_count": 0,
      "outputs": []
    },
    {
      "cell_type": "code",
      "metadata": {
        "id": "z75f0zKpANV6",
        "colab_type": "code",
        "colab": {}
      },
      "source": [
        "#Define the model\n",
        "model = Sequential()\n",
        "model.add(Conv2D(32,kernel_size=(3,3),activation='relu',input_shape=input_shape))\n",
        "model.add(Conv2D(64,kernel_size=(3,3),activation='relu'))\n",
        "model.add(MaxPooling2D(pool_size=(2,2)))  \n",
        "model.add(Conv2D(64,kernel_size=(3,3),activation='relu'))\n",
        "model.add(Conv2D(64,kernel_size=(3,3),activation='relu'))\n",
        "model.add(MaxPooling2D(pool_size=(2,2)))\n",
        "model.add(Flatten())\n",
        "model.add(Dense(128,activation='relu'))\n",
        "model.add(Dropout(0.5))\n",
        "model.add(Dense(num_classes,activation='softmax'))\n",
        "\n",
        "model.summary()"
      ],
      "execution_count": 0,
      "outputs": []
    },
    {
      "cell_type": "code",
      "metadata": {
        "id": "TV7l3XSTAQ9o",
        "colab_type": "code",
        "colab": {}
      },
      "source": [
        "my_callback=[EarlyStopping(monitor='val_acc',patience=5,mode=max)]\n",
        "\n",
        "#define compile to minimize categorical loss\n",
        "model.compile(loss=keras.losses.categorical_crossentropy,\n",
        "              optimizer=keras.optimizers.adadelta(),\n",
        "              metrics=['accuracy'])"
      ],
      "execution_count": 0,
      "outputs": []
    },
    {
      "cell_type": "code",
      "metadata": {
        "id": "9LVXFyXoAUeN",
        "colab_type": "code",
        "colab": {}
      },
      "source": [
        "#Train the model and test/validate the mode with the test data after each cycle(epoch) through the training data\n",
        "#Return history of loss and accuracy for each epoch\n",
        "hist= model.fit(X_train,y_train,\n",
        "               batch_size=batch_size,\n",
        "               epochs=epoch,verbose=1,callbacks=my_callback,              \n",
        "               validation_data=(X_test,y_test))"
      ],
      "execution_count": 0,
      "outputs": []
    },
    {
      "cell_type": "code",
      "metadata": {
        "id": "gf1ZljFiAmKi",
        "colab_type": "code",
        "colab": {}
      },
      "source": [
        "#score = model.evaluate(X_test,y_test,verbose=0)\n",
        "#print('Test loss: ', score[0])\n",
        "#print('Test accuracy', score[1])\n",
        "\n",
        "#hist.history.keys()\n",
        "\n",
        "epoch_list = list(range(1,len(hist.history['acc'])+1))  #Values for x axis[1,2,3,4...# of epochs]\n",
        "plt.plot(epoch_list, hist.history['acc'],epoch_list,hist.history['val_acc'])\n",
        "plt.legend(('Training accuracy','Validation Accuracy'))\n",
        "plt.show()\n"
      ],
      "execution_count": 0,
      "outputs": []
    }
  ]
}